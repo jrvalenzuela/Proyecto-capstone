{
 "cells": [
  {
   "cell_type": "code",
   "execution_count": 1,
   "metadata": {},
   "outputs": [],
   "source": [
    "import pandas as pd\n",
    "from gurobipy import *\n",
    "from pyomo.environ import *"
   ]
  },
  {
   "cell_type": "code",
   "execution_count": 2,
   "metadata": {},
   "outputs": [],
   "source": [
    "xls = pd.ExcelFile('test_cases/b2_c2_comp.xlsx', engine='openpyxl')\n",
    "nombres= xls.sheet_names\n",
    "df1 = pd.read_excel(xls, nombres[0])\n",
    "df2 = pd.read_excel(xls, nombres[1])\n",
    "df3= pd.read_excel(xls, nombres[2])\n",
    "df4= pd.read_excel(xls, nombres[3])\n",
    "df5= pd.read_excel(xls, nombres[4])"
   ]
  },
  {
   "cell_type": "markdown",
   "metadata": {},
   "source": [
    "Se transforman los datos de los dataframes a diccionarios para el procesamiento de datos"
   ]
  },
  {
   "cell_type": "code",
   "execution_count": 3,
   "metadata": {},
   "outputs": [],
   "source": [
    "barcos_sheet = df1.to_dict(\"index\")\n",
    "compatibilidad_sheet = df2.to_dict()\n",
    "cargos_sheet = df3.to_dict(\"index\")\n",
    "costos_transporte_sheet = df4.to_dict(\"index\")\n",
    "costos_transporte_dict = {(costos_transporte_sheet[i]['ID_Barco'],costos_transporte_sheet[i]['Puerto_Origen'],costos_transporte_sheet[i]['Puerto_Destino']) : {'Tiempo_Viaje_hrs':costos_transporte_sheet[i]['Tiempo_Viaje_hrs'], 'Costo_Viaje_libras':costos_transporte_sheet[i]['Costo_Viaje_libras']} for i in costos_transporte_sheet.keys()}\n",
    "costos_tiempo_sheet = df5.to_dict(\"index\")\n",
    "costos_tiempo_dict = {(costos_tiempo_sheet[i]['ID_Barco'],costos_tiempo_sheet[i]['ID_Cargo']) : {'Tiempo_Origen_hrs':costos_tiempo_sheet[i]['Tiempo_Origen_hrs'], 'Costos_Origen_hrs':costos_tiempo_sheet[i]['Costos_Origen_hrs'], 'Tiempo_Destino_hrs':costos_tiempo_sheet[i]['Tiempo_Destino_hrs'], 'Costos_Destino_hrs':costos_tiempo_sheet[i]['Costos_Destino_hrs']} for i in costos_tiempo_sheet.keys()}"
   ]
  },
  {
   "cell_type": "code",
   "execution_count": 4,
   "metadata": {},
   "outputs": [
    {
     "data": {
      "text/plain": [
       "{'ID_Barco': {0: 1, 1: 2}, 'ID_Cargo_Compatible': {0: 1, 1: 1}}"
      ]
     },
     "execution_count": 4,
     "metadata": {},
     "output_type": "execute_result"
    }
   ],
   "source": [
    "compatibilidad_sheet"
   ]
  },
  {
   "cell_type": "code",
   "execution_count": 5,
   "metadata": {},
   "outputs": [
    {
     "data": {
      "text/plain": [
       "1"
      ]
     },
     "execution_count": 5,
     "metadata": {},
     "output_type": "execute_result"
    }
   ],
   "source": [
    "n_cargos = len(cargos_sheet)\n",
    "n_cargos"
   ]
  },
  {
   "cell_type": "markdown",
   "metadata": {},
   "source": [
    " La manera en que funcionan los nodos es: los primeros $n$ ($n =$ número de cargos) son los nodos de carga, los siguientes $n$ son los nodos de descarga, los siguientes $v$ ($v =$ número de barcos) son los nodos de origen, y los último v son los nodos de destino."
   ]
  },
  {
   "cell_type": "code",
   "execution_count": 6,
   "metadata": {},
   "outputs": [
    {
     "name": "stdout",
     "output_type": "stream",
     "text": [
      "[1, 2]\n"
     ]
    }
   ],
   "source": [
    "V = [1+i for i in barcos_sheet.keys()] ## conjunto barcos\n",
    "n_barcos = len(V)\n",
    "print(V)"
   ]
  },
  {
   "cell_type": "code",
   "execution_count": 7,
   "metadata": {},
   "outputs": [
    {
     "data": {
      "text/plain": [
       "{1: 16500, 2: 5800}"
      ]
     },
     "execution_count": 7,
     "metadata": {},
     "output_type": "execute_result"
    }
   ],
   "source": [
    "Kv= {} # conjunto capacidades de barcos\n",
    "for i in barcos_sheet.keys():\n",
    "    Kv[barcos_sheet[i]['ID_Barco']] =  barcos_sheet[i]['Capacidad']\n",
    "Kv"
   ]
  },
  {
   "cell_type": "code",
   "execution_count": 8,
   "metadata": {},
   "outputs": [
    {
     "name": "stdout",
     "output_type": "stream",
     "text": [
      "[1]\n",
      "[2]\n"
     ]
    }
   ],
   "source": [
    "# N^P\n",
    "nodos_carga= [cargos_sheet[i]['ID_Cargo'] for i in cargos_sheet.keys()]\n",
    "print(nodos_carga)\n",
    "\n",
    "#N^D\n",
    "nodos_descarga= [i+len(nodos_carga) for i in range(1,len(nodos_carga)+1)] ##conjunto nodos de descarga\n",
    "print(nodos_descarga)"
   ]
  },
  {
   "cell_type": "code",
   "execution_count": 9,
   "metadata": {},
   "outputs": [
    {
     "name": "stdout",
     "output_type": "stream",
     "text": [
      "{1: 3, 2: 4}\n",
      "{1: 5, 2: 6}\n",
      "{1: {'ID_Cargo': 1, 'ID_Puerto': 25, 'Tamano': 2368, 'Costo_SPOT': 354894, 'LT': 383, 'RT': 455}, 2: {'ID_Cargo': 1, 'ID_Puerto': 13, 'Tamano': 2368, 'Costo_SPOT': 354894, 'LT': 383, 'RT': 777}, 3: {'Costo_SPOT': 0, 'ID_Cargo': 0, 'ID_Puerto': 3, 'LT': 69, 'RT': 69, 'Tamano': 0}, 5: {'Costo_SPOT': 0, 'ID_Cargo': 0, 'ID_Puerto': 0, 'LT': 100000, 'RT': 100000, 'Tamano': 0}, 4: {'Costo_SPOT': 0, 'ID_Cargo': 0, 'ID_Puerto': 21, 'LT': 0, 'RT': 0, 'Tamano': 0}, 6: {'Costo_SPOT': 0, 'ID_Cargo': 0, 'ID_Puerto': 0, 'LT': 100000, 'RT': 100000, 'Tamano': 0}}\n"
     ]
    }
   ],
   "source": [
    "nodos = {}\n",
    "for i in range(n_cargos):\n",
    "    nodos[cargos_sheet[i]['ID_Cargo']] = {'ID_Cargo': cargos_sheet[i]['ID_Cargo'],\n",
    "                                          'ID_Puerto': cargos_sheet[i]['ID_Puerto_Origen'],\n",
    "                                          'Tamano': cargos_sheet[i]['Tamano'],\n",
    "                                          'Costo_SPOT': cargos_sheet[i]['Costo_SPOT'],\n",
    "                                          'LT': cargos_sheet[i]['LT_Carga'],\n",
    "                                          'RT': cargos_sheet[i]['RT_Carga']}\n",
    "    \n",
    "    nodos[cargos_sheet[i]['ID_Cargo']+n_cargos] = {'ID_Cargo': cargos_sheet[i]['ID_Cargo'],\n",
    "                                          'ID_Puerto': cargos_sheet[i]['ID_Puerto_Destino'],\n",
    "                                          'Tamano': cargos_sheet[i]['Tamano'],\n",
    "                                          'Costo_SPOT': cargos_sheet[i]['Costo_SPOT'],\n",
    "                                          'LT': cargos_sheet[i]['LT_Descarga'],\n",
    "                                          'RT': cargos_sheet[i]['RT_Descarga']}\n",
    "o = {}\n",
    "d = {}\n",
    "for v in V:\n",
    "    o[v] = n_cargos*2+v\n",
    "    nodos[n_cargos*2+v] = {'Costo_SPOT': 0,\n",
    "                           'ID_Cargo': 0,\n",
    "                           'ID_Puerto': barcos_sheet[v-1]['ID_Puerto '],\n",
    "                           'LT': barcos_sheet[v-1]['Tiempo_Inicio'],\n",
    "                           'RT': barcos_sheet[v-1]['Tiempo_Inicio'],\n",
    "                           'Tamano': 0}\n",
    "    d[v] = n_cargos*2+n_barcos+v\n",
    "    nodos[n_cargos*2+n_barcos+v] = {'Costo_SPOT': 0,\n",
    "                                    'ID_Cargo': 0,\n",
    "                                    'ID_Puerto': 0,\n",
    "                                    'LT': 100000,\n",
    "                                    'RT': 100000,\n",
    "                                    'Tamano': 0}\n",
    "print(o) # nodos de origen\n",
    "print(d) # nodos de destino\n",
    "print(nodos) # todos los nodos con su información"
   ]
  },
  {
   "cell_type": "code",
   "execution_count": 10,
   "metadata": {},
   "outputs": [
    {
     "data": {
      "text/plain": [
       "{1: [1, 2, 3, 5], 2: [1, 2, 4, 6]}"
      ]
     },
     "execution_count": 10,
     "metadata": {},
     "output_type": "execute_result"
    }
   ],
   "source": [
    "compatibilidad = {}\n",
    "for i in V:\n",
    "    compatibilidad[i] = [int(j) for j in list(df2.loc[i-1])[1:] if j>0]\n",
    "compatibilidad\n",
    "\n",
    "Nv = {}\n",
    "for i in V:\n",
    "    Nv[i] = []\n",
    "    for j in nodos.keys():\n",
    "        if nodos[j][\"ID_Cargo\"] in compatibilidad[i] or (j == i+n_cargos*2 or j==i+n_cargos*2+len(V)): \n",
    "            Nv[i].append(j)\n",
    "Nv"
   ]
  },
  {
   "cell_type": "code",
   "execution_count": 11,
   "metadata": {},
   "outputs": [
    {
     "name": "stdout",
     "output_type": "stream",
     "text": [
      "[(1, 1), (1, 2), (1, 3), (1, 5), (2, 1), (2, 2), (2, 3), (2, 5), (3, 1), (3, 2), (3, 3), (3, 5), (5, 1), (5, 2), (5, 3), (5, 5)]\n"
     ]
    }
   ],
   "source": [
    "\"\"\"import itertools\n",
    "Av = {}\n",
    "for v in V:\n",
    "    Av[v] = list(itertools.permutations(Nv[v],2))\n",
    "\"\"\"\n",
    "Av={}\n",
    "indices = []\n",
    "for v in V:\n",
    "    Av[v] = [] \n",
    "    for i in Nv[v]:\n",
    "        for j in Nv[v]:\n",
    "                Av[v].append((i,j))\n",
    "                indices.append((i,j,v))\n",
    "indices = tuplelist(indices)\n",
    "print(Av[1])"
   ]
  },
  {
   "cell_type": "code",
   "execution_count": 12,
   "metadata": {},
   "outputs": [
    {
     "name": "stdout",
     "output_type": "stream",
     "text": [
      "{1: [1], 2: [1]}\n",
      "{1: [2], 2: [2]}\n"
     ]
    }
   ],
   "source": [
    "NP_v = {}\n",
    "for v in V:\n",
    "    NP_v[v] = [i for i in nodos_carga if i in Nv[v]]\n",
    "\n",
    "ND_v = {}\n",
    "for v in V:\n",
    "    ND_v[v] = [i for i in nodos_descarga if i in Nv[v]]\n",
    "\n",
    "print(NP_v)\n",
    "print(ND_v)"
   ]
  },
  {
   "cell_type": "code",
   "execution_count": 13,
   "metadata": {},
   "outputs": [
    {
     "name": "stdout",
     "output_type": "stream",
     "text": [
      "{1: 383, 2: 383, 3: 69, 5: 100000, 4: 0, 6: 100000}\n",
      "{1: 455, 2: 777, 3: 69, 5: 100000, 4: 0, 6: 100000}\n"
     ]
    }
   ],
   "source": [
    "LT_i = {i:nodos[i][\"LT\"] for i in nodos.keys()} #lower bounds ventana de tiempo por nodo\n",
    "RT_i = {i:nodos[i][\"RT\"] for i in nodos.keys()} #upper bounds ventana de tiempo por nodo\n",
    "\n",
    "print(LT_i)\n",
    "print(RT_i)"
   ]
  },
  {
   "cell_type": "code",
   "execution_count": 14,
   "metadata": {},
   "outputs": [],
   "source": [
    "T_ijv={} # tiempo de entre i y j (tiempo de viaje + tiempo de operación en i)\n",
    "for i in nodos.keys():\n",
    "    T_ijv[i] = {} \n",
    "    for j in nodos.keys():\n",
    "        T_ijv[i][j] = {} \n",
    "        for v in V:\n",
    "            cargo_i= nodos[i][\"ID_Cargo\"]\n",
    "            cargo_j = nodos[j][\"ID_Cargo\"]\n",
    "            if i>n_cargos*2+len(V) or j>n_cargos*2+len(V):\n",
    "                T_ijv[i][j][v] = 0\n",
    "            else: \n",
    "                puerto_origen = nodos[i][\"ID_Puerto\"]\n",
    "                puerto_destino = nodos[j][\"ID_Puerto\"]\n",
    "                T_ijv[i][j][v] = costos_transporte_dict[v,puerto_origen,puerto_destino]['Tiempo_Viaje_hrs']\n",
    "                if 0<i<=n_cargos and (i,j) in Av[v]: \n",
    "                    T_ijv[i][j][v] += costos_tiempo_dict[v,cargo_i]['Tiempo_Origen_hrs']\n",
    "                if n_cargos*2>=i>n_cargos and (i,j) in Av[v]:\n",
    "                    T_ijv[i][j][v] += costos_tiempo_dict[v,cargo_i]['Tiempo_Destino_hrs']\n",
    "                \n",
    "                # se les asigna tiempo de operación igual a 0 a los (i,j) que no pertenecen a Av\n",
    "                # los (i,j) que no pertenecen a Av aún tienen el tiempo entre el puerto de i y j"
   ]
  },
  {
   "cell_type": "code",
   "execution_count": 15,
   "metadata": {},
   "outputs": [],
   "source": [
    "C_ijv={} # costo de entre i y j (costo de viaje + costo de operación en i)\n",
    "for i in nodos.keys():\n",
    "    C_ijv[i] = {} \n",
    "    for j in nodos.keys():\n",
    "        C_ijv[i][j] = {} \n",
    "        for v in V:\n",
    "            cargo_i= nodos[i][\"ID_Cargo\"]\n",
    "            cargo_j = nodos[j][\"ID_Cargo\"]\n",
    "            if i>n_cargos*2+len(V) or j>n_cargos*2+len(V):\n",
    "                C_ijv[i][j][v] = 0\n",
    "            else: \n",
    "                puerto_origen = nodos[i][\"ID_Puerto\"]\n",
    "                puerto_destino = nodos[j][\"ID_Puerto\"]\n",
    "                C_ijv[i][j][v] = costos_transporte_dict[v,puerto_origen,puerto_destino]['Costo_Viaje_libras']\n",
    "                if i==11 and j==2 and i==1:\n",
    "                    print(C_ijv[i][j][v])\n",
    "                if 0<i<=n_cargos and (i,j) in Av[v]:\n",
    "                    C_ijv[i][j][v] += costos_tiempo_dict[v,cargo_i]['Costos_Origen_hrs']\n",
    "\n",
    "                if n_cargos*2>=i>n_cargos and (i,j) in Av[v]:\n",
    "                    C_ijv[i][j][v] += costos_tiempo_dict[v,cargo_i]['Costos_Destino_hrs']"
   ]
  },
  {
   "cell_type": "code",
   "execution_count": 16,
   "metadata": {},
   "outputs": [
    {
     "name": "stdout",
     "output_type": "stream",
     "text": [
      "Qj:  {1: 2368, 2: 2368, 3: 0, 5: 0, 4: 0, 6: 0}\n",
      "\n",
      "\n",
      "Cs {1: 354894}\n"
     ]
    }
   ],
   "source": [
    "Qj={i:nodos[i][\"Tamano\"] for i in nodos.keys()}\n",
    "print(\"Qj: \",Qj)\n",
    "\n",
    "print(\"\\n\")\n",
    "\n",
    "Cs = {cargos_sheet[i]['ID_Cargo']:cargos_sheet[i]['Costo_SPOT'] for i in cargos_sheet.keys()}\n",
    "print(\"Cs\", Cs)"
   ]
  },
  {
   "cell_type": "code",
   "execution_count": 17,
   "metadata": {},
   "outputs": [],
   "source": [
    "nodos_index = [i for i in nodos.keys()]"
   ]
  },
  {
   "cell_type": "code",
   "execution_count": 18,
   "metadata": {},
   "outputs": [
    {
     "data": {
      "text/plain": [
       "True"
      ]
     },
     "execution_count": 18,
     "metadata": {},
     "output_type": "execute_result"
    }
   ],
   "source": [
    "1<2"
   ]
  },
  {
   "cell_type": "code",
   "execution_count": 19,
   "metadata": {},
   "outputs": [
    {
     "data": {
      "text/plain": [
       "'\\n\\ndef const_7_ub(model, i, v):\\n    if i in NP_v[v]:\\n        return model.l[i,v]<=Kv[v]\\n    return Constraint.Skip\\n\\ndef const_7_lb(model, i, v):\\n    if i in NP_v[v]:\\n        return 0<=model.l[i,v]\\n    return Constraint.Skip\\n    \\ndef const_11_ub(model, i, v):\\n    if i in Nv[v]:\\n        return model.t[i,v]<=RT_i[i]\\n    return Constraint.Skip\\n\\ndef const_11_lb(model, i, v):\\n    if i in Nv[v]:\\n        return LT_i[i]<=model.t[i,v]\\n    return Constraint.Skip\\n\\n'"
      ]
     },
     "execution_count": 19,
     "metadata": {},
     "output_type": "execute_result"
    }
   ],
   "source": [
    "def obj_rule(model):\n",
    "    return sum(C_ijv[i][j][v]*model.x[i,j,v]  for v in V for (i,j) in Av[v])+sum(Cs[i]*model.y[i] for i in nodos_carga)\n",
    "\n",
    "def const_1(model, i):\n",
    "    return sum(model.x[i,j,v]  for v in V for j in Nv[v]) + model.y[i] == 1\n",
    "\n",
    "def const_2(model, v):\n",
    "    return sum(model.x[o[v],j,v] for j in Nv[v]) == 1\n",
    "\n",
    "def const_3(model, i, v):\n",
    "    if i in Nv[v]:\n",
    "        if i!=o[v] and i!=d[v]:\n",
    "            return sum(model.x[i,j,v] for j in Nv[v])-sum(model.x[j,i,v] for j in Nv[v] if j!=i)==0\n",
    "            #return sum(model.x[i,j,v] for j in Nv[v])-sum(model.x[j,i,v] for j in Nv[v])==0\n",
    "    return Constraint.Skip\n",
    "\n",
    "def const_4(model, v):\n",
    "    return sum(model.x[j,d[v],v] for j in Nv[v]) == 1\n",
    "def const_5(model, i, j, v):\n",
    "    if j in NP_v[v]:\n",
    "        if (i,j) in Av[v]:\n",
    "            return model.l[i,v]+Qj[j]-model.l[j,v]<=Kv[v]*(1-model.x[i,j,v])\n",
    "    return Constraint.Skip\n",
    "\n",
    "def const_6(model, i, j, v):\n",
    "    if j in NP_v[v]:\n",
    "        if (i,n_cargos+j) in Av[v]:\n",
    "            return model.l[i,v]-Qj[j]-model.l[n_cargos+j,v]<=Kv[v]*(1-model.x[i,n_cargos+j,v])\n",
    "    return Constraint.Skip\n",
    "\n",
    "def const_7(model, i, v):\n",
    "    if i in NP_v[v]:\n",
    "        return (0, model.l[i,v], Kv[v])\n",
    "    return Constraint.Skip\n",
    "\n",
    "def const_8(model, i, j, v):\n",
    "    if (i,j) in Av[v]:\n",
    "        return model.t[i,v]+T_ijv[i][j][v]-model.t[j,v]<=(RT_i[i]+T_ijv[i][j][v])*(1-model.x[i,j,v])\n",
    "    return Constraint.Skip\n",
    "\n",
    "def const_9(model, i, v):\n",
    "    if i in NP_v[v]:\n",
    "        return sum(model.x[i,j,v] for j in Nv[v])-sum(model.x[n_cargos+i,j,v] for j in Nv[v] if j!=i+n_cargos)==0\n",
    "        #return sum(model.x[i,j,v] for j in Nv[v])-sum(model.x[n_cargos+i,j,v] for j in Nv[v])==0\n",
    "    return Constraint.Skip\n",
    "\n",
    "def const_10(model, i, v):\n",
    "    if i in NP_v[v]:\n",
    "        return model.t[i,v]+T_ijv[i][n_cargos+i][v]-model.t[n_cargos+i,v]<=0\n",
    "    return Constraint.Skip\n",
    "    \n",
    "def const_11(model, i, v):\n",
    "    if i in Nv[v]:\n",
    "        return (LT_i[i], model.t[i,v], RT_i[i])\n",
    "    return Constraint.Skip\n",
    "\"\"\"\n",
    "\n",
    "def const_7_ub(model, i, v):\n",
    "    if i in NP_v[v]:\n",
    "        return model.l[i,v]<=Kv[v]\n",
    "    return Constraint.Skip\n",
    "\n",
    "def const_7_lb(model, i, v):\n",
    "    if i in NP_v[v]:\n",
    "        return 0<=model.l[i,v]\n",
    "    return Constraint.Skip\n",
    "    \n",
    "def const_11_ub(model, i, v):\n",
    "    if i in Nv[v]:\n",
    "        return model.t[i,v]<=RT_i[i]\n",
    "    return Constraint.Skip\n",
    "\n",
    "def const_11_lb(model, i, v):\n",
    "    if i in Nv[v]:\n",
    "        return LT_i[i]<=model.t[i,v]\n",
    "    return Constraint.Skip\n",
    "\n",
    "\"\"\""
   ]
  },
  {
   "cell_type": "code",
   "execution_count": 20,
   "metadata": {},
   "outputs": [],
   "source": [
    "model_1 = ConcreteModel()"
   ]
  },
  {
   "cell_type": "code",
   "execution_count": 21,
   "metadata": {},
   "outputs": [],
   "source": [
    "model_1.x = Var(nodos_index, nodos_index, V, within=Binary)\n",
    "model_1.y = Var(nodos_carga, within=Binary)\n",
    "model_1.t = Var(nodos_index,V)\n",
    "model_1.l = Var(nodos_index,V, within=NonNegativeReals)"
   ]
  },
  {
   "cell_type": "code",
   "execution_count": 22,
   "metadata": {},
   "outputs": [
    {
     "data": {
      "text/plain": [
       "16500"
      ]
     },
     "execution_count": 22,
     "metadata": {},
     "output_type": "execute_result"
    }
   ],
   "source": [
    "Kv[1]"
   ]
  },
  {
   "cell_type": "code",
   "execution_count": 23,
   "metadata": {},
   "outputs": [
    {
     "data": {
      "text/plain": [
       "'\\nmodel_1.const_7_ub = Constraint(nodos_index, V, rule=const_7_ub)\\nmodel_1.const_7_lb = Constraint(nodos_index, V, rule=const_7_lb)\\nmodel_1.const_11_ub = Constraint(nodos_index, V, rule=const_11_ub)\\nmodel_1.const_11_lb = Constraint(nodos_index, V, rule=const_11_lb)\\n'"
      ]
     },
     "execution_count": 23,
     "metadata": {},
     "output_type": "execute_result"
    }
   ],
   "source": [
    "model_1.obj = Objective(rule=obj_rule)\n",
    "model_1.const_1 = Constraint(nodos_carga, rule=const_1)\n",
    "model_1.const_2 = Constraint(V, rule=const_2)\n",
    "model_1.const_3 = Constraint(nodos_index, V, rule=const_3)\n",
    "model_1.const_4 = Constraint(V, rule=const_4)\n",
    "model_1.const_5 = Constraint(nodos_index, nodos_index, V, rule=const_5)\n",
    "model_1.const_6 = Constraint(nodos_index, nodos_index, V, rule=const_6)\n",
    "model_1.const_7 = Constraint(nodos_index, V, rule=const_7)\n",
    "model_1.const_8 = Constraint(nodos_index, nodos_index, V, rule=const_8)\n",
    "model_1.const_9 = Constraint(nodos_index, V, rule=const_9)\n",
    "model_1.const_10 = Constraint(nodos_index, V, rule=const_10)\n",
    "model_1.const_11 = Constraint(nodos_index, V, rule=const_11)\n",
    "\n",
    "\"\"\"\n",
    "model_1.const_7_ub = Constraint(nodos_index, V, rule=const_7_ub)\n",
    "model_1.const_7_lb = Constraint(nodos_index, V, rule=const_7_lb)\n",
    "model_1.const_11_ub = Constraint(nodos_index, V, rule=const_11_ub)\n",
    "model_1.const_11_lb = Constraint(nodos_index, V, rule=const_11_lb)\n",
    "\"\"\""
   ]
  },
  {
   "cell_type": "code",
   "execution_count": 24,
   "metadata": {},
   "outputs": [
    {
     "data": {
      "text/plain": [
       "'Model was solved to optimality (subject to tolerances), and an optimal solution is available.'"
      ]
     },
     "execution_count": 24,
     "metadata": {},
     "output_type": "execute_result"
    }
   ],
   "source": [
    "solver_1 = SolverFactory('gurobi')\n",
    "solver_1.solve(model_1)['Solver'][0]['Message']"
   ]
  },
  {
   "cell_type": "code",
   "execution_count": 25,
   "metadata": {},
   "outputs": [
    {
     "data": {
      "text/plain": [
       "43532.0"
      ]
     },
     "execution_count": 25,
     "metadata": {},
     "output_type": "execute_result"
    }
   ],
   "source": [
    "model_1.obj()"
   ]
  },
  {
   "cell_type": "code",
   "execution_count": 26,
   "metadata": {},
   "outputs": [
    {
     "name": "stdout",
     "output_type": "stream",
     "text": [
      "x : Size=72, Index=x_index\n",
      "    Key       : Lower : Value : Upper : Fixed : Stale : Domain\n",
      "    (1, 1, 1) :     0 :   0.0 :     1 : False : False : Binary\n",
      "    (1, 1, 2) :     0 :   0.0 :     1 : False : False : Binary\n",
      "    (1, 2, 1) :     0 :   0.0 :     1 : False : False : Binary\n",
      "    (1, 2, 2) :     0 :   1.0 :     1 : False : False : Binary\n",
      "    (1, 3, 1) :     0 :   0.0 :     1 : False : False : Binary\n",
      "    (1, 3, 2) :     0 :  None :     1 : False :  True : Binary\n",
      "    (1, 4, 1) :     0 :  None :     1 : False :  True : Binary\n",
      "    (1, 4, 2) :     0 :   0.0 :     1 : False : False : Binary\n",
      "    (1, 5, 1) :     0 :   0.0 :     1 : False : False : Binary\n",
      "    (1, 5, 2) :     0 :  None :     1 : False :  True : Binary\n",
      "    (1, 6, 1) :     0 :  None :     1 : False :  True : Binary\n",
      "    (1, 6, 2) :     0 :   0.0 :     1 : False : False : Binary\n",
      "    (2, 1, 1) :     0 :   0.0 :     1 : False : False : Binary\n",
      "    (2, 1, 2) :     0 :   0.0 :     1 : False : False : Binary\n",
      "    (2, 2, 1) :     0 :   0.0 :     1 : False : False : Binary\n",
      "    (2, 2, 2) :     0 :   0.0 :     1 : False : False : Binary\n",
      "    (2, 3, 1) :     0 :   0.0 :     1 : False : False : Binary\n",
      "    (2, 3, 2) :     0 :  None :     1 : False :  True : Binary\n",
      "    (2, 4, 1) :     0 :  None :     1 : False :  True : Binary\n",
      "    (2, 4, 2) :     0 :   0.0 :     1 : False : False : Binary\n",
      "    (2, 5, 1) :     0 :   0.0 :     1 : False : False : Binary\n",
      "    (2, 5, 2) :     0 :  None :     1 : False :  True : Binary\n",
      "    (2, 6, 1) :     0 :  None :     1 : False :  True : Binary\n",
      "    (2, 6, 2) :     0 :   1.0 :     1 : False : False : Binary\n",
      "    (3, 1, 1) :     0 :   0.0 :     1 : False : False : Binary\n",
      "    (3, 1, 2) :     0 :  None :     1 : False :  True : Binary\n",
      "    (3, 2, 1) :     0 :   0.0 :     1 : False : False : Binary\n",
      "    (3, 2, 2) :     0 :  None :     1 : False :  True : Binary\n",
      "    (3, 3, 1) :     0 :   1.0 :     1 : False : False : Binary\n",
      "    (3, 3, 2) :     0 :  None :     1 : False :  True : Binary\n",
      "    (3, 4, 1) :     0 :  None :     1 : False :  True : Binary\n",
      "    (3, 4, 2) :     0 :  None :     1 : False :  True : Binary\n",
      "    (3, 5, 1) :     0 :   0.0 :     1 : False : False : Binary\n",
      "    (3, 5, 2) :     0 :  None :     1 : False :  True : Binary\n",
      "    (3, 6, 1) :     0 :  None :     1 : False :  True : Binary\n",
      "    (3, 6, 2) :     0 :  None :     1 : False :  True : Binary\n",
      "    (4, 1, 1) :     0 :  None :     1 : False :  True : Binary\n",
      "    (4, 1, 2) :     0 :   1.0 :     1 : False : False : Binary\n",
      "    (4, 2, 1) :     0 :  None :     1 : False :  True : Binary\n",
      "    (4, 2, 2) :     0 :   0.0 :     1 : False : False : Binary\n",
      "    (4, 3, 1) :     0 :  None :     1 : False :  True : Binary\n",
      "    (4, 3, 2) :     0 :  None :     1 : False :  True : Binary\n",
      "    (4, 4, 1) :     0 :  None :     1 : False :  True : Binary\n",
      "    (4, 4, 2) :     0 :   0.0 :     1 : False : False : Binary\n",
      "    (4, 5, 1) :     0 :  None :     1 : False :  True : Binary\n",
      "    (4, 5, 2) :     0 :  None :     1 : False :  True : Binary\n",
      "    (4, 6, 1) :     0 :  None :     1 : False :  True : Binary\n",
      "    (4, 6, 2) :     0 :   0.0 :     1 : False : False : Binary\n",
      "    (5, 1, 1) :     0 :   0.0 :     1 : False : False : Binary\n",
      "    (5, 1, 2) :     0 :  None :     1 : False :  True : Binary\n",
      "    (5, 2, 1) :     0 :   0.0 :     1 : False : False : Binary\n",
      "    (5, 2, 2) :     0 :  None :     1 : False :  True : Binary\n",
      "    (5, 3, 1) :     0 :   0.0 :     1 : False : False : Binary\n",
      "    (5, 3, 2) :     0 :  None :     1 : False :  True : Binary\n",
      "    (5, 4, 1) :     0 :  None :     1 : False :  True : Binary\n",
      "    (5, 4, 2) :     0 :  None :     1 : False :  True : Binary\n",
      "    (5, 5, 1) :     0 :   1.0 :     1 : False : False : Binary\n",
      "    (5, 5, 2) :     0 :  None :     1 : False :  True : Binary\n",
      "    (5, 6, 1) :     0 :  None :     1 : False :  True : Binary\n",
      "    (5, 6, 2) :     0 :  None :     1 : False :  True : Binary\n",
      "    (6, 1, 1) :     0 :  None :     1 : False :  True : Binary\n",
      "    (6, 1, 2) :     0 :   0.0 :     1 : False : False : Binary\n",
      "    (6, 2, 1) :     0 :  None :     1 : False :  True : Binary\n",
      "    (6, 2, 2) :     0 :   0.0 :     1 : False : False : Binary\n",
      "    (6, 3, 1) :     0 :  None :     1 : False :  True : Binary\n",
      "    (6, 3, 2) :     0 :  None :     1 : False :  True : Binary\n",
      "    (6, 4, 1) :     0 :  None :     1 : False :  True : Binary\n",
      "    (6, 4, 2) :     0 :   0.0 :     1 : False : False : Binary\n",
      "    (6, 5, 1) :     0 :  None :     1 : False :  True : Binary\n",
      "    (6, 5, 2) :     0 :  None :     1 : False :  True : Binary\n",
      "    (6, 6, 1) :     0 :  None :     1 : False :  True : Binary\n",
      "    (6, 6, 2) :     0 :   0.0 :     1 : False : False : Binary\n"
     ]
    }
   ],
   "source": [
    "model_1.x.pprint()"
   ]
  },
  {
   "cell_type": "code",
   "execution_count": 27,
   "metadata": {
    "scrolled": false
   },
   "outputs": [
    {
     "name": "stdout",
     "output_type": "stream",
     "text": [
      "(1, 2, 2)\n",
      "(2, 6, 2)\n",
      "(3, 3, 1)\n",
      "(5, 5, 1)\n",
      "(4, 1, 2)\n"
     ]
    }
   ],
   "source": [
    "for i in model_1.x:\n",
    "    if model_1.x[i].value == 1:\n",
    "        print(i)"
   ]
  },
  {
   "cell_type": "code",
   "execution_count": 28,
   "metadata": {},
   "outputs": [
    {
     "name": "stdout",
     "output_type": "stream",
     "text": [
      "y : Size=1, Index=y_index\n",
      "    Key : Lower : Value : Upper : Fixed : Stale : Domain\n",
      "      1 :     0 :   0.0 :     1 : False : False : Binary\n"
     ]
    }
   ],
   "source": [
    "model_1.y.pprint()"
   ]
  },
  {
   "cell_type": "code",
   "execution_count": 29,
   "metadata": {},
   "outputs": [
    {
     "name": "stdout",
     "output_type": "stream",
     "text": [
      "t : Size=12, Index=t_index\n",
      "    Key    : Lower : Value    : Upper : Fixed : Stale : Domain\n",
      "    (1, 1) :  None :    383.0 :  None : False : False :  Reals\n",
      "    (1, 2) :  None :    383.0 :  None : False : False :  Reals\n",
      "    (2, 1) :  None :    777.0 :  None : False : False :  Reals\n",
      "    (2, 2) :  None :    777.0 :  None : False : False :  Reals\n",
      "    (3, 1) :  None :     69.0 :  None : False : False :  Reals\n",
      "    (3, 2) :  None :     None :  None : False :  True :  Reals\n",
      "    (4, 1) :  None :     None :  None : False :  True :  Reals\n",
      "    (4, 2) :  None :      0.0 :  None : False : False :  Reals\n",
      "    (5, 1) :  None : 100000.0 :  None : False : False :  Reals\n",
      "    (5, 2) :  None :     None :  None : False :  True :  Reals\n",
      "    (6, 1) :  None :     None :  None : False :  True :  Reals\n",
      "    (6, 2) :  None : 100000.0 :  None : False : False :  Reals\n"
     ]
    }
   ],
   "source": [
    "model_1.t.pprint()"
   ]
  },
  {
   "cell_type": "code",
   "execution_count": 30,
   "metadata": {},
   "outputs": [
    {
     "name": "stdout",
     "output_type": "stream",
     "text": [
      "l : Size=12, Index=l_index\n",
      "    Key    : Lower : Value   : Upper : Fixed : Stale : Domain\n",
      "    (1, 1) :     0 : 16500.0 :  None : False : False : NonNegativeReals\n",
      "    (1, 2) :     0 :  5800.0 :  None : False : False : NonNegativeReals\n",
      "    (2, 1) :     0 : 30632.0 :  None : False : False : NonNegativeReals\n",
      "    (2, 2) :     0 :  9232.0 :  None : False : False : NonNegativeReals\n",
      "    (3, 1) :     0 :     0.0 :  None : False : False : NonNegativeReals\n",
      "    (3, 2) :     0 :    None :  None : False :  True : NonNegativeReals\n",
      "    (4, 1) :     0 :    None :  None : False :  True : NonNegativeReals\n",
      "    (4, 2) :     0 :     0.0 :  None : False : False : NonNegativeReals\n",
      "    (5, 1) :     0 :     0.0 :  None : False : False : NonNegativeReals\n",
      "    (5, 2) :     0 :    None :  None : False :  True : NonNegativeReals\n",
      "    (6, 1) :     0 :    None :  None : False :  True : NonNegativeReals\n",
      "    (6, 2) :     0 :     0.0 :  None : False : False : NonNegativeReals\n"
     ]
    }
   ],
   "source": [
    "model_1.l.pprint()"
   ]
  },
  {
   "cell_type": "code",
   "execution_count": 31,
   "metadata": {},
   "outputs": [
    {
     "name": "stdout",
     "output_type": "stream",
     "text": [
      "obj : Size=1, Index=None, Active=True\n",
      "    Key  : Active : Sense    : Expression\n",
      "    None :   True : minimize : 29590*x[1,1,1] + 58627*x[1,2,1] + 74921*x[1,3,1] + 55859*x[2,1,1] + 26822*x[2,2,1] + 50323*x[2,3,1] + 45331*x[3,1,1] + 23501*x[3,2,1] + 24240*x[1,1,2] + 42642*x[1,2,2] + 25130*x[1,4,2] + 39874*x[2,1,2] + 21472*x[2,2,2] + 39567*x[2,4,2] + 890*x[4,1,2] + 18095*x[4,2,2] + 354894*y[1]\n"
     ]
    }
   ],
   "source": [
    "model_1.obj.pprint()"
   ]
  },
  {
   "cell_type": "code",
   "execution_count": 32,
   "metadata": {},
   "outputs": [
    {
     "name": "stdout",
     "output_type": "stream",
     "text": [
      "const_7 : Size=2, Index=const_7_index, Active=True\n",
      "    Key    : Lower : Body   : Upper   : Active\n",
      "    (1, 1) :   0.0 : l[1,1] : 16500.0 :   True\n",
      "    (1, 2) :   0.0 : l[1,2] :  5800.0 :   True\n"
     ]
    }
   ],
   "source": [
    "model_1.const_7.pprint()"
   ]
  },
  {
   "cell_type": "code",
   "execution_count": 33,
   "metadata": {},
   "outputs": [
    {
     "data": {
      "text/plain": [
       "\"from pyomo.util.infeasible import log_infeasible_constraints\\nimport logging\\nlog_infeasible_constraints(model_1, log_expression=True, log_variables=True)\\nlogging.basicConfig(filename='example.log', encoding='utf-8', level=logging.INFO)\""
      ]
     },
     "execution_count": 33,
     "metadata": {},
     "output_type": "execute_result"
    }
   ],
   "source": [
    "\"\"\"from pyomo.util.infeasible import log_infeasible_constraints\n",
    "import logging\n",
    "log_infeasible_constraints(model_1, log_expression=True, log_variables=True)\n",
    "logging.basicConfig(filename='example.log', encoding='utf-8', level=logging.INFO)\"\"\""
   ]
  }
 ],
 "metadata": {
  "kernelspec": {
   "display_name": "Python 3",
   "language": "python",
   "name": "python3"
  },
  "language_info": {
   "codemirror_mode": {
    "name": "ipython",
    "version": 3
   },
   "file_extension": ".py",
   "mimetype": "text/x-python",
   "name": "python",
   "nbconvert_exporter": "python",
   "pygments_lexer": "ipython3",
   "version": "3.8.6"
  }
 },
 "nbformat": 4,
 "nbformat_minor": 4
}
