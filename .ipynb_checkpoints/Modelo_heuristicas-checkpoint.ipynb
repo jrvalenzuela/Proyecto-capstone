{
 "cells": [
  {
   "cell_type": "markdown",
   "metadata": {},
   "source": [
    "# Modelo resuelto con heurísticas"
   ]
  },
  {
   "cell_type": "markdown",
   "metadata": {},
   "source": [
    "* [Preprocesamiento de datos](#Preprocesamiento-de-datos)\n",
    "* [Heurísticas](#Heurísticas)"
   ]
  },
  {
   "cell_type": "markdown",
   "metadata": {},
   "source": [
    "## Preprocesamiento de datos "
   ]
  },
  {
   "cell_type": "code",
   "execution_count": 247,
   "metadata": {},
   "outputs": [],
   "source": [
    "import pandas as pd\n",
    "from gurobipy import *\n",
    "from pyomo.environ import *"
   ]
  },
  {
   "cell_type": "code",
   "execution_count": 248,
   "metadata": {},
   "outputs": [],
   "source": [
    "xls = pd.ExcelFile('Proyecto_1_TransporteMaritimo_Dataset1.xlsx', engine='openpyxl')\n",
    "nombres= xls.sheet_names\n",
    "df1 = pd.read_excel(xls, nombres[0])\n",
    "df2 = pd.read_excel(xls, nombres[1])\n",
    "df3= pd.read_excel(xls, nombres[2])\n",
    "df4= pd.read_excel(xls, nombres[3])\n",
    "df5= pd.read_excel(xls, nombres[4])"
   ]
  },
  {
   "cell_type": "markdown",
   "metadata": {},
   "source": [
    "Se transforman los datos de los dataframes a diccionarios para el procesamiento de datos"
   ]
  },
  {
   "cell_type": "code",
   "execution_count": 249,
   "metadata": {},
   "outputs": [],
   "source": [
    "barcos_sheet = df1.to_dict(\"index\")\n",
    "compatibilidad_sheet = df2.to_dict()\n",
    "cargos_sheet = df3.to_dict(\"index\")\n",
    "costos_transporte_sheet = df4.to_dict(\"index\")\n",
    "costos_transporte_dict = {(costos_transporte_sheet[i]['ID_Barco'],costos_transporte_sheet[i]['Puerto_Origen'],costos_transporte_sheet[i]['Puerto_Destino']) : {'Tiempo_Viaje_hrs':costos_transporte_sheet[i]['Tiempo_Viaje_hrs'], 'Costo_Viaje_libras':costos_transporte_sheet[i]['Costo_Viaje_libras']} for i in costos_transporte_sheet.keys()}\n",
    "costos_tiempo_sheet = df5.to_dict(\"index\")\n",
    "costos_tiempo_dict = {(costos_tiempo_sheet[i]['ID_Barco'],costos_tiempo_sheet[i]['ID_Cargo']) : {'Tiempo_Origen_hrs':costos_tiempo_sheet[i]['Tiempo_Origen_hrs'], 'Costos_Origen_hrs':costos_tiempo_sheet[i]['Costos_Origen_hrs'], 'Tiempo_Destino_hrs':costos_tiempo_sheet[i]['Tiempo_Destino_hrs'], 'Costos_Destino_hrs':costos_tiempo_sheet[i]['Costos_Destino_hrs']} for i in costos_tiempo_sheet.keys()}"
   ]
  },
  {
   "cell_type": "code",
   "execution_count": 250,
   "metadata": {},
   "outputs": [],
   "source": [
    "n_cargos = len([cargos_sheet[i]['ID_Cargo'] for i in cargos_sheet.keys() if cargos_sheet[i]['ID_Cargo']>=0])"
   ]
  },
  {
   "cell_type": "markdown",
   "metadata": {},
   "source": [
    " La manera en que funcionan los nodos es: los primeros $n$ ($n =$ número de cargos) son los nodos de carga, los siguientes $n$ son los nodos de descarga, los siguientes $v$ ($v =$ número de barcos) son los nodos de origen, y los último v son los nodos de destino."
   ]
  },
  {
   "cell_type": "code",
   "execution_count": 251,
   "metadata": {},
   "outputs": [],
   "source": [
    "V = [1+i for i in barcos_sheet.keys()] ## conjunto barcos\n",
    "n_barcos = len(V)"
   ]
  },
  {
   "cell_type": "code",
   "execution_count": 252,
   "metadata": {},
   "outputs": [],
   "source": [
    "Kv= {} # conjunto capacidades de barcos\n",
    "for i in barcos_sheet.keys():\n",
    "    Kv[barcos_sheet[i]['ID_Barco']] =  barcos_sheet[i]['Capacidad']"
   ]
  },
  {
   "cell_type": "code",
   "execution_count": 253,
   "metadata": {},
   "outputs": [],
   "source": [
    "# N^P\n",
    "nodos_carga= [cargos_sheet[i]['ID_Cargo'] for i in cargos_sheet.keys() if cargos_sheet[i]['ID_Cargo']>=0]\n",
    "\n",
    "#N^D\n",
    "nodos_descarga= [i+len(nodos_carga) for i in range(1,len(nodos_carga)+1)] ##conjunto nodos de descarga"
   ]
  },
  {
   "cell_type": "code",
   "execution_count": 254,
   "metadata": {},
   "outputs": [],
   "source": [
    "nodos = {}\n",
    "for i in range(n_cargos):\n",
    "    nodos[cargos_sheet[i]['ID_Cargo']] = {'ID_Cargo': cargos_sheet[i]['ID_Cargo'],\n",
    "                                          'ID_Puerto': cargos_sheet[i]['ID_Puerto_Origen'],\n",
    "                                          'Tamano': cargos_sheet[i]['Tamano'],\n",
    "                                          'Costo_SPOT': cargos_sheet[i]['Costo_SPOT'],\n",
    "                                          'LT': cargos_sheet[i]['LT_Carga'],\n",
    "                                          'RT': cargos_sheet[i]['RT_Carga']}\n",
    "    \n",
    "    nodos[cargos_sheet[i]['ID_Cargo']+n_cargos] = {'ID_Cargo': cargos_sheet[i]['ID_Cargo'],\n",
    "                                          'ID_Puerto': cargos_sheet[i]['ID_Puerto_Destino'],\n",
    "                                          'Tamano': cargos_sheet[i]['Tamano'],\n",
    "                                          'Costo_SPOT': cargos_sheet[i]['Costo_SPOT'],\n",
    "                                          'LT': cargos_sheet[i]['LT_Descarga'],\n",
    "                                          'RT': cargos_sheet[i]['RT_Descarga']}\n",
    "o = {}\n",
    "d = {}\n",
    "for v in V:\n",
    "    o[v] = n_cargos*2+v\n",
    "    nodos[n_cargos*2+v] = {'Costo_SPOT': 0,\n",
    "                           'ID_Cargo': 0,\n",
    "                           'ID_Puerto': barcos_sheet[v-1]['ID_Puerto '],\n",
    "                           'LT': barcos_sheet[v-1]['Tiempo_Inicio'],\n",
    "                           'RT': barcos_sheet[v-1]['Tiempo_Inicio'],\n",
    "                           'Tamano': 0}\n",
    "    d[v] = n_cargos*2+n_barcos+v\n",
    "    nodos[n_cargos*2+n_barcos+v] = {'Costo_SPOT': 0,\n",
    "                                    'ID_Cargo': 0,\n",
    "                                    'ID_Puerto': 0,\n",
    "                                    'LT': 100000,\n",
    "                                    'RT': 100000,\n",
    "                                    'Tamano': 0}"
   ]
  },
  {
   "cell_type": "code",
   "execution_count": 255,
   "metadata": {},
   "outputs": [],
   "source": [
    "compatibilidad = {}\n",
    "for i in V:\n",
    "    compatibilidad[i] = [int(j) for j in list(df2.loc[i-1])[1:] if j>0]\n",
    "compatibilidad\n",
    "\n",
    "Nv = {}\n",
    "for i in V:\n",
    "    Nv[i] = []\n",
    "    for j in nodos.keys():\n",
    "        if nodos[j][\"ID_Cargo\"] in compatibilidad[i] or (j == i+n_cargos*2 or j==i+n_cargos*2+len(V)): \n",
    "            Nv[i].append(j)"
   ]
  },
  {
   "cell_type": "code",
   "execution_count": 256,
   "metadata": {},
   "outputs": [],
   "source": [
    "\"\"\"import itertools\n",
    "Av = {}\n",
    "for v in V:\n",
    "    Av[v] = list(itertools.permutations(Nv[v],2))\n",
    "\"\"\"\n",
    "Av={}\n",
    "indices = []\n",
    "for v in V:\n",
    "    Av[v] = [] \n",
    "    for i in Nv[v]:\n",
    "        for j in Nv[v]:\n",
    "                Av[v].append((i,j))\n",
    "                indices.append((i,j,v))\n",
    "indices = tuplelist(indices)"
   ]
  },
  {
   "cell_type": "code",
   "execution_count": 257,
   "metadata": {},
   "outputs": [],
   "source": [
    "NP_v = {}\n",
    "for v in V:\n",
    "    NP_v[v] = [i for i in nodos_carga if i in Nv[v]]\n",
    "\n",
    "ND_v = {}\n",
    "for v in V:\n",
    "    ND_v[v] = [i for i in nodos_descarga if i in Nv[v]]\n"
   ]
  },
  {
   "cell_type": "code",
   "execution_count": 258,
   "metadata": {},
   "outputs": [],
   "source": [
    "LT_i = {i:nodos[i][\"LT\"] for i in nodos.keys()} #lower bounds ventana de tiempo por nodo\n",
    "RT_i = {i:nodos[i][\"RT\"] for i in nodos.keys()} #upper bounds ventana de tiempo por nodo\n"
   ]
  },
  {
   "cell_type": "code",
   "execution_count": 259,
   "metadata": {},
   "outputs": [],
   "source": [
    "T_ijv={} # tiempo de entre i y j (tiempo de viaje + tiempo de operación en i)\n",
    "for i in nodos.keys():\n",
    "    T_ijv[i] = {} \n",
    "    for j in nodos.keys():\n",
    "        T_ijv[i][j] = {} \n",
    "        for v in V:\n",
    "            cargo_i= nodos[i][\"ID_Cargo\"]\n",
    "            cargo_j = nodos[j][\"ID_Cargo\"]\n",
    "            if i>n_cargos*2+len(V) or j>n_cargos*2+len(V):\n",
    "                T_ijv[i][j][v] = 0\n",
    "            else: \n",
    "                puerto_origen = nodos[i][\"ID_Puerto\"]\n",
    "                puerto_destino = nodos[j][\"ID_Puerto\"]\n",
    "                T_ijv[i][j][v] = costos_transporte_dict[v,puerto_origen,puerto_destino]['Tiempo_Viaje_hrs']\n",
    "                if 0<i<=n_cargos and (i,j) in Av[v]: \n",
    "                    T_ijv[i][j][v] += costos_tiempo_dict[v,cargo_i]['Tiempo_Origen_hrs']\n",
    "                if n_cargos*2>=i>n_cargos and (i,j) in Av[v]:\n",
    "                    T_ijv[i][j][v] += costos_tiempo_dict[v,cargo_i]['Tiempo_Destino_hrs']\n",
    "                \n",
    "                # se les asigna tiempo de operación igual a 0 a los (i,j) que no pertenecen a Av\n",
    "                # los (i,j) que no pertenecen a Av aún tienen el tiempo entre el puerto de i y j"
   ]
  },
  {
   "cell_type": "code",
   "execution_count": 260,
   "metadata": {},
   "outputs": [],
   "source": [
    "C_ijv={} # costo de entre i y j (costo de viaje + costo de operación en i)\n",
    "for i in nodos.keys():\n",
    "    C_ijv[i] = {} \n",
    "    for j in nodos.keys():\n",
    "        C_ijv[i][j] = {} \n",
    "        for v in V:\n",
    "            cargo_i= nodos[i][\"ID_Cargo\"]\n",
    "            cargo_j = nodos[j][\"ID_Cargo\"]\n",
    "            if i>n_cargos*2+len(V) or j>n_cargos*2+len(V):\n",
    "                C_ijv[i][j][v] = 0\n",
    "            else: \n",
    "                puerto_origen = nodos[i][\"ID_Puerto\"]\n",
    "                puerto_destino = nodos[j][\"ID_Puerto\"]\n",
    "                C_ijv[i][j][v] = costos_transporte_dict[v,puerto_origen,puerto_destino]['Costo_Viaje_libras']\n",
    "                if i==11 and j==2 and i==1:\n",
    "                    print(C_ijv[i][j][v])\n",
    "                if 0<i<=n_cargos and (i,j) in Av[v]:\n",
    "                    C_ijv[i][j][v] += costos_tiempo_dict[v,cargo_i]['Costos_Origen_hrs']\n",
    "\n",
    "                if n_cargos*2>=i>n_cargos and (i,j) in Av[v]:\n",
    "                    C_ijv[i][j][v] += costos_tiempo_dict[v,cargo_i]['Costos_Destino_hrs']"
   ]
  },
  {
   "cell_type": "code",
   "execution_count": 261,
   "metadata": {},
   "outputs": [],
   "source": [
    "Qj={i:nodos[i][\"Tamano\"] for i in nodos.keys()}\n",
    "\n",
    "Cs = {cargos_sheet[i]['ID_Cargo']:cargos_sheet[i]['Costo_SPOT'] for i in cargos_sheet.keys()}"
   ]
  },
  {
   "cell_type": "code",
   "execution_count": 262,
   "metadata": {},
   "outputs": [],
   "source": [
    "nodos_index = [i for i in nodos.keys()]"
   ]
  },
  {
   "cell_type": "markdown",
   "metadata": {},
   "source": [
    "## Heurísticas"
   ]
  },
  {
   "cell_type": "markdown",
   "metadata": {},
   "source": [
    "Se define la función objetivo y las restricciones del modelo"
   ]
  },
  {
   "cell_type": "code",
   "execution_count": 263,
   "metadata": {},
   "outputs": [],
   "source": [
    "def obj_rule(model):\n",
    "    return sum(C_ijv[i][j][v]*model.x[i,j,v]  for v in V for (i,j) in Av[v])+sum(Cs[i]*model.y[i] for i in nodos_carga)\n",
    "\n",
    "def const_1(model, i):\n",
    "    #return sum(model.x[i,j,v]  for v in V for j in Nv[v]) + model.y[i] == 1\n",
    "    return sum(model.x[i,j,v]  for v in V for j in Nv[v] if i in Nv[v]) + model.y[i] == 1\n",
    "\n",
    "def const_2(model, v):\n",
    "    #return sum(model.x[o[v],j,v] for j in Nv[v]) == 1\n",
    "    return sum(model.x[o[v],j,v] for j in Nv[v] if o[v]!=j) == 1\n",
    "\n",
    "def const_3(model, i, v):\n",
    "    if i in Nv[v]:\n",
    "        if i!=o[v] and i!=d[v]:\n",
    "            #return sum(model.x[i,j,v] for j in Nv[v])-sum(model.x[j,i,v] for j in Nv[v] if j!=i)==0\n",
    "            return sum(model.x[i,j,v] for j in Nv[v])-sum(model.x[j,i,v] for j in Nv[v])==0\n",
    "    return Constraint.Skip\n",
    "\n",
    "def const_4(model, v):\n",
    "    #return sum(model.x[j,d[v],v] for j in Nv[v]) == 1\n",
    "    return sum(model.x[j,d[v],v] for j in Nv[v] if d[v]!=j) == 1\n",
    "\n",
    "def const_5(model, i, j, v):\n",
    "    if j in NP_v[v]:\n",
    "        if (i,j) in Av[v]:\n",
    "            return model.l[i,v]+Qj[j]-model.l[j,v]<=Kv[v]*(1-model.x[i,j,v])\n",
    "    return Constraint.Skip\n",
    "\n",
    "def const_6(model, i, j, v):\n",
    "    if j in NP_v[v]:\n",
    "        if (i,n_cargos+j) in Av[v]:\n",
    "            return model.l[i,v]-Qj[j]-model.l[n_cargos+j,v]<=Kv[v]*(1-model.x[i,n_cargos+j,v])\n",
    "    return Constraint.Skip\n",
    "\n",
    "def const_7(model, i, v):\n",
    "    if i in NP_v[v]:\n",
    "        return (0, model.l[i,v], Kv[v])\n",
    "    return Constraint.Skip\n",
    "\n",
    "def const_8(model, i, j, v):\n",
    "    if (i,j) in Av[v]:\n",
    "        return model.t[i,v]+T_ijv[i][j][v]-model.t[j,v]<=(RT_i[i]+T_ijv[i][j][v])*(1-model.x[i,j,v])\n",
    "    return Constraint.Skip\n",
    "\n",
    "def const_9(model, i, v):\n",
    "    if i in NP_v[v]:\n",
    "        #return sum(model.x[i,j,v] for j in Nv[v])-sum(model.x[n_cargos+i,j,v] for j in Nv[v] if j!=i+n_cargos)==0\n",
    "        return sum(model.x[i,j,v] for j in Nv[v])-sum(model.x[n_cargos+i,j,v] for j in Nv[v])==0\n",
    "    return Constraint.Skip\n",
    "\n",
    "def const_10(model, i, v):\n",
    "    if i in NP_v[v]:\n",
    "        return model.t[i,v]+T_ijv[i][n_cargos+i][v]-model.t[n_cargos+i,v]<=0\n",
    "    return Constraint.Skip\n",
    "    \n",
    "def const_11(model, i, v):\n",
    "    if i in Nv[v]:\n",
    "        return (LT_i[i], model.t[i,v], RT_i[i])\n",
    "    return Constraint.Skip"
   ]
  },
  {
   "cell_type": "markdown",
   "metadata": {},
   "source": [
    "**definir_modelo** retorna una instancia del modelo con sus variables, valor objetivo y restricciones"
   ]
  },
  {
   "cell_type": "code",
   "execution_count": 264,
   "metadata": {},
   "outputs": [],
   "source": [
    "def definir_modelo():\n",
    "    #crear modelo\n",
    "    model_1 = ConcreteModel()\n",
    "    #definir variables \n",
    "    model_1.x = Var(nodos_index, nodos_index, V, within=Binary)\n",
    "    model_1.y = Var(nodos_carga, within=Binary)\n",
    "    model_1.t = Var(nodos_index,V)\n",
    "    model_1.l = Var(nodos_index,V, within=NonNegativeReals)\n",
    "    #definir VO\n",
    "    model_1.obj = Objective(rule=obj_rule)\n",
    "    #definir restricciones\n",
    "    model_1.const_1 = Constraint(nodos_carga, rule=const_1)\n",
    "    model_1.const_2 = Constraint(V, rule=const_2)\n",
    "    model_1.const_3 = Constraint(nodos_index, V, rule=const_3)\n",
    "    model_1.const_4 = Constraint(V, rule=const_4)\n",
    "    model_1.const_5 = Constraint(nodos_index, nodos_index, V, rule=const_5)\n",
    "    model_1.const_6 = Constraint(nodos_index, nodos_index, V, rule=const_6)\n",
    "    model_1.const_7 = Constraint(nodos_index, V, rule=const_7)\n",
    "    model_1.const_8 = Constraint(nodos_index, nodos_index, V, rule=const_8)\n",
    "    model_1.const_9 = Constraint(nodos_index, V, rule=const_9)\n",
    "    model_1.const_10 = Constraint(nodos_index, V, rule=const_10)\n",
    "    model_1.const_11 = Constraint(nodos_index, V, rule=const_11)\n",
    "    return model_1"
   ]
  },
  {
   "cell_type": "markdown",
   "metadata": {},
   "source": [
    "**random_removal** recibe una instancia del modelo, se eligen $q$ cargos para reasignar, y se fija el resto de las variables asociadas a los cargos restantes."
   ]
  },
  {
   "cell_type": "code",
   "execution_count": 265,
   "metadata": {},
   "outputs": [],
   "source": [
    "def random_removal(q, modelo):\n",
    "    # descomentar la siguente linea para asignar q random\n",
    "    #q = random.randint(3,7)\n",
    "    nuevo_modelo = definir_modelo() #se define un nuevo modelo\n",
    "    cargos_list = random.sample([i for i in range(1, n_cargos+1)],q) #lista de cargos totales\n",
    "    print(f\"cargos reasignados: {cargos_list}\")\n",
    "    for i in nodos_index:\n",
    "        for j in nodos_index:\n",
    "            for v in V:\n",
    "                if modelo.x[i,j,v]() == 1 and not(i in cargos_list) and not(j in cargos_list) and (i<=n_cargos*2 and j<=n_cargos*2):\n",
    "                    #los barcos que llevaban cargos siguen llevando,\n",
    "                    # a menos que el cargo que llevaban fuera uno de los elegidos\n",
    "                    nuevo_modelo.x[i,j,v].setlb(val = 1)\n",
    "                    nuevo_modelo.x[i,j,v].setub(val = 1)\n",
    "    for i in range(1, n_cargos+1):\n",
    "        if modelo.y[i]() == 1 and not(i in cargos_list):\n",
    "            #los spot que llevaban cargos siguien llevando,\n",
    "            #a menos que el cargo que llevaban fuera uno de los elegidos\n",
    "            nuevo_modelo.y[i].setlb(val = 1)\n",
    "            nuevo_modelo.y[i].setub(val = 1)\n",
    "    return nuevo_modelo"
   ]
  },
  {
   "cell_type": "markdown",
   "metadata": {},
   "source": [
    "**creation** recibe una instacia del modelo con las variables fijas y un solver, y resuelve el modelo."
   ]
  },
  {
   "cell_type": "code",
   "execution_count": 291,
   "metadata": {},
   "outputs": [],
   "source": [
    "def creation(model, solver):\n",
    "    solve_time = time.time()\n",
    "    solver.solve(model)\n",
    "    values_time = time.time()\n",
    "    x = model.x.extract_values()\n",
    "    x_ruta = [i for i in x if x[i] == 1 if (i[0]<=n_cargos*2 and i[1]<=n_cargos*2)]\n",
    "    y = model.y.extract_values()\n",
    "    y_spot = [i for i in y if y[i] == 1]\n",
    "    print(\"---tiempo values: %s segundos ---\" % (time.time() - values_time))\n",
    "    print(\"---tiempo solve: %s segundos ---\" % (time.time() - solve_time))\n",
    "    return [x_ruta,y_spot]"
   ]
  },
  {
   "cell_type": "code",
   "execution_count": 292,
   "metadata": {},
   "outputs": [],
   "source": [
    "def random_removal_2(q, solutions, model):\n",
    "    print(solutions)\n",
    "    cargos_list = random.sample([i for i in range(1, n_cargos+1)],q)\n",
    "    cargos_list += [i+n_cargos for i in cargos_list]\n",
    "    print(f\"cargos reasignados: {cargos_list}\")\n",
    "    set_time = time.time()\n",
    "    for i in solutions[0]:\n",
    "        if not(i[0] in cargos_list) and not(i[1] in cargos_list):\n",
    "            model.x[i].setlb(val = 1)\n",
    "            model.x[i].setub(val = 1)\n",
    "    for i in solutions[1]:\n",
    "        if not(i in cargos_list):\n",
    "            model.y[i].setlb(val = 1)\n",
    "            model.y[i].setub(val = 1)\n",
    "    print(\"---tiempo for: %s segundos ---\" % (time.time() - set_time))          \n",
    "    return model"
   ]
  },
  {
   "cell_type": "markdown",
   "metadata": {},
   "source": [
    "En esta celda se corren las heurísticas"
   ]
  },
  {
   "cell_type": "code",
   "execution_count": 293,
   "metadata": {},
   "outputs": [],
   "source": [
    "from copy import copy"
   ]
  },
  {
   "cell_type": "code",
   "execution_count": 295,
   "metadata": {
    "scrolled": false
   },
   "outputs": [
    {
     "name": "stdout",
     "output_type": "stream",
     "text": [
      "[[], [1, 2, 3, 4, 5, 6, 7, 8, 9, 10, 11, 12, 13, 14, 15]]\n",
      "[[], [1, 2, 3, 4, 5, 6, 7, 8, 9, 10, 11, 12, 13, 14, 15]]\n",
      "cargos reasignados: [12, 1, 27, 16]\n",
      "---tiempo for: 0.0 segundos ---\n",
      "---tiempo values: 0.0019965171813964844 segundos ---\n",
      "---tiempo solve: 0.5365467071533203 segundos ---\n",
      "valor objetivo: 8319676.0\n",
      "iteración: 1\n",
      "---tiempo iteración: 0.5485622882843018 segundos ---\n",
      "---tiempo LNS: 0.5485622882843018 segundos ---\n",
      "[[], [1, 2, 3, 4, 5, 6, 7, 8, 9, 10, 11, 12, 13, 14, 15]]\n",
      "cargos reasignados: [1, 5, 16, 20]\n",
      "---tiempo for: 0.0 segundos ---\n",
      "---tiempo values: 0.0030045509338378906 segundos ---\n",
      "---tiempo solve: 0.5597348213195801 segundos ---\n",
      "valor objetivo: 8319676.0\n",
      "iteración: 2\n",
      "---tiempo iteración: 0.5757498741149902 segundos ---\n",
      "---tiempo LNS: 1.1249103546142578 segundos ---\n"
     ]
    }
   ],
   "source": [
    "import random\n",
    "import time\n",
    "import matplotlib.pyplot as plt\n",
    "import numpy as np\n",
    "\n",
    "x_axis = []\n",
    "y_axis = []\n",
    "soluciones = []\n",
    "count=1\n",
    "modelo = definir_modelo()\n",
    "respaldo = modelo\n",
    "q = 2\n",
    "iteraciones = 3\n",
    "for i in range(n_cargos):\n",
    "    modelo.y[i+1].setlb(val = 1)\n",
    "    modelo.y[i+1].setub(val = 1)\n",
    "solver = SolverFactory('gurobi')\n",
    "solver.solve(modelo)\n",
    "x = modelo.x.extract_values()\n",
    "y = modelo.y.extract_values()\n",
    "soluciones.append([i for i in x if x[i] == 1 if (i[0]<=n_cargos*2 and i[1]<=n_cargos*2)])\n",
    "soluciones.append([i for i in y if y[i] == 1])\n",
    "print(soluciones)\n",
    "start_time = time.time()\n",
    "while(count<iteraciones):\n",
    "    iter_time = time.time()\n",
    "    modelo_seteado = random_removal_2(q, soluciones, respaldo)\n",
    "    soluciones = creation(modelo_seteado,solver)\n",
    "    y_axis.append(modelo.obj())\n",
    "    x_axis.append(count)\n",
    "    print(f\"valor objetivo: {modelo_seteado.obj()}\")\n",
    "    print(f\"iteración: {count}\")\n",
    "    print(\"---tiempo iteración: %s segundos ---\" % (time.time() - iter_time))\n",
    "    print(\"---tiempo LNS: %s segundos ---\" % (time.time() - start_time))\n",
    "    count += 1"
   ]
  },
  {
   "cell_type": "code",
   "execution_count": null,
   "metadata": {},
   "outputs": [],
   "source": [
    "# plot\n",
    "\n",
    "\n",
    "fig, ax = plt.subplots()\n",
    "plt.axhline(y=2279204, color='r', linestyle='-')\n",
    "ax.plot(x_axis, y_axis, linewidth=2.0, label = \"LNS\")\n",
    "\n",
    "\n",
    "\n",
    "plt.show()"
   ]
  },
  {
   "cell_type": "code",
   "execution_count": null,
   "metadata": {},
   "outputs": [],
   "source": [
    "print(\"recorrido de barcos\")\n",
    "for i in modelo.x:\n",
    "    if modelo.x[i].value == 1:\n",
    "        print(i)\n",
    "print(\"\\n\")\n",
    "print(\"cargos asignados a spot\")\n",
    "for i in modelo.y:\n",
    "    if modelo.y[i].value == 1:\n",
    "        print(i)"
   ]
  },
  {
   "cell_type": "code",
   "execution_count": null,
   "metadata": {},
   "outputs": [],
   "source": []
  },
  {
   "cell_type": "code",
   "execution_count": null,
   "metadata": {},
   "outputs": [],
   "source": []
  }
 ],
 "metadata": {
  "kernelspec": {
   "display_name": "Python 3",
   "language": "python",
   "name": "python3"
  },
  "language_info": {
   "codemirror_mode": {
    "name": "ipython",
    "version": 3
   },
   "file_extension": ".py",
   "mimetype": "text/x-python",
   "name": "python",
   "nbconvert_exporter": "python",
   "pygments_lexer": "ipython3",
   "version": "3.8.6"
  }
 },
 "nbformat": 4,
 "nbformat_minor": 4
}
