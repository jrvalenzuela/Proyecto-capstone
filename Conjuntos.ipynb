{
 "cells": [
  {
   "cell_type": "markdown",
   "id": "ead25ad9",
   "metadata": {},
   "source": [
    "# Modelación Problema"
   ]
  },
  {
   "cell_type": "code",
   "execution_count": 2,
   "id": "dd64fc23",
   "metadata": {},
   "outputs": [],
   "source": [
    "import pandas as pd\n",
    "import numpy as np\n",
    "import matplotlib.pyplot as plt\n",
    "import matplotlib as mpl\n",
    "from IPython.display import display "
   ]
  },
  {
   "cell_type": "code",
   "execution_count": 3,
   "id": "0b4699d2",
   "metadata": {},
   "outputs": [],
   "source": [
    "xls = pd.ExcelFile('Proyecto_1_TransporteMaritimo_Dataset1.xlsx')\n",
    "nombres= xls.sheet_names\n",
    "df1 = pd.read_excel(xls, nombres[0])\n",
    "df2 = pd.read_excel(xls, nombres[1])\n",
    "df3= pd.read_excel(xls, nombres[2])\n",
    "df4= pd.read_excel(xls, nombres[3])\n",
    "df5= pd.read_excel(xls, nombres[4])\n",
    "df6= pd.read_excel(xls, nombres[5])"
   ]
  },
  {
   "cell_type": "markdown",
   "id": "90b13e3a",
   "metadata": {},
   "source": [
    "Conjuntos"
   ]
  },
  {
   "cell_type": "code",
   "execution_count": 16,
   "id": "3b1117e3",
   "metadata": {},
   "outputs": [
    {
     "data": {
      "text/plain": [
       "[1, 2, 3, 4]"
      ]
     },
     "execution_count": 16,
     "metadata": {},
     "output_type": "execute_result"
    }
   ],
   "source": [
    "V= list(df1[\"ID_Barco\"]) ## conjunto barcos\n",
    "V"
   ]
  },
  {
   "cell_type": "code",
   "execution_count": 19,
   "id": "0321f977",
   "metadata": {},
   "outputs": [
    {
     "name": "stdout",
     "output_type": "stream",
     "text": [
      "{1: 16500, 2: 5800, 3: 3570, 4: 3570}\n"
     ]
    }
   ],
   "source": [
    "Kv= {} # conjunto capacidades de barcos\n",
    "for i in range(0,len(V)):\n",
    "    Kv[i+1]= list(df1[\"Capacidad\"])[i]\n",
    "print(Kv)"
   ]
  },
  {
   "cell_type": "code",
   "execution_count": 22,
   "id": "33b13f99",
   "metadata": {},
   "outputs": [
    {
     "data": {
      "text/plain": [
       "[1, 2, 3, 4, 5, 6, 7, 8, 9, 10, 11, 12, 13, 14, 15]"
      ]
     },
     "execution_count": 22,
     "metadata": {},
     "output_type": "execute_result"
    }
   ],
   "source": [
    "nodos_carga= list(df3[\"ID_Cargo\"]) ## conjunto nodos de carga\n",
    "nodos_carga"
   ]
  },
  {
   "cell_type": "code",
   "execution_count": 25,
   "id": "edb1a21c",
   "metadata": {},
   "outputs": [
    {
     "data": {
      "text/plain": [
       "[16, 17, 18, 19, 20, 21, 22, 23, 24, 25, 26, 27, 28, 29, 30]"
      ]
     },
     "execution_count": 25,
     "metadata": {},
     "output_type": "execute_result"
    }
   ],
   "source": [
    "nodos_descarga= [i+len(nodos_carga) for i in range(1,len(nodos_carga)+1)] ##conjunto nodos de descarga\n",
    "nodos_descarga"
   ]
  },
  {
   "cell_type": "code",
   "execution_count": 46,
   "id": "41758d56",
   "metadata": {},
   "outputs": [
    {
     "name": "stdout",
     "output_type": "stream",
     "text": [
      "[[1, 25], [2, 9], [3, 7], [4, 6], [5, 38], [6, 10], [7, 26], [8, 14], [9, 5], [10, 9], [11, 7], [12, 25], [13, 39], [14, 38], [15, 17]]\n"
     ]
    }
   ],
   "source": [
    "nodos= [] ### podría servir después\n",
    "for i in range(0,len(nodos_carga)):\n",
    "    nodos.append([nodos_carga[i],list(df3[\"ID_Puerto_Origen\"])[i]])\n",
    "print(nodos)"
   ]
  }
 ],
 "metadata": {
  "kernelspec": {
   "display_name": "Python 3 (ipykernel)",
   "language": "python",
   "name": "python3"
  },
  "language_info": {
   "codemirror_mode": {
    "name": "ipython",
    "version": 3
   },
   "file_extension": ".py",
   "mimetype": "text/x-python",
   "name": "python",
   "nbconvert_exporter": "python",
   "pygments_lexer": "ipython3",
   "version": "3.9.6"
  }
 },
 "nbformat": 4,
 "nbformat_minor": 5
}
