{
 "cells": [
  {
   "cell_type": "code",
   "execution_count": 237,
   "metadata": {},
   "outputs": [],
   "source": [
    "import pandas as pd\n",
    "from gurobipy import *\n",
    "\n",
    "xls = pd.ExcelFile('Proyecto_1_TransporteMaritimo_Dataset1.xlsx', engine='openpyxl')\n",
    "nombres= xls.sheet_names\n",
    "df1 = pd.read_excel(xls, nombres[0])\n",
    "df2 = pd.read_excel(xls, nombres[1])\n",
    "df3= pd.read_excel(xls, nombres[2])\n",
    "df4= pd.read_excel(xls, nombres[3])\n",
    "df5= pd.read_excel(xls, nombres[4])\n",
    "df6= pd.read_excel(xls, nombres[5])"
   ]
  },
  {
   "cell_type": "code",
   "execution_count": 322,
   "metadata": {},
   "outputs": [],
   "source": [
    "n_cargos = len(df3)"
   ]
  },
  {
   "cell_type": "code",
   "execution_count": 323,
   "metadata": {},
   "outputs": [],
   "source": [
    "V= list(df1[\"ID_Barco\"]) ## conjunto barcos\n",
    "n_barcos = len(V)"
   ]
  },
  {
   "cell_type": "code",
   "execution_count": 324,
   "metadata": {},
   "outputs": [],
   "source": [
    "\n",
    "Kv= {} # conjunto capacidades de barcos\n",
    "for i in range(0,len(V)):\n",
    "    Kv[i+1]= list(df1[\"Capacidad\"])[i]"
   ]
  },
  {
   "cell_type": "code",
   "execution_count": 325,
   "metadata": {},
   "outputs": [],
   "source": [
    "nodos_carga= list(df3[\"ID_Cargo\"])\n",
    "\n",
    "nodos_descarga= [i+len(nodos_carga) for i in range(1,len(nodos_carga)+1)] ##conjunto nodos de descarga"
   ]
  },
  {
   "cell_type": "code",
   "execution_count": 326,
   "metadata": {},
   "outputs": [],
   "source": [
    "cargas = df3[[\"ID_Cargo\",\"ID_Puerto_Origen\", \"Tamano\", \"Costo_SPOT\",\"LT_Carga\",\"RT_Carga\"]].rename(columns={\"ID_Puerto_Origen\": \"ID_Puerto \", \"LT_Carga\":\"LT\",\"RT_Carga\":\"RT\"})\n",
    "descargas = df3[[\"ID_Cargo\",\"ID_Puerto_Destino\", \"Tamano\", \"Costo_SPOT\",\"LT_Descarga\",\"RT_Descarga\"]].rename(columns={\"ID_Puerto_Destino\": \"ID_Puerto \", \"LT_Descarga\":\"LT\",\"RT_Descarga\":\"RT\"})\n",
    "nodos = pd.concat([cargas,descargas],axis=0)\n",
    "nodos = nodos.reset_index()[[\"ID_Cargo\",\"ID_Puerto \", \"Tamano\", \"Costo_SPOT\",\"LT\",\"RT\"]]\n",
    "nodos.index+=1\n",
    "N = nodos.to_dict(\"index\")\n",
    "\n",
    "puertos_barco = df1[\"ID_Puerto \"]\n",
    "t_origen = df1[\"Tiempo_Inicio\"].to_dict()\n",
    "o = {}\n",
    "d = {}\n",
    "for i in range(len(puertos_barco.to_dict())):\n",
    "  o[i+1] = i+1+n_cargos*2 \n",
    "  N[i+1+n_cargos*2] = {'Costo_SPOT': 0,\n",
    "  'ID_Cargo': 0,\n",
    "  'ID_Puerto ': puertos_barco.to_dict()[i],\n",
    "  'LT': t_origen[i],\n",
    "  'RT': t_origen[i],\n",
    "  'Tamano': 0}\n",
    "  d[i+1]=i+1+n_cargos*2+len(puertos_barco.to_dict())\n",
    "  N[i+1+n_cargos*2+len(puertos_barco.to_dict())]={'Costo_SPOT': 0,\n",
    "  'ID_Cargo': 0,\n",
    "  'ID_Puerto ': 0,\n",
    "  'LT':1388,\n",
    "  'RT': 1388,\n",
    "  'Tamano': 0}\n",
    "nodos_index = [i for i in N.keys()]"
   ]
  },
  {
   "cell_type": "code",
   "execution_count": 327,
   "metadata": {},
   "outputs": [],
   "source": [
    "compatibilidad = {}\n",
    "for i in V:\n",
    "    compatibilidad[i] = [int(j) for j in list(df2.loc[i-1])[1:] if j>0]\n",
    "compatibilidad\n",
    "\n",
    "Nv = {}\n",
    "for i in V:\n",
    "  Nv[i] = []\n",
    "  for j in N.keys():\n",
    "    if N[j][\"ID_Cargo\"] in compatibilidad[i] or (j == i+n_cargos*2 or j==i+n_cargos*2+len(V)): \n",
    "      Nv[i].append(j)\n"
   ]
  },
  {
   "cell_type": "code",
   "execution_count": 568,
   "metadata": {},
   "outputs": [
    {
     "name": "stdout",
     "output_type": "stream",
     "text": [
      "[('ID_Cargo', 'ID_Cargo'), ('ID_Cargo', 'ID_Puerto '), ('ID_Cargo', 'Tamano'), ('ID_Cargo', 'Costo_SPOT'), ('ID_Cargo', 'LT'), ('ID_Cargo', 'RT'), ('ID_Puerto ', 'ID_Cargo'), ('ID_Puerto ', 'ID_Puerto '), ('ID_Puerto ', 'Tamano'), ('ID_Puerto ', 'Costo_SPOT'), ('ID_Puerto ', 'LT'), ('ID_Puerto ', 'RT'), ('Tamano', 'ID_Cargo'), ('Tamano', 'ID_Puerto '), ('Tamano', 'Tamano'), ('Tamano', 'Costo_SPOT'), ('Tamano', 'LT'), ('Tamano', 'RT'), ('Costo_SPOT', 'ID_Cargo'), ('Costo_SPOT', 'ID_Puerto '), ('Costo_SPOT', 'Tamano'), ('Costo_SPOT', 'Costo_SPOT'), ('Costo_SPOT', 'LT'), ('Costo_SPOT', 'RT'), ('LT', 'ID_Cargo'), ('LT', 'ID_Puerto '), ('LT', 'Tamano'), ('LT', 'Costo_SPOT'), ('LT', 'LT'), ('LT', 'RT'), ('RT', 'ID_Cargo'), ('RT', 'ID_Puerto '), ('RT', 'Tamano'), ('RT', 'Costo_SPOT'), ('RT', 'LT'), ('RT', 'RT')]\n"
     ]
    }
   ],
   "source": [
    "\"\"\"import itertools\n",
    "Av = {}\n",
    "for v in V:\n",
    "    Av[v] = list(itertools.permutations(Nv[v],2))\n",
    "\"\"\"\n",
    "Av={}\n",
    "indices = []\n",
    "for v in V:\n",
    "    Av[v] = [] \n",
    "    for i in N[v]:\n",
    "        for j in N[v]:\n",
    "                Av[v].append((i,j))\n",
    "                indices.append((i,j,v))\n",
    "indices = tuplelist(indices)\n",
    "print(Av[1])"
   ]
  },
  {
   "cell_type": "code",
   "execution_count": 569,
   "metadata": {},
   "outputs": [],
   "source": [
    "NP_v = {}\n",
    "for v in V:\n",
    "    NP_v[v] = [i for i in nodos_carga if i in Nv[v]]\n",
    "\n",
    "ND_v = {}\n",
    "for v in V:\n",
    "    ND_v[v] = [i for i in nodos_descarga if i in Nv[v]]\n",
    "\n"
   ]
  },
  {
   "cell_type": "code",
   "execution_count": 570,
   "metadata": {},
   "outputs": [],
   "source": [
    "LT_i = {i:N[i][\"LT\"] for i in N.keys()}\n",
    "RT_i = {i:N[i][\"RT\"] for i in N.keys()}"
   ]
  },
  {
   "cell_type": "code",
   "execution_count": 571,
   "metadata": {},
   "outputs": [],
   "source": [
    "T_ijv={}\n",
    "for i in N.keys():\n",
    "    T_ijv[i] = {} \n",
    "    for j in N.keys():\n",
    "        T_ijv[i][j] = {} \n",
    "        for v in V:\n",
    "            cargo_i= N[i][\"ID_Cargo\"]\n",
    "            cargo_j = N[j][\"ID_Cargo\"]\n",
    "            if i>n_cargos*2+len(V) or j>n_cargos*2+len(V):\n",
    "                T_ijv[i][j][v] = 0\n",
    "            else: \n",
    "                puerto_origen = N[i][\"ID_Puerto \"]\n",
    "                puerto_destino = N[j][\"ID_Puerto \"]\n",
    "                T_ijv[i][j][v] = df4.loc[(df4[\"Puerto_Origen\"]==puerto_origen)&(df4[\"Puerto_Destino\"]==puerto_destino)&(df4[\"ID_Barco\"]==v),[\"Tiempo_Viaje_hrs\"]][\"Tiempo_Viaje_hrs\"].item()\n",
    "                if 0<i<=n_cargos and (i,j) in Av[v]:\n",
    "                    T_ijv[i][j][v] += df5.loc[(df5[\"ID_Barco\"]==v)&(df5[\"ID_Cargo\"]==N[i][\"ID_Cargo\"]),[\"Tiempo_Origen_hrs\"]][\"Tiempo_Origen_hrs\"].item()\n",
    "                if n_cargos*2>=i>n_cargos and (i,j) in Av[v]:\n",
    "                    T_ijv[i][j][v] += df5.loc[(df5[\"ID_Barco\"]==v)&(df5[\"ID_Cargo\"]==N[i][\"ID_Cargo\"]),[\"Tiempo_Destino_hrs\"]][\"Tiempo_Destino_hrs\"].item()\n",
    "                if ((i,j) not in Av[v]) or j==i:\n",
    "                    T_ijv[i][j][v] += 10000000"
   ]
  },
  {
   "cell_type": "code",
   "execution_count": 572,
   "metadata": {},
   "outputs": [
    {
     "data": {
      "text/plain": [
       "10000000"
      ]
     },
     "execution_count": 572,
     "metadata": {},
     "output_type": "execute_result"
    }
   ],
   "source": [
    "T_ijv[33][15][3]"
   ]
  },
  {
   "cell_type": "code",
   "execution_count": null,
   "metadata": {},
   "outputs": [],
   "source": [
    "C_ijv={}\n",
    "for i in N.keys():\n",
    "    C_ijv[i] = {} \n",
    "    for j in N.keys():\n",
    "        C_ijv[i][j] = {} \n",
    "        for v in V:\n",
    "            if i>n_cargos*2+len(V) or j>n_cargos*2+len(V):\n",
    "                C_ijv[i][j][v] = 0\n",
    "            else: \n",
    "                puerto_origen = N[i][\"ID_Puerto \"]\n",
    "                puerto_destino = N[j][\"ID_Puerto \"]\n",
    "                C_ijv[i][j][v] = df4.loc[(df4[\"Puerto_Origen\"]==puerto_origen)&(df4[\"Puerto_Destino\"]==puerto_destino)&(df4[\"ID_Barco\"]==v),[\"Costo_Viaje_libras\"]][\"Costo_Viaje_libras\"].item()\n",
    "                if 0<i<=n_cargos and (i,j) in Av[v]:\n",
    "                    C_ijv[i][j][v] += df5.loc[(df5[\"ID_Barco\"]==v)&(df5[\"ID_Cargo\"]==N[i][\"ID_Cargo\"]),[\"Costos_Origen_hrs\"]][\"Costos_Origen_hrs\"].item()\n",
    "                if n_cargos*2>=i>n_cargos and (i,j) in Av[v]:\n",
    "                    C_ijv[i][j][v] += df5.loc[(df5[\"ID_Barco\"]==v)&(df5[\"ID_Cargo\"]==N[i][\"ID_Cargo\"]),[\"Costos_Destino_hrs\"]][\"Costos_Destino_hrs\"].item()\n",
    "                if ((i,j) not in Av[v]) or j==i:\n",
    "                    C_ijv[i][j][v] += 10000000"
   ]
  },
  {
   "cell_type": "code",
   "execution_count": null,
   "metadata": {},
   "outputs": [],
   "source": [
    "C_ijv[31][31][1]"
   ]
  },
  {
   "cell_type": "code",
   "execution_count": null,
   "metadata": {},
   "outputs": [],
   "source": [
    "Qj={N[i][\"ID_Cargo\"]:N[i][\"Tamano\"] for i in N.keys() if N[i][\"ID_Cargo\"]>0}\n",
    "print(Qj)\n",
    "\n",
    "Cs = df3[\"Costo_SPOT\"].to_dict()\n",
    "print(\"empezando con el modelo\")\n",
    "print(nodos_carga)"
   ]
  },
  {
   "cell_type": "code",
   "execution_count": null,
   "metadata": {},
   "outputs": [],
   "source": [
    "\n",
    "# Model\n",
    "m = Model(\"Transporte Maritimo\")\n",
    "\n",
    "# variables\n",
    "\n",
    "#x = m.addVars(indices, vtype=GRB.BINARY, name=\"Arco\")\n",
    "x = m.addVars(nodos_index, nodos_index, V, vtype=GRB.BINARY, name=\"Arco\")\n",
    "y = m.addVars(nodos_carga,vtype=GRB.BINARY,name=\"Cargo_Spot\")\n",
    "t = m.addVars(nodos_index,V,vtype=GRB.INTEGER, name=\"tiempo\")\n",
    "l = m.addVars(nodos_index,V,vtype=GRB.INTEGER,name=\"Inventario\")"
   ]
  },
  {
   "cell_type": "code",
   "execution_count": null,
   "metadata": {},
   "outputs": [],
   "source": [
    "# Objective function\n",
    "m.setObjective(sum(sum(C_ijv[i][j][v]*x[i,j,v] for (i,j) in Av[v]) for v in V)+sum(Cs[i-1]*y[i] for i in nodos_carga), GRB.MINIMIZE)"
   ]
  },
  {
   "cell_type": "code",
   "execution_count": null,
   "metadata": {},
   "outputs": [],
   "source": [
    "m.addConstrs(((sum(sum(x[i,j,v] + y[i] for j in Nv[v]) for v in V) == 1) for i in nodos_carga), name = \"Const_1\")\n",
    "#m.addConstrs(((sum(sum(x[i,j,v] + y[i] for j in Nv[v] if (i,j) in Av[v]) for v in V) == 1) for i in nodos_carga), name = \"Const_1\")"
   ]
  },
  {
   "cell_type": "code",
   "execution_count": null,
   "metadata": {},
   "outputs": [],
   "source": [
    "m.addConstrs(((sum(x[o[v],j,v] for j in Nv[v]) == 1) for v in V), name = \"Const_2\")"
   ]
  },
  {
   "cell_type": "code",
   "execution_count": null,
   "metadata": {
    "scrolled": false
   },
   "outputs": [],
   "source": [
    "m.addConstrs((((sum(x[i,j,v] for j in Nv[v])-sum(x[j,i,v] for j in Nv[v]))==0) for v in V for i in Nv[v] if i<=n_cargos*2), name = \"Const_3\")"
   ]
  },
  {
   "cell_type": "code",
   "execution_count": null,
   "metadata": {},
   "outputs": [],
   "source": [
    "m.addConstrs(((sum(x[j,d[v],v] for j in Nv[v]) == 1) for v in V), name = \"Const_4\")"
   ]
  },
  {
   "cell_type": "code",
   "execution_count": null,
   "metadata": {},
   "outputs": [],
   "source": [
    "m.addConstrs(((l[i,v]+Qj[j]-l[j,v]<=Kv[v]*(1-x[i,j,v])) for v in V  for j in NP_v[v] for i in Nv[v] if ((i,j) in Av[v])), name = \"Const_5\")"
   ]
  },
  {
   "cell_type": "code",
   "execution_count": null,
   "metadata": {},
   "outputs": [],
   "source": [
    "m.addConstrs(((l[i,v]-Qj[j]-l[n_cargos+j,v]<=Kv[v]*(1-x[i,n_cargos+j,v]))  for v in V for j in NP_v[v] for i in Nv[v] if ((i,j+n_cargos) in Av[v])), name = \"Const_6\")"
   ]
  },
  {
   "cell_type": "code",
   "execution_count": null,
   "metadata": {
    "scrolled": true
   },
   "outputs": [],
   "source": [
    "m.addConstrs(((l[i,v]<=Kv[v]) for v in V for i in NP_v[v]), name = \"Const_7_ub\")"
   ]
  },
  {
   "cell_type": "code",
   "execution_count": null,
   "metadata": {},
   "outputs": [],
   "source": [
    "m.addConstrs(((l[i,v]>=0) for v in V for i in NP_v[v]), name = \"Const_7_lb\")"
   ]
  },
  {
   "cell_type": "code",
   "execution_count": null,
   "metadata": {},
   "outputs": [],
   "source": [
    "m.addConstrs(((t[i,v]+T_ijv[i][j][v]-t[j,v]<=(RT_i[i]+T_ijv[i][j][v])*(1-x[i,j,v])) for v in V for (i,j) in Av[v]), name = \"Const_8\")"
   ]
  },
  {
   "cell_type": "code",
   "execution_count": null,
   "metadata": {},
   "outputs": [],
   "source": [
    "m.addConstrs(((sum(x[i,j,v] for j in Nv[v])-sum(x[n_cargos+i,j,v] for j in Nv[v])==0) for v in V for i in NP_v[v]), name = \"Const_9\")"
   ]
  },
  {
   "cell_type": "code",
   "execution_count": null,
   "metadata": {},
   "outputs": [],
   "source": [
    "\n",
    "m.addConstrs(((t[i,v]+T_ijv[i][n_cargos+i][v]-t[n_cargos+i,v]<=0) for v in V for i in NP_v[v] ), name = \"Const_10\")"
   ]
  },
  {
   "cell_type": "code",
   "execution_count": null,
   "metadata": {},
   "outputs": [],
   "source": [
    "m.addConstrs(((t[i,v]<=RT_i[i]) for v in V for i in Nv[v]), name = \"Const_11_ub\")"
   ]
  },
  {
   "cell_type": "code",
   "execution_count": null,
   "metadata": {},
   "outputs": [],
   "source": [
    "h = m.addConstrs(((LT_i[i]<=t[i,v]) for v in V for i in Nv[v]), name = \"Const_11_lb\")"
   ]
  },
  {
   "cell_type": "code",
   "execution_count": null,
   "metadata": {},
   "outputs": [],
   "source": []
  },
  {
   "cell_type": "code",
   "execution_count": null,
   "metadata": {},
   "outputs": [],
   "source": [
    "# Solve\n",
    "m.optimize()\n",
    "\n",
    "valorobjetivo = m.objval\n",
    "\n",
    "\"\"\"for v in m.getVars():\n",
    "    print('%s %g' % (v.varName, v.x))\"\"\"\n",
    "\n",
    "print('\\n Valor óptimo: %8.4f \\n' % valorobjetivo)\n",
    "\n",
    "m.write(\"Transporte_final.sol\")\n",
    "m.write(\"model.lp\")"
   ]
  },
  {
   "cell_type": "code",
   "execution_count": null,
   "metadata": {},
   "outputs": [],
   "source": [
    "#x[31,31,1].Xn"
   ]
  },
  {
   "cell_type": "code",
   "execution_count": null,
   "metadata": {},
   "outputs": [],
   "source": [
    "for v in V:\n",
    "    for i in nodos_index:\n",
    "        for j in nodos_index:\n",
    "            if x[i,j,v].X==1:\n",
    "                print(f\"x[{i},{j},{v}]\")"
   ]
  },
  {
   "cell_type": "code",
   "execution_count": null,
   "metadata": {},
   "outputs": [],
   "source": []
  }
 ],
 "metadata": {
  "kernelspec": {
   "display_name": "Python 3",
   "language": "python",
   "name": "python3"
  },
  "language_info": {
   "codemirror_mode": {
    "name": "ipython",
    "version": 3
   },
   "file_extension": ".py",
   "mimetype": "text/x-python",
   "name": "python",
   "nbconvert_exporter": "python",
   "pygments_lexer": "ipython3",
   "version": "3.8.6"
  }
 },
 "nbformat": 4,
 "nbformat_minor": 4
}
