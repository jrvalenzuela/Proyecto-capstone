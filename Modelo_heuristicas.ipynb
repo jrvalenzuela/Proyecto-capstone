{
 "cells": [
  {
   "cell_type": "markdown",
   "metadata": {},
   "source": [
    "# Modelo resuelto con heurísticas"
   ]
  },
  {
   "cell_type": "markdown",
   "metadata": {},
   "source": [
    "* [Preprocesamiento de datos](#Preprocesamiento-de-datos)\n",
    "* [Heurísticas](#Heurísticas)"
   ]
  },
  {
   "cell_type": "markdown",
   "metadata": {},
   "source": [
    "## Preprocesamiento de datos "
   ]
  },
  {
   "cell_type": "code",
   "execution_count": 1,
   "metadata": {},
   "outputs": [],
   "source": [
    "import pandas as pd\n",
    "from gurobipy import *\n",
    "from pyomo.environ import *"
   ]
  },
  {
   "cell_type": "code",
   "execution_count": 2,
   "metadata": {},
   "outputs": [],
   "source": [
    "xls = pd.ExcelFile('Proyecto_1_TransporteMaritimo_Dataset1.xlsx', engine='openpyxl')\n",
    "nombres= xls.sheet_names\n",
    "df1 = pd.read_excel(xls, nombres[0])\n",
    "df2 = pd.read_excel(xls, nombres[1])\n",
    "df3= pd.read_excel(xls, nombres[2])\n",
    "df4= pd.read_excel(xls, nombres[3])\n",
    "df5= pd.read_excel(xls, nombres[4])"
   ]
  },
  {
   "cell_type": "markdown",
   "metadata": {},
   "source": [
    "Se transforman los datos de los dataframes a diccionarios para el procesamiento de datos"
   ]
  },
  {
   "cell_type": "code",
   "execution_count": 3,
   "metadata": {},
   "outputs": [],
   "source": [
    "barcos_sheet = df1.to_dict(\"index\")\n",
    "compatibilidad_sheet = df2.to_dict()\n",
    "cargos_sheet = df3.to_dict(\"index\")\n",
    "costos_transporte_sheet = df4.to_dict(\"index\")\n",
    "costos_transporte_dict = {(costos_transporte_sheet[i]['ID_Barco'],costos_transporte_sheet[i]['Puerto_Origen'],costos_transporte_sheet[i]['Puerto_Destino']) : {'Tiempo_Viaje_hrs':costos_transporte_sheet[i]['Tiempo_Viaje_hrs'], 'Costo_Viaje_libras':costos_transporte_sheet[i]['Costo_Viaje_libras']} for i in costos_transporte_sheet.keys()}\n",
    "costos_tiempo_sheet = df5.to_dict(\"index\")\n",
    "costos_tiempo_dict = {(costos_tiempo_sheet[i]['ID_Barco'],costos_tiempo_sheet[i]['ID_Cargo']) : {'Tiempo_Origen_hrs':costos_tiempo_sheet[i]['Tiempo_Origen_hrs'], 'Costos_Origen_hrs':costos_tiempo_sheet[i]['Costos_Origen_hrs'], 'Tiempo_Destino_hrs':costos_tiempo_sheet[i]['Tiempo_Destino_hrs'], 'Costos_Destino_hrs':costos_tiempo_sheet[i]['Costos_Destino_hrs']} for i in costos_tiempo_sheet.keys()}"
   ]
  },
  {
   "cell_type": "code",
   "execution_count": 4,
   "metadata": {},
   "outputs": [],
   "source": [
    "n_cargos = len([cargos_sheet[i]['ID_Cargo'] for i in cargos_sheet.keys() if cargos_sheet[i]['ID_Cargo']>=0])"
   ]
  },
  {
   "cell_type": "markdown",
   "metadata": {},
   "source": [
    " La manera en que funcionan los nodos es: los primeros $n$ ($n =$ número de cargos) son los nodos de carga, los siguientes $n$ son los nodos de descarga, los siguientes $v$ ($v =$ número de barcos) son los nodos de origen, y los último v son los nodos de destino."
   ]
  },
  {
   "cell_type": "code",
   "execution_count": 5,
   "metadata": {},
   "outputs": [],
   "source": [
    "V = [1+i for i in barcos_sheet.keys()] ## conjunto barcos\n",
    "n_barcos = len(V)"
   ]
  },
  {
   "cell_type": "code",
   "execution_count": 6,
   "metadata": {},
   "outputs": [],
   "source": [
    "Kv= {} # conjunto capacidades de barcos\n",
    "for i in barcos_sheet.keys():\n",
    "    Kv[barcos_sheet[i]['ID_Barco']] =  barcos_sheet[i]['Capacidad']"
   ]
  },
  {
   "cell_type": "code",
   "execution_count": 7,
   "metadata": {},
   "outputs": [],
   "source": [
    "# N^P\n",
    "nodos_carga= [cargos_sheet[i]['ID_Cargo'] for i in cargos_sheet.keys() if cargos_sheet[i]['ID_Cargo']>=0]\n",
    "\n",
    "#N^D\n",
    "nodos_descarga= [i+len(nodos_carga) for i in range(1,len(nodos_carga)+1)] ##conjunto nodos de descarga"
   ]
  },
  {
   "cell_type": "code",
   "execution_count": 8,
   "metadata": {},
   "outputs": [],
   "source": [
    "nodos = {}\n",
    "for i in range(n_cargos):\n",
    "    nodos[cargos_sheet[i]['ID_Cargo']] = {'ID_Cargo': cargos_sheet[i]['ID_Cargo'],\n",
    "                                          'ID_Puerto': cargos_sheet[i]['ID_Puerto_Origen'],\n",
    "                                          'Tamano': cargos_sheet[i]['Tamano'],\n",
    "                                          'Costo_SPOT': cargos_sheet[i]['Costo_SPOT'],\n",
    "                                          'LT': cargos_sheet[i]['LT_Carga'],\n",
    "                                          'RT': cargos_sheet[i]['RT_Carga']}\n",
    "    \n",
    "    nodos[cargos_sheet[i]['ID_Cargo']+n_cargos] = {'ID_Cargo': cargos_sheet[i]['ID_Cargo'],\n",
    "                                          'ID_Puerto': cargos_sheet[i]['ID_Puerto_Destino'],\n",
    "                                          'Tamano': cargos_sheet[i]['Tamano'],\n",
    "                                          'Costo_SPOT': cargos_sheet[i]['Costo_SPOT'],\n",
    "                                          'LT': cargos_sheet[i]['LT_Descarga'],\n",
    "                                          'RT': cargos_sheet[i]['RT_Descarga']}\n",
    "o = {}\n",
    "d = {}\n",
    "for v in V:\n",
    "    o[v] = n_cargos*2+v\n",
    "    nodos[n_cargos*2+v] = {'Costo_SPOT': 0,\n",
    "                           'ID_Cargo': 0,\n",
    "                           'ID_Puerto': barcos_sheet[v-1]['ID_Puerto '],\n",
    "                           'LT': barcos_sheet[v-1]['Tiempo_Inicio'],\n",
    "                           'RT': barcos_sheet[v-1]['Tiempo_Inicio'],\n",
    "                           'Tamano': 0}\n",
    "    d[v] = n_cargos*2+n_barcos+v\n",
    "    nodos[n_cargos*2+n_barcos+v] = {'Costo_SPOT': 0,\n",
    "                                    'ID_Cargo': 0,\n",
    "                                    'ID_Puerto': 0,\n",
    "                                    'LT': 100000,\n",
    "                                    'RT': 100000,\n",
    "                                    'Tamano': 0}"
   ]
  },
  {
   "cell_type": "code",
   "execution_count": 9,
   "metadata": {},
   "outputs": [],
   "source": [
    "compatibilidad = {}\n",
    "for i in V:\n",
    "    compatibilidad[i] = [int(j) for j in list(df2.loc[i-1])[1:] if j>0]\n",
    "compatibilidad\n",
    "\n",
    "Nv = {}\n",
    "for i in V:\n",
    "    Nv[i] = []\n",
    "    for j in nodos.keys():\n",
    "        if nodos[j][\"ID_Cargo\"] in compatibilidad[i] or (j == i+n_cargos*2 or j==i+n_cargos*2+len(V)): \n",
    "            Nv[i].append(j)"
   ]
  },
  {
   "cell_type": "code",
   "execution_count": 10,
   "metadata": {},
   "outputs": [],
   "source": [
    "\"\"\"import itertools\n",
    "Av = {}\n",
    "for v in V:\n",
    "    Av[v] = list(itertools.permutations(Nv[v],2))\n",
    "\"\"\"\n",
    "Av={}\n",
    "indices = []\n",
    "for v in V:\n",
    "    Av[v] = [] \n",
    "    for i in Nv[v]:\n",
    "        for j in Nv[v]:\n",
    "                Av[v].append((i,j))\n",
    "                indices.append((i,j,v))\n",
    "indices = tuplelist(indices)"
   ]
  },
  {
   "cell_type": "code",
   "execution_count": 11,
   "metadata": {},
   "outputs": [],
   "source": [
    "NP_v = {}\n",
    "for v in V:\n",
    "    NP_v[v] = [i for i in nodos_carga if i in Nv[v]]\n",
    "\n",
    "ND_v = {}\n",
    "for v in V:\n",
    "    ND_v[v] = [i for i in nodos_descarga if i in Nv[v]]\n"
   ]
  },
  {
   "cell_type": "code",
   "execution_count": 12,
   "metadata": {},
   "outputs": [],
   "source": [
    "LT_i = {i:nodos[i][\"LT\"] for i in nodos.keys()} #lower bounds ventana de tiempo por nodo\n",
    "RT_i = {i:nodos[i][\"RT\"] for i in nodos.keys()} #upper bounds ventana de tiempo por nodo\n"
   ]
  },
  {
   "cell_type": "code",
   "execution_count": 13,
   "metadata": {},
   "outputs": [],
   "source": [
    "T_ijv={} # tiempo de entre i y j (tiempo de viaje + tiempo de operación en i)\n",
    "for i in nodos.keys():\n",
    "    T_ijv[i] = {} \n",
    "    for j in nodos.keys():\n",
    "        T_ijv[i][j] = {} \n",
    "        for v in V:\n",
    "            cargo_i= nodos[i][\"ID_Cargo\"]\n",
    "            cargo_j = nodos[j][\"ID_Cargo\"]\n",
    "            if i>n_cargos*2+len(V) or j>n_cargos*2+len(V):\n",
    "                T_ijv[i][j][v] = 0\n",
    "            else: \n",
    "                puerto_origen = nodos[i][\"ID_Puerto\"]\n",
    "                puerto_destino = nodos[j][\"ID_Puerto\"]\n",
    "                T_ijv[i][j][v] = costos_transporte_dict[v,puerto_origen,puerto_destino]['Tiempo_Viaje_hrs']\n",
    "                if 0<i<=n_cargos and (i,j) in Av[v]: \n",
    "                    T_ijv[i][j][v] += costos_tiempo_dict[v,cargo_i]['Tiempo_Origen_hrs']\n",
    "                if n_cargos*2>=i>n_cargos and (i,j) in Av[v]:\n",
    "                    T_ijv[i][j][v] += costos_tiempo_dict[v,cargo_i]['Tiempo_Destino_hrs']\n",
    "                \n",
    "                # se les asigna tiempo de operación igual a 0 a los (i,j) que no pertenecen a Av\n",
    "                # los (i,j) que no pertenecen a Av aún tienen el tiempo entre el puerto de i y j"
   ]
  },
  {
   "cell_type": "code",
   "execution_count": 14,
   "metadata": {},
   "outputs": [],
   "source": [
    "C_ijv={} # costo de entre i y j (costo de viaje + costo de operación en i)\n",
    "for i in nodos.keys():\n",
    "    C_ijv[i] = {} \n",
    "    for j in nodos.keys():\n",
    "        C_ijv[i][j] = {} \n",
    "        for v in V:\n",
    "            cargo_i= nodos[i][\"ID_Cargo\"]\n",
    "            cargo_j = nodos[j][\"ID_Cargo\"]\n",
    "            if i>n_cargos*2+len(V) or j>n_cargos*2+len(V):\n",
    "                C_ijv[i][j][v] = 0\n",
    "            else: \n",
    "                puerto_origen = nodos[i][\"ID_Puerto\"]\n",
    "                puerto_destino = nodos[j][\"ID_Puerto\"]\n",
    "                C_ijv[i][j][v] = costos_transporte_dict[v,puerto_origen,puerto_destino]['Costo_Viaje_libras']\n",
    "                if i==11 and j==2 and i==1:\n",
    "                    print(C_ijv[i][j][v])\n",
    "                if 0<i<=n_cargos and (i,j) in Av[v]:\n",
    "                    C_ijv[i][j][v] += costos_tiempo_dict[v,cargo_i]['Costos_Origen_hrs']\n",
    "\n",
    "                if n_cargos*2>=i>n_cargos and (i,j) in Av[v]:\n",
    "                    C_ijv[i][j][v] += costos_tiempo_dict[v,cargo_i]['Costos_Destino_hrs']"
   ]
  },
  {
   "cell_type": "code",
   "execution_count": 15,
   "metadata": {},
   "outputs": [],
   "source": [
    "Qj={i:nodos[i][\"Tamano\"] for i in nodos.keys()}\n",
    "\n",
    "Cs = {cargos_sheet[i]['ID_Cargo']:cargos_sheet[i]['Costo_SPOT'] for i in cargos_sheet.keys()}"
   ]
  },
  {
   "cell_type": "code",
   "execution_count": 16,
   "metadata": {},
   "outputs": [],
   "source": [
    "nodos_index = [i for i in nodos.keys()]"
   ]
  },
  {
   "cell_type": "markdown",
   "metadata": {},
   "source": [
    "## Heurísticas"
   ]
  },
  {
   "cell_type": "markdown",
   "metadata": {},
   "source": [
    "Se define la función objetivo y las restricciones del modelo"
   ]
  },
  {
   "cell_type": "code",
   "execution_count": 17,
   "metadata": {},
   "outputs": [],
   "source": [
    "def obj_rule(model):\n",
    "    return sum(C_ijv[i][j][v]*model.x[i,j,v]  for v in V for (i,j) in Av[v])+sum(Cs[i]*model.y[i] for i in nodos_carga)\n",
    "\n",
    "def const_1(model, i):\n",
    "    #return sum(model.x[i,j,v]  for v in V for j in Nv[v]) + model.y[i] == 1\n",
    "    return sum(model.x[i,j,v]  for v in V for j in Nv[v] if i in Nv[v]) + model.y[i] == 1\n",
    "\n",
    "def const_2(model, v):\n",
    "    #return sum(model.x[o[v],j,v] for j in Nv[v]) == 1\n",
    "    return sum(model.x[o[v],j,v] for j in Nv[v] if o[v]!=j) == 1\n",
    "\n",
    "def const_3(model, i, v):\n",
    "    if i in Nv[v]:\n",
    "        if i!=o[v] and i!=d[v]:\n",
    "            #return sum(model.x[i,j,v] for j in Nv[v])-sum(model.x[j,i,v] for j in Nv[v] if j!=i)==0\n",
    "            return sum(model.x[i,j,v] for j in Nv[v])-sum(model.x[j,i,v] for j in Nv[v])==0\n",
    "    return Constraint.Skip\n",
    "\n",
    "def const_4(model, v):\n",
    "    #return sum(model.x[j,d[v],v] for j in Nv[v]) == 1\n",
    "    return sum(model.x[j,d[v],v] for j in Nv[v] if d[v]!=j) == 1\n",
    "\n",
    "def const_5(model, i, j, v):\n",
    "    if j in NP_v[v]:\n",
    "        if (i,j) in Av[v]:\n",
    "            return model.l[i,v]+Qj[j]-model.l[j,v]<=Kv[v]*(1-model.x[i,j,v])\n",
    "    return Constraint.Skip\n",
    "\n",
    "def const_6(model, i, j, v):\n",
    "    if j in NP_v[v]:\n",
    "        if (i,n_cargos+j) in Av[v]:\n",
    "            return model.l[i,v]-Qj[j]-model.l[n_cargos+j,v]<=Kv[v]*(1-model.x[i,n_cargos+j,v])\n",
    "    return Constraint.Skip\n",
    "\n",
    "def const_7(model, i, v):\n",
    "    if i in NP_v[v]:\n",
    "        return (0, model.l[i,v], Kv[v])\n",
    "    return Constraint.Skip\n",
    "\n",
    "def const_8(model, i, j, v):\n",
    "    if (i,j) in Av[v]:\n",
    "        return model.t[i,v]+T_ijv[i][j][v]-model.t[j,v]<=(RT_i[i]+T_ijv[i][j][v])*(1-model.x[i,j,v])\n",
    "    return Constraint.Skip\n",
    "\n",
    "def const_9(model, i, v):\n",
    "    if i in NP_v[v]:\n",
    "        #return sum(model.x[i,j,v] for j in Nv[v])-sum(model.x[n_cargos+i,j,v] for j in Nv[v] if j!=i+n_cargos)==0\n",
    "        return sum(model.x[i,j,v] for j in Nv[v])-sum(model.x[n_cargos+i,j,v] for j in Nv[v])==0\n",
    "    return Constraint.Skip\n",
    "\n",
    "def const_10(model, i, v):\n",
    "    if i in NP_v[v]:\n",
    "        return model.t[i,v]+T_ijv[i][n_cargos+i][v]-model.t[n_cargos+i,v]<=0\n",
    "    return Constraint.Skip\n",
    "    \n",
    "def const_11(model, i, v):\n",
    "    if i in Nv[v]:\n",
    "        return (LT_i[i], model.t[i,v], RT_i[i])\n",
    "    return Constraint.Skip"
   ]
  },
  {
   "cell_type": "markdown",
   "metadata": {},
   "source": [
    "**definir_modelo** retorna una instancia del modelo con sus variables, valor objetivo y restricciones"
   ]
  },
  {
   "cell_type": "code",
   "execution_count": 18,
   "metadata": {},
   "outputs": [],
   "source": [
    "def definir_modelo():\n",
    "    #crear modelo\n",
    "    model_1 = ConcreteModel()\n",
    "    #definir variables \n",
    "    model_1.x = Var(nodos_index, nodos_index, V, within=Binary)\n",
    "    model_1.y = Var(nodos_carga, within=Binary)\n",
    "    model_1.t = Var(nodos_index,V)\n",
    "    model_1.l = Var(nodos_index,V, within=NonNegativeReals)\n",
    "    #definir VO\n",
    "    model_1.obj = Objective(rule=obj_rule)\n",
    "    #definir restricciones\n",
    "    model_1.const_1 = Constraint(nodos_carga, rule=const_1)\n",
    "    model_1.const_2 = Constraint(V, rule=const_2)\n",
    "    model_1.const_3 = Constraint(nodos_index, V, rule=const_3)\n",
    "    model_1.const_4 = Constraint(V, rule=const_4)\n",
    "    model_1.const_5 = Constraint(nodos_index, nodos_index, V, rule=const_5)\n",
    "    model_1.const_6 = Constraint(nodos_index, nodos_index, V, rule=const_6)\n",
    "    model_1.const_7 = Constraint(nodos_index, V, rule=const_7)\n",
    "    model_1.const_8 = Constraint(nodos_index, nodos_index, V, rule=const_8)\n",
    "    model_1.const_9 = Constraint(nodos_index, V, rule=const_9)\n",
    "    model_1.const_10 = Constraint(nodos_index, V, rule=const_10)\n",
    "    model_1.const_11 = Constraint(nodos_index, V, rule=const_11)\n",
    "    return model_1"
   ]
  },
  {
   "cell_type": "markdown",
   "metadata": {},
   "source": [
    "**random_removal** recibe una instancia del modelo, se eligen $q$ cargos para reasignar, y se fija el resto de las variables asociadas a los cargos restantes."
   ]
  },
  {
   "cell_type": "code",
   "execution_count": 19,
   "metadata": {},
   "outputs": [],
   "source": [
    "def random_removal(q, modelo):\n",
    "    # descomentar la siguente linea para asignar q random\n",
    "    #q = random.randint(3,7)\n",
    "    nuevo_modelo = definir_modelo() #se define un nuevo modelo\n",
    "    cargos_list = random.sample([i for i in range(1, n_cargos+1)],q) #lista de cargos totales\n",
    "    print(f\"cargos reasignados: {cargos_list}\")\n",
    "    for i in nodos_index:\n",
    "        for j in nodos_index:\n",
    "            for v in V:\n",
    "                if modelo.x[i,j,v]() == 1 and not(i in cargos_list) and not(j in cargos_list) and (i<=n_cargos*2 and j<=n_cargos*2):\n",
    "                    #los barcos que llevaban cargos siguen llevando,\n",
    "                    # a menos que el cargo que llevaban fuera uno de los elegidos\n",
    "                    nuevo_modelo.x[i,j,v].setlb(val = 1)\n",
    "                    nuevo_modelo.x[i,j,v].setub(val = 1)\n",
    "    for i in range(1, n_cargos+1):\n",
    "        if modelo.y[i]() == 1 and not(i in cargos_list):\n",
    "            #los spot que llevaban cargos siguien llevando,\n",
    "            #a menos que el cargo que llevaban fuera uno de los elegidos\n",
    "            nuevo_modelo.y[i].setlb(val = 1)\n",
    "            nuevo_modelo.y[i].setub(val = 1)\n",
    "    return nuevo_modelo"
   ]
  },
  {
   "cell_type": "markdown",
   "metadata": {},
   "source": [
    "**creation** recibe una instacia del modelo con las variables fijas y un solver, y resuelve el modelo."
   ]
  },
  {
   "cell_type": "code",
   "execution_count": 20,
   "metadata": {},
   "outputs": [],
   "source": [
    "def creation(model, solver):\n",
    "    solve_time = time.time()\n",
    "    solver.solve(model)\n",
    "    values_time = time.time()\n",
    "    x = model.x.extract_values()\n",
    "    x_ruta = [i for i in x if x[i] == 1 if (i[0]<=n_cargos*2 and i[1]<=n_cargos*2)]\n",
    "    y = model.y.extract_values()\n",
    "    y_spot = [i for i in y if y[i] == 1]\n",
    "    print(\"---tiempo values: %s segundos ---\" % (time.time() - values_time))\n",
    "    print(\"---tiempo solve: %s segundos ---\" % (time.time() - solve_time))\n",
    "    return [x_ruta,y_spot]"
   ]
  },
  {
   "cell_type": "code",
   "execution_count": 21,
   "metadata": {},
   "outputs": [],
   "source": [
    "def random_removal_2(q, solutions, model):\n",
    "    cargos_list = random.sample([i for i in range(1, n_cargos+1)],q)\n",
    "    cargos_list += [i+n_cargos for i in cargos_list]\n",
    "    print(f\"cargos reasignados: {cargos_list}\")\n",
    "    set_time = time.time()\n",
    "    for i in solutions[0]:\n",
    "        if not(i[0] in cargos_list) and not(i[1] in cargos_list):\n",
    "            model.x[i].setlb(val = 1)\n",
    "            model.x[i].setub(val = 1)\n",
    "    for i in solutions[1]:\n",
    "        if not(i in cargos_list):\n",
    "            model.y[i].setlb(val = 1)\n",
    "            model.y[i].setub(val = 1)\n",
    "    print(\"---tiempo for: %s segundos ---\" % (time.time() - set_time))\n",
    "    return model"
   ]
  },
  {
   "cell_type": "markdown",
   "metadata": {},
   "source": [
    "## huerística con copy"
   ]
  },
  {
   "cell_type": "code",
   "execution_count": 22,
   "metadata": {},
   "outputs": [],
   "source": [
    "import copy"
   ]
  },
  {
   "cell_type": "code",
   "execution_count": 32,
   "metadata": {
    "scrolled": false
   },
   "outputs": [
    {
     "name": "stdout",
     "output_type": "stream",
     "text": [
      "---tiempo clone: 1.118534803390503 segundos ---\n",
      "cargos reasignados: [15, 7, 30, 22]\n",
      "---tiempo for: 0.0 segundos ---\n",
      "---tiempo values: 0.003001689910888672 segundos ---\n",
      "---tiempo solve: 0.5331153869628906 segundos ---\n",
      "valor objetivo: 7863509.0\n",
      "iteración: 1\n",
      "---tiempo iteración: 2.0239038467407227 segundos ---\n",
      "---tiempo LNS: 2.0249037742614746 segundos ---\n",
      "\n",
      "\n",
      "cargos reasignados: [12, 14, 27, 29]\n",
      "---tiempo for: 0.0 segundos ---\n",
      "---tiempo values: 0.0030231475830078125 segundos ---\n",
      "---tiempo solve: 0.9894635677337646 segundos ---\n",
      "valor objetivo: 6777421.0\n",
      "iteración: 2\n",
      "---tiempo iteración: 1.857605218887329 segundos ---\n",
      "---tiempo LNS: 3.8825089931488037 segundos ---\n",
      "\n",
      "\n",
      "cargos reasignados: [11, 10, 26, 25]\n",
      "---tiempo for: 0.0 segundos ---\n",
      "---tiempo values: 0.003002643585205078 segundos ---\n",
      "---tiempo solve: 0.5492558479309082 segundos ---\n",
      "valor objetivo: 6053299.0\n",
      "iteración: 3\n",
      "---tiempo iteración: 1.711738109588623 segundos ---\n",
      "---tiempo LNS: 5.595190763473511 segundos ---\n",
      "\n",
      "\n",
      "cargos reasignados: [4, 6, 19, 21]\n",
      "---tiempo for: 0.0 segundos ---\n",
      "---tiempo values: 0.003003835678100586 segundos ---\n",
      "---tiempo solve: 0.5169305801391602 segundos ---\n",
      "valor objetivo: 5604539.0\n",
      "iteración: 4\n",
      "---tiempo iteración: 1.76387357711792 segundos ---\n",
      "---tiempo LNS: 7.359064340591431 segundos ---\n",
      "\n",
      "\n",
      "cargos reasignados: [13, 2, 28, 17]\n",
      "---tiempo for: 0.0 segundos ---\n",
      "---tiempo values: 0.0029997825622558594 segundos ---\n",
      "---tiempo solve: 0.5638554096221924 segundos ---\n",
      "valor objetivo: 4972419.0\n",
      "iteración: 5\n",
      "---tiempo iteración: 1.7173888683319092 segundos ---\n",
      "---tiempo LNS: 9.07645320892334 segundos ---\n",
      "\n",
      "\n",
      "cargos reasignados: [13, 10, 28, 25]\n",
      "---tiempo for: 0.0 segundos ---\n",
      "---tiempo values: 0.003696918487548828 segundos ---\n",
      "---tiempo solve: 0.5386602878570557 segundos ---\n",
      "valor objetivo: 4972419.0\n",
      "iteración: 6\n",
      "---tiempo iteración: 2.0201475620269775 segundos ---\n",
      "---tiempo LNS: 11.096600770950317 segundos ---\n",
      "\n",
      "\n",
      "cargos reasignados: [9, 2, 24, 17]\n",
      "---tiempo for: 0.0 segundos ---\n",
      "---tiempo values: 0.0029976367950439453 segundos ---\n",
      "---tiempo solve: 0.5695738792419434 segundos ---\n",
      "valor objetivo: 4709497.0\n",
      "iteración: 7\n",
      "---tiempo iteración: 1.7683722972869873 segundos ---\n",
      "---tiempo LNS: 12.864973068237305 segundos ---\n",
      "\n",
      "\n",
      "cargos reasignados: [8, 11, 23, 26]\n",
      "---tiempo for: 0.0 segundos ---\n",
      "---tiempo values: 0.0033774375915527344 segundos ---\n",
      "---tiempo solve: 0.8664669990539551 segundos ---\n",
      "valor objetivo: 4709497.0\n",
      "iteración: 8\n",
      "---tiempo iteración: 2.647343873977661 segundos ---\n",
      "---tiempo LNS: 15.512316942214966 segundos ---\n",
      "\n",
      "\n",
      "cargos reasignados: [1, 15, 16, 30]\n",
      "---tiempo for: 0.0 segundos ---\n",
      "---tiempo values: 0.00400090217590332 segundos ---\n",
      "---tiempo solve: 0.5938043594360352 segundos ---\n",
      "valor objetivo: 4658511.0\n",
      "iteración: 9\n",
      "---tiempo iteración: 1.9457736015319824 segundos ---\n",
      "---tiempo LNS: 17.45809054374695 segundos ---\n",
      "\n",
      "\n"
     ]
    }
   ],
   "source": [
    "import random\n",
    "import time\n",
    "import matplotlib.pyplot as plt\n",
    "import numpy as np\n",
    "\n",
    "x_axis = []\n",
    "y_axis = []\n",
    "soluciones = []\n",
    "count=1\n",
    "modelo = definir_modelo()\n",
    "iter_time = time.time()\n",
    "respaldo = copy.deepcopy(modelo)\n",
    "print(\"---tiempo clone: %s segundos ---\" % (time.time() - iter_time))\n",
    "q = 2\n",
    "iteraciones = 10\n",
    "for i in range(n_cargos):\n",
    "    modelo.y[i+1].setlb(val = 1)\n",
    "    modelo.y[i+1].setub(val = 1)\n",
    "solver = SolverFactory('gurobi')\n",
    "solver.solve(modelo)\n",
    "solver.solve(modelo)\n",
    "x = modelo.x.extract_values()\n",
    "y = modelo.y.extract_values()\n",
    "soluciones.append([i for i in x if x[i] == 1 if (i[0]<=n_cargos*2 and i[1]<=n_cargos*2)])\n",
    "soluciones.append([i for i in y if y[i] == 1])\n",
    "start_time = time.time()\n",
    "while(count<iteraciones):\n",
    "    iter_time = time.time()\n",
    "    respaldo2 = copy.deepcopy(respaldo)\n",
    "    modelo_seteado = random_removal_2(q, soluciones, respaldo2)\n",
    "    soluciones = creation(modelo_seteado,solver)\n",
    "    y_axis.append(modelo_seteado.obj())\n",
    "    x_axis.append(count)\n",
    "    print(f\"valor objetivo: {modelo_seteado.obj()}\")\n",
    "    print(f\"iteración: {count}\")\n",
    "    print(\"---tiempo iteración: %s segundos ---\" % (time.time() - iter_time))\n",
    "    print(\"---tiempo LNS: %s segundos ---\\n\\n\" % (time.time() - start_time))\n",
    "    count += 1"
   ]
  },
  {
   "cell_type": "code",
   "execution_count": 33,
   "metadata": {},
   "outputs": [
    {
     "data": {
      "image/png": "[encoded data removed]",
      "text/plain": [
       "<Figure size 432x288 with 1 Axes>"
      ]
     },
     "metadata": {
      "needs_background": "light"
     },
     "output_type": "display_data"
    }
   ],
   "source": [
    "# plot\n",
    "\n",
    "\n",
    "fig, ax = plt.subplots()\n",
    "plt.axhline(y=2279204, color='r', linestyle='-')\n",
    "ax.plot(x_axis, y_axis, linewidth=2.0, label = \"LNS\")\n",
    "\n",
    "\n",
    "\n",
    "plt.show()"
   ]
  },
  {
   "cell_type": "markdown",
   "metadata": {},
   "source": [
    "## Heurística sin copy"
   ]
  },
  {
   "cell_type": "code",
   "execution_count": 34,
   "metadata": {
    "scrolled": false
   },
   "outputs": [
    {
     "name": "stdout",
     "output_type": "stream",
     "text": [
      "---tiempo clone: 0.0 segundos ---\n",
      "cargos reasignados: [9, 8, 24, 23]\n",
      "---tiempo for: 0.0 segundos ---\n",
      "---tiempo values: 0.0030002593994140625 segundos ---\n",
      "---tiempo solve: 0.5772168636322021 segundos ---\n",
      "valor objetivo: 7167744.0\n",
      "iteración: 1\n",
      "---tiempo iteración: 0.9302070140838623 segundos ---\n",
      "---tiempo LNS: 0.9302070140838623 segundos ---\n",
      "\n",
      "\n",
      "cargos reasignados: [7, 14, 22, 29]\n",
      "---tiempo for: 0.0 segundos ---\n",
      "---tiempo values: 0.0030019283294677734 segundos ---\n",
      "---tiempo solve: 0.5530247688293457 segundos ---\n",
      "valor objetivo: 6277390.0\n",
      "iteración: 2\n",
      "---tiempo iteración: 1.2620422840118408 segundos ---\n",
      "---tiempo LNS: 2.193246841430664 segundos ---\n",
      "\n",
      "\n",
      "cargos reasignados: [4, 10, 19, 25]\n",
      "---tiempo for: 0.0 segundos ---\n",
      "---tiempo values: 0.0029435157775878906 segundos ---\n",
      "---tiempo solve: 0.5780861377716064 segundos ---\n",
      "valor objetivo: 5558466.0\n",
      "iteración: 3\n",
      "---tiempo iteración: 1.2030467987060547 segundos ---\n",
      "---tiempo LNS: 3.3962936401367188 segundos ---\n",
      "\n",
      "\n",
      "cargos reasignados: [14, 9, 29, 24]\n",
      "---tiempo for: 0.0 segundos ---\n",
      "---tiempo values: 0.0030002593994140625 segundos ---\n",
      "---tiempo solve: 0.6006906032562256 segundos ---\n",
      "valor objetivo: 5558466.0\n",
      "iteración: 4\n",
      "---tiempo iteración: 0.9064545631408691 segundos ---\n",
      "---tiempo LNS: 4.302748203277588 segundos ---\n",
      "\n",
      "\n",
      "cargos reasignados: [4, 12, 19, 27]\n",
      "---tiempo for: 0.0 segundos ---\n",
      "---tiempo values: 0.0030088424682617188 segundos ---\n",
      "---tiempo solve: 0.6023445129394531 segundos ---\n",
      "valor objetivo: 5148613.0\n",
      "iteración: 5\n",
      "---tiempo iteración: 1.2763562202453613 segundos ---\n",
      "---tiempo LNS: 5.579104423522949 segundos ---\n",
      "\n",
      "\n",
      "cargos reasignados: [13, 10, 28, 25]\n",
      "---tiempo for: 0.0 segundos ---\n",
      "---tiempo values: 0.006938934326171875 segundos ---\n",
      "---tiempo solve: 0.5648050308227539 segundos ---\n",
      "valor objetivo: 4458361.0\n",
      "iteración: 6\n",
      "---tiempo iteración: 1.1910858154296875 segundos ---\n",
      "---tiempo LNS: 6.770190238952637 segundos ---\n",
      "\n",
      "\n",
      "cargos reasignados: [6, 11, 21, 26]\n",
      "---tiempo for: 0.0 segundos ---\n",
      "---tiempo values: 0.0019998550415039062 segundos ---\n",
      "---tiempo solve: 0.6334805488586426 segundos ---\n",
      "valor objetivo: 4102557.0\n",
      "iteración: 7\n",
      "---tiempo iteración: 0.9553928375244141 segundos ---\n",
      "---tiempo LNS: 7.725583076477051 segundos ---\n",
      "\n",
      "\n",
      "cargos reasignados: [12, 6, 27, 21]\n",
      "---tiempo for: 0.0 segundos ---\n",
      "---tiempo values: 0.004980325698852539 segundos ---\n",
      "---tiempo solve: 0.5774567127227783 segundos ---\n",
      "valor objetivo: 4102557.0\n",
      "iteración: 8\n",
      "---tiempo iteración: 1.281170129776001 segundos ---\n",
      "---tiempo LNS: 9.006753206253052 segundos ---\n",
      "\n",
      "\n",
      "cargos reasignados: [11, 8, 26, 23]\n",
      "---tiempo for: 8.511543273925781e-05 segundos ---\n",
      "---tiempo values: 0.001996755599975586 segundos ---\n",
      "---tiempo solve: 0.5645229816436768 segundos ---\n",
      "valor objetivo: 4079208.0\n",
      "iteración: 9\n",
      "---tiempo iteración: 1.1697282791137695 segundos ---\n",
      "---tiempo LNS: 10.176481485366821 segundos ---\n",
      "\n",
      "\n"
     ]
    }
   ],
   "source": [
    "import random\n",
    "import time\n",
    "import matplotlib.pyplot as plt\n",
    "import numpy as np\n",
    "\n",
    "x_axis = []\n",
    "y_axis = []\n",
    "soluciones = []\n",
    "count=1\n",
    "modelo = definir_modelo()\n",
    "iter_time = time.time()\n",
    "print(\"---tiempo clone: %s segundos ---\" % (time.time() - iter_time))\n",
    "q = 2\n",
    "iteraciones = 10\n",
    "for i in range(n_cargos):\n",
    "    modelo.y[i+1].setlb(val = 1)\n",
    "    modelo.y[i+1].setub(val = 1)\n",
    "solver = SolverFactory('gurobi')\n",
    "solver.solve(modelo)\n",
    "solver.solve(modelo)\n",
    "x = modelo.x.extract_values()\n",
    "y = modelo.y.extract_values()\n",
    "soluciones.append([i for i in x if x[i] == 1 if (i[0]<=n_cargos*2 and i[1]<=n_cargos*2)])\n",
    "soluciones.append([i for i in y if y[i] == 1])\n",
    "start_time = time.time()\n",
    "while(count<iteraciones):\n",
    "    iter_time = time.time()\n",
    "    modelo = definir_modelo()\n",
    "    modelo_seteado = random_removal_2(q, soluciones, modelo)\n",
    "    soluciones = creation(modelo_seteado,solver)\n",
    "    y_axis.append(modelo_seteado.obj())\n",
    "    x_axis.append(count)\n",
    "    print(f\"valor objetivo: {modelo_seteado.obj()}\")\n",
    "    print(f\"iteración: {count}\")\n",
    "    print(\"---tiempo iteración: %s segundos ---\" % (time.time() - iter_time))\n",
    "    print(\"---tiempo LNS: %s segundos ---\\n\\n\" % (time.time() - start_time))\n",
    "    count += 1"
   ]
  },
  {
   "cell_type": "code",
   "execution_count": 35,
   "metadata": {},
   "outputs": [
    {
     "data": {
      "image/png": "[encoded data removed]",
      "text/plain": [
       "<Figure size 432x288 with 1 Axes>"
      ]
     },
     "metadata": {
      "needs_background": "light"
     },
     "output_type": "display_data"
    }
   ],
   "source": [
    "# plot\n",
    "\n",
    "\n",
    "fig, ax = plt.subplots()\n",
    "plt.axhline(y=2279204, color='r', linestyle='-')\n",
    "ax.plot(x_axis, y_axis, linewidth=2.0, label = \"LNS\")\n",
    "\n",
    "\n",
    "\n",
    "plt.show()"
   ]
  },
  {
   "cell_type": "code",
   "execution_count": 30,
   "metadata": {},
   "outputs": [
    {
     "name": "stdout",
     "output_type": "stream",
     "text": [
      "recorrido de barcos\n",
      "(3, 11, 1)\n",
      "(18, 23, 1)\n",
      "(5, 20, 4)\n",
      "(20, 38, 4)\n",
      "(8, 18, 1)\n",
      "(23, 35, 1)\n",
      "(9, 24, 2)\n",
      "(24, 15, 2)\n",
      "(10, 25, 3)\n",
      "(25, 37, 3)\n",
      "(11, 26, 1)\n",
      "(26, 8, 1)\n",
      "(15, 30, 2)\n",
      "(30, 36, 2)\n",
      "(31, 3, 1)\n",
      "(32, 9, 2)\n",
      "(33, 10, 3)\n",
      "(34, 5, 4)\n",
      "\n",
      "\n",
      "cargos asignados a spot\n",
      "1\n",
      "2\n",
      "4\n",
      "6\n",
      "7\n",
      "12\n",
      "13\n",
      "14\n"
     ]
    }
   ],
   "source": [
    "print(\"recorrido de barcos\")\n",
    "for i in modelo_seteado.x:\n",
    "    if modelo_seteado.x[i].value == 1:\n",
    "        print(i)\n",
    "print(\"\\n\")\n",
    "print(\"cargos asignados a spot\")\n",
    "for i in modelo_seteado.y:\n",
    "    if modelo_seteado.y[i].value == 1:\n",
    "        print(i)"
   ]
  },
  {
   "cell_type": "code",
   "execution_count": null,
   "metadata": {},
   "outputs": [],
   "source": []
  },
  {
   "cell_type": "code",
   "execution_count": null,
   "metadata": {},
   "outputs": [],
   "source": []
  }
 ],
 "metadata": {
  "kernelspec": {
   "display_name": "Python 3",
   "language": "python",
   "name": "python3"
  },
  "language_info": {
   "codemirror_mode": {
    "name": "ipython",
    "version": 3
   },
   "file_extension": ".py",
   "mimetype": "text/x-python",
   "name": "python",
   "nbconvert_exporter": "python",
   "pygments_lexer": "ipython3",
   "version": "3.8.6"
  }
 },
 "nbformat": 4,
 "nbformat_minor": 4
}
