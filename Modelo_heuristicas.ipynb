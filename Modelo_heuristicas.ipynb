{
 "cells": [
  {
   "cell_type": "markdown",
   "metadata": {},
   "source": [
    "# Modelo resuelto con heurísticas"
   ]
  },
  {
   "cell_type": "markdown",
   "metadata": {},
   "source": [
    "* [Preprocesamiento de datos](#Preprocesamiento-de-datos)\n",
    "* [Heurísticas](#Heurísticas)"
   ]
  },
  {
   "cell_type": "markdown",
   "metadata": {},
   "source": [
    "## Preprocesamiento de datos "
   ]
  },
  {
   "cell_type": "code",
   "execution_count": 87,
   "metadata": {},
   "outputs": [],
   "source": [
    "import pandas as pd\n",
    "from gurobipy import *\n",
    "from pyomo.environ import *"
   ]
  },
  {
   "cell_type": "code",
   "execution_count": 179,
   "metadata": {},
   "outputs": [],
   "source": [
    "xls = pd.ExcelFile('Proyecto_1_TransporteMaritimo_Dataset1.xlsx', engine='openpyxl')\n",
    "nombres= xls.sheet_names\n",
    "df1 = pd.read_excel(xls, nombres[0])\n",
    "df2 = pd.read_excel(xls, nombres[1])\n",
    "df3= pd.read_excel(xls, nombres[2])\n",
    "df4= pd.read_excel(xls, nombres[3])\n",
    "df5= pd.read_excel(xls, nombres[4])"
   ]
  },
  {
   "cell_type": "markdown",
   "metadata": {},
   "source": [
    "Se transforman los datos de los dataframes a diccionarios para el procesamiento de datos"
   ]
  },
  {
   "cell_type": "code",
   "execution_count": 180,
   "metadata": {},
   "outputs": [],
   "source": [
    "barcos_sheet = df1.to_dict(\"index\")\n",
    "compatibilidad_sheet = df2.to_dict()\n",
    "cargos_sheet = df3.to_dict(\"index\")\n",
    "costos_transporte_sheet = df4.to_dict(\"index\")\n",
    "costos_transporte_dict = {(costos_transporte_sheet[i]['ID_Barco'],costos_transporte_sheet[i]['Puerto_Origen'],costos_transporte_sheet[i]['Puerto_Destino']) : {'Tiempo_Viaje_hrs':costos_transporte_sheet[i]['Tiempo_Viaje_hrs'], 'Costo_Viaje_libras':costos_transporte_sheet[i]['Costo_Viaje_libras']} for i in costos_transporte_sheet.keys()}\n",
    "costos_tiempo_sheet = df5.to_dict(\"index\")\n",
    "costos_tiempo_dict = {(costos_tiempo_sheet[i]['ID_Barco'],costos_tiempo_sheet[i]['ID_Cargo']) : {'Tiempo_Origen_hrs':costos_tiempo_sheet[i]['Tiempo_Origen_hrs'], 'Costos_Origen_hrs':costos_tiempo_sheet[i]['Costos_Origen_hrs'], 'Tiempo_Destino_hrs':costos_tiempo_sheet[i]['Tiempo_Destino_hrs'], 'Costos_Destino_hrs':costos_tiempo_sheet[i]['Costos_Destino_hrs']} for i in costos_tiempo_sheet.keys()}"
   ]
  },
  {
   "cell_type": "code",
   "execution_count": 181,
   "metadata": {},
   "outputs": [],
   "source": [
    "n_cargos = len([cargos_sheet[i]['ID_Cargo'] for i in cargos_sheet.keys() if cargos_sheet[i]['ID_Cargo']>=0])"
   ]
  },
  {
   "cell_type": "markdown",
   "metadata": {},
   "source": [
    " La manera en que funcionan los nodos es: los primeros $n$ ($n =$ número de cargos) son los nodos de carga, los siguientes $n$ son los nodos de descarga, los siguientes $v$ ($v =$ número de barcos) son los nodos de origen, y los último v son los nodos de destino."
   ]
  },
  {
   "cell_type": "code",
   "execution_count": 182,
   "metadata": {},
   "outputs": [],
   "source": [
    "V = [1+i for i in barcos_sheet.keys()] ## conjunto barcos\n",
    "n_barcos = len(V)"
   ]
  },
  {
   "cell_type": "code",
   "execution_count": 183,
   "metadata": {},
   "outputs": [],
   "source": [
    "Kv= {} # conjunto capacidades de barcos\n",
    "for i in barcos_sheet.keys():\n",
    "    Kv[barcos_sheet[i]['ID_Barco']] =  barcos_sheet[i]['Capacidad']"
   ]
  },
  {
   "cell_type": "code",
   "execution_count": 184,
   "metadata": {},
   "outputs": [],
   "source": [
    "# N^P\n",
    "nodos_carga= [cargos_sheet[i]['ID_Cargo'] for i in cargos_sheet.keys() if cargos_sheet[i]['ID_Cargo']>=0]\n",
    "\n",
    "#N^D\n",
    "nodos_descarga= [i+len(nodos_carga) for i in range(1,len(nodos_carga)+1)] ##conjunto nodos de descarga"
   ]
  },
  {
   "cell_type": "code",
   "execution_count": 185,
   "metadata": {},
   "outputs": [],
   "source": [
    "nodos = {}\n",
    "for i in range(n_cargos):\n",
    "    nodos[cargos_sheet[i]['ID_Cargo']] = {'ID_Cargo': cargos_sheet[i]['ID_Cargo'],\n",
    "                                          'ID_Puerto': cargos_sheet[i]['ID_Puerto_Origen'],\n",
    "                                          'Tamano': cargos_sheet[i]['Tamano'],\n",
    "                                          'Costo_SPOT': cargos_sheet[i]['Costo_SPOT'],\n",
    "                                          'LT': cargos_sheet[i]['LT_Carga'],\n",
    "                                          'RT': cargos_sheet[i]['RT_Carga']}\n",
    "    \n",
    "    nodos[cargos_sheet[i]['ID_Cargo']+n_cargos] = {'ID_Cargo': cargos_sheet[i]['ID_Cargo'],\n",
    "                                          'ID_Puerto': cargos_sheet[i]['ID_Puerto_Destino'],\n",
    "                                          'Tamano': cargos_sheet[i]['Tamano'],\n",
    "                                          'Costo_SPOT': cargos_sheet[i]['Costo_SPOT'],\n",
    "                                          'LT': cargos_sheet[i]['LT_Descarga'],\n",
    "                                          'RT': cargos_sheet[i]['RT_Descarga']}\n",
    "o = {}\n",
    "d = {}\n",
    "for v in V:\n",
    "    o[v] = n_cargos*2+v\n",
    "    nodos[n_cargos*2+v] = {'Costo_SPOT': 0,\n",
    "                           'ID_Cargo': 0,\n",
    "                           'ID_Puerto': barcos_sheet[v-1]['ID_Puerto '],\n",
    "                           'LT': barcos_sheet[v-1]['Tiempo_Inicio'],\n",
    "                           'RT': barcos_sheet[v-1]['Tiempo_Inicio'],\n",
    "                           'Tamano': 0}\n",
    "    d[v] = n_cargos*2+n_barcos+v\n",
    "    nodos[n_cargos*2+n_barcos+v] = {'Costo_SPOT': 0,\n",
    "                                    'ID_Cargo': 0,\n",
    "                                    'ID_Puerto': 0,\n",
    "                                    'LT': 100000,\n",
    "                                    'RT': 100000,\n",
    "                                    'Tamano': 0}"
   ]
  },
  {
   "cell_type": "code",
   "execution_count": 186,
   "metadata": {},
   "outputs": [],
   "source": [
    "compatibilidad = {}\n",
    "for i in V:\n",
    "    compatibilidad[i] = [int(j) for j in list(df2.loc[i-1])[1:] if j>0]\n",
    "compatibilidad\n",
    "\n",
    "Nv = {}\n",
    "for i in V:\n",
    "    Nv[i] = []\n",
    "    for j in nodos.keys():\n",
    "        if nodos[j][\"ID_Cargo\"] in compatibilidad[i] or (j == i+n_cargos*2 or j==i+n_cargos*2+len(V)): \n",
    "            Nv[i].append(j)"
   ]
  },
  {
   "cell_type": "code",
   "execution_count": 187,
   "metadata": {},
   "outputs": [],
   "source": [
    "\"\"\"import itertools\n",
    "Av = {}\n",
    "for v in V:\n",
    "    Av[v] = list(itertools.permutations(Nv[v],2))\n",
    "\"\"\"\n",
    "Av={}\n",
    "indices = []\n",
    "for v in V:\n",
    "    Av[v] = [] \n",
    "    for i in Nv[v]:\n",
    "        for j in Nv[v]:\n",
    "                Av[v].append((i,j))\n",
    "                indices.append((i,j,v))\n",
    "indices = tuplelist(indices)"
   ]
  },
  {
   "cell_type": "code",
   "execution_count": 188,
   "metadata": {},
   "outputs": [],
   "source": [
    "NP_v = {}\n",
    "for v in V:\n",
    "    NP_v[v] = [i for i in nodos_carga if i in Nv[v]]\n",
    "\n",
    "ND_v = {}\n",
    "for v in V:\n",
    "    ND_v[v] = [i for i in nodos_descarga if i in Nv[v]]\n"
   ]
  },
  {
   "cell_type": "code",
   "execution_count": 189,
   "metadata": {},
   "outputs": [],
   "source": [
    "LT_i = {i:nodos[i][\"LT\"] for i in nodos.keys()} #lower bounds ventana de tiempo por nodo\n",
    "RT_i = {i:nodos[i][\"RT\"] for i in nodos.keys()} #upper bounds ventana de tiempo por nodo\n"
   ]
  },
  {
   "cell_type": "code",
   "execution_count": 190,
   "metadata": {},
   "outputs": [],
   "source": [
    "T_ijv={} # tiempo de entre i y j (tiempo de viaje + tiempo de operación en i)\n",
    "for i in nodos.keys():\n",
    "    T_ijv[i] = {} \n",
    "    for j in nodos.keys():\n",
    "        T_ijv[i][j] = {} \n",
    "        for v in V:\n",
    "            cargo_i= nodos[i][\"ID_Cargo\"]\n",
    "            cargo_j = nodos[j][\"ID_Cargo\"]\n",
    "            if i>n_cargos*2+len(V) or j>n_cargos*2+len(V):\n",
    "                T_ijv[i][j][v] = 0\n",
    "            else: \n",
    "                puerto_origen = nodos[i][\"ID_Puerto\"]\n",
    "                puerto_destino = nodos[j][\"ID_Puerto\"]\n",
    "                T_ijv[i][j][v] = costos_transporte_dict[v,puerto_origen,puerto_destino]['Tiempo_Viaje_hrs']\n",
    "                if 0<i<=n_cargos and (i,j) in Av[v]: \n",
    "                    T_ijv[i][j][v] += costos_tiempo_dict[v,cargo_i]['Tiempo_Origen_hrs']\n",
    "                if n_cargos*2>=i>n_cargos and (i,j) in Av[v]:\n",
    "                    T_ijv[i][j][v] += costos_tiempo_dict[v,cargo_i]['Tiempo_Destino_hrs']\n",
    "                \n",
    "                # se les asigna tiempo de operación igual a 0 a los (i,j) que no pertenecen a Av\n",
    "                # los (i,j) que no pertenecen a Av aún tienen el tiempo entre el puerto de i y j"
   ]
  },
  {
   "cell_type": "code",
   "execution_count": 191,
   "metadata": {},
   "outputs": [],
   "source": [
    "C_ijv={} # costo de entre i y j (costo de viaje + costo de operación en i)\n",
    "for i in nodos.keys():\n",
    "    C_ijv[i] = {} \n",
    "    for j in nodos.keys():\n",
    "        C_ijv[i][j] = {} \n",
    "        for v in V:\n",
    "            cargo_i= nodos[i][\"ID_Cargo\"]\n",
    "            cargo_j = nodos[j][\"ID_Cargo\"]\n",
    "            if i>n_cargos*2+len(V) or j>n_cargos*2+len(V):\n",
    "                C_ijv[i][j][v] = 0\n",
    "            else: \n",
    "                puerto_origen = nodos[i][\"ID_Puerto\"]\n",
    "                puerto_destino = nodos[j][\"ID_Puerto\"]\n",
    "                C_ijv[i][j][v] = costos_transporte_dict[v,puerto_origen,puerto_destino]['Costo_Viaje_libras']\n",
    "                if i==11 and j==2 and i==1:\n",
    "                    print(C_ijv[i][j][v])\n",
    "                if 0<i<=n_cargos and (i,j) in Av[v]:\n",
    "                    C_ijv[i][j][v] += costos_tiempo_dict[v,cargo_i]['Costos_Origen_hrs']\n",
    "\n",
    "                if n_cargos*2>=i>n_cargos and (i,j) in Av[v]:\n",
    "                    C_ijv[i][j][v] += costos_tiempo_dict[v,cargo_i]['Costos_Destino_hrs']"
   ]
  },
  {
   "cell_type": "code",
   "execution_count": 192,
   "metadata": {},
   "outputs": [],
   "source": [
    "Qj={i:nodos[i][\"Tamano\"] for i in nodos.keys()}\n",
    "\n",
    "Cs = {cargos_sheet[i]['ID_Cargo']:cargos_sheet[i]['Costo_SPOT'] for i in cargos_sheet.keys()}"
   ]
  },
  {
   "cell_type": "code",
   "execution_count": 193,
   "metadata": {},
   "outputs": [],
   "source": [
    "nodos_index = [i for i in nodos.keys()]"
   ]
  },
  {
   "cell_type": "markdown",
   "metadata": {},
   "source": [
    "## Heurísticas"
   ]
  },
  {
   "cell_type": "markdown",
   "metadata": {},
   "source": [
    "Se define la función objetivo y las restricciones del modelo"
   ]
  },
  {
   "cell_type": "code",
   "execution_count": 194,
   "metadata": {},
   "outputs": [],
   "source": [
    "def obj_rule(model):\n",
    "    return sum(C_ijv[i][j][v]*model.x[i,j,v]  for v in V for (i,j) in Av[v])+sum(Cs[i]*model.y[i] for i in nodos_carga)\n",
    "\n",
    "def const_1(model, i):\n",
    "    #return sum(model.x[i,j,v]  for v in V for j in Nv[v]) + model.y[i] == 1\n",
    "    return sum(model.x[i,j,v]  for v in V for j in Nv[v] if i in Nv[v]) + model.y[i] == 1\n",
    "\n",
    "def const_2(model, v):\n",
    "    #return sum(model.x[o[v],j,v] for j in Nv[v]) == 1\n",
    "    return sum(model.x[o[v],j,v] for j in Nv[v] if o[v]!=j) == 1\n",
    "\n",
    "def const_3(model, i, v):\n",
    "    if i in Nv[v]:\n",
    "        if i!=o[v] and i!=d[v]:\n",
    "            #return sum(model.x[i,j,v] for j in Nv[v])-sum(model.x[j,i,v] for j in Nv[v] if j!=i)==0\n",
    "            return sum(model.x[i,j,v] for j in Nv[v])-sum(model.x[j,i,v] for j in Nv[v])==0\n",
    "    return Constraint.Skip\n",
    "\n",
    "def const_4(model, v):\n",
    "    #return sum(model.x[j,d[v],v] for j in Nv[v]) == 1\n",
    "    return sum(model.x[j,d[v],v] for j in Nv[v] if d[v]!=j) == 1\n",
    "\n",
    "def const_5(model, i, j, v):\n",
    "    if j in NP_v[v]:\n",
    "        if (i,j) in Av[v]:\n",
    "            return model.l[i,v]+Qj[j]-model.l[j,v]<=Kv[v]*(1-model.x[i,j,v])\n",
    "    return Constraint.Skip\n",
    "\n",
    "def const_6(model, i, j, v):\n",
    "    if j in NP_v[v]:\n",
    "        if (i,n_cargos+j) in Av[v]:\n",
    "            return model.l[i,v]-Qj[j]-model.l[n_cargos+j,v]<=Kv[v]*(1-model.x[i,n_cargos+j,v])\n",
    "    return Constraint.Skip\n",
    "\n",
    "def const_7(model, i, v):\n",
    "    if i in NP_v[v]:\n",
    "        return (0, model.l[i,v], Kv[v])\n",
    "    return Constraint.Skip\n",
    "\n",
    "def const_8(model, i, j, v):\n",
    "    if (i,j) in Av[v]:\n",
    "        return model.t[i,v]+T_ijv[i][j][v]-model.t[j,v]<=(RT_i[i]+T_ijv[i][j][v])*(1-model.x[i,j,v])\n",
    "    return Constraint.Skip\n",
    "\n",
    "def const_9(model, i, v):\n",
    "    if i in NP_v[v]:\n",
    "        #return sum(model.x[i,j,v] for j in Nv[v])-sum(model.x[n_cargos+i,j,v] for j in Nv[v] if j!=i+n_cargos)==0\n",
    "        return sum(model.x[i,j,v] for j in Nv[v])-sum(model.x[n_cargos+i,j,v] for j in Nv[v])==0\n",
    "    return Constraint.Skip\n",
    "\n",
    "def const_10(model, i, v):\n",
    "    if i in NP_v[v]:\n",
    "        return model.t[i,v]+T_ijv[i][n_cargos+i][v]-model.t[n_cargos+i,v]<=0\n",
    "    return Constraint.Skip\n",
    "    \n",
    "def const_11(model, i, v):\n",
    "    if i in Nv[v]:\n",
    "        return (LT_i[i], model.t[i,v], RT_i[i])\n",
    "    return Constraint.Skip"
   ]
  },
  {
   "cell_type": "markdown",
   "metadata": {},
   "source": [
    "**definir_modelo** retorna una instancia del modelo con sus variables, valor objetivo y restricciones"
   ]
  },
  {
   "cell_type": "code",
   "execution_count": 195,
   "metadata": {},
   "outputs": [],
   "source": [
    "def definir_modelo():\n",
    "    #crear modelo\n",
    "    model_1 = ConcreteModel()\n",
    "    #definir variables \n",
    "    model_1.x = Var(nodos_index, nodos_index, V, within=Binary)\n",
    "    model_1.y = Var(nodos_carga, within=Binary)\n",
    "    model_1.t = Var(nodos_index,V)\n",
    "    model_1.l = Var(nodos_index,V, within=NonNegativeReals)\n",
    "    #definir VO\n",
    "    model_1.obj = Objective(rule=obj_rule)\n",
    "    #definir restricciones\n",
    "    model_1.const_1 = Constraint(nodos_carga, rule=const_1)\n",
    "    model_1.const_2 = Constraint(V, rule=const_2)\n",
    "    model_1.const_3 = Constraint(nodos_index, V, rule=const_3)\n",
    "    model_1.const_4 = Constraint(V, rule=const_4)\n",
    "    model_1.const_5 = Constraint(nodos_index, nodos_index, V, rule=const_5)\n",
    "    model_1.const_6 = Constraint(nodos_index, nodos_index, V, rule=const_6)\n",
    "    model_1.const_7 = Constraint(nodos_index, V, rule=const_7)\n",
    "    model_1.const_8 = Constraint(nodos_index, nodos_index, V, rule=const_8)\n",
    "    model_1.const_9 = Constraint(nodos_index, V, rule=const_9)\n",
    "    model_1.const_10 = Constraint(nodos_index, V, rule=const_10)\n",
    "    model_1.const_11 = Constraint(nodos_index, V, rule=const_11)\n",
    "    return model_1"
   ]
  },
  {
   "cell_type": "markdown",
   "metadata": {},
   "source": [
    "**random_removal** recibe una instancia del modelo, se eligen $q$ cargos para reasignar, y se fija el resto de las variables asociadas a los cargos restantes."
   ]
  },
  {
   "cell_type": "code",
   "execution_count": 196,
   "metadata": {},
   "outputs": [],
   "source": [
    "def random_removal(q, modelo):\n",
    "    # descomentar la siguente linea para asignar q random\n",
    "    #q = random.randint(3,7)\n",
    "    nuevo_modelo = definir_modelo() #se define un nuevo modelo\n",
    "    cargos_list = random.sample([i for i in range(1, n_cargos+1)],q) #lista de cargos totales\n",
    "    print(f\"cargos reasignados: {cargos_list}\")\n",
    "    for i in nodos_index:\n",
    "        for j in nodos_index:\n",
    "            for v in V:\n",
    "                if modelo.x[i,j,v]() == 1 and not(i in cargos_list) and not(j in cargos_list) and (i<=n_cargos*2 and j<=n_cargos*2):\n",
    "                    #los barcos que llevaban cargos siguen llevando,\n",
    "                    # a menos que el cargo que llevaban fuera uno de los elegidos\n",
    "                    nuevo_modelo.x[i,j,v].setlb(val = 1)\n",
    "                    nuevo_modelo.x[i,j,v].setub(val = 1)\n",
    "    for i in range(1, n_cargos+1):\n",
    "        if modelo.y[i]() == 1 and not(i in cargos_list):\n",
    "            #los spot que llevaban cargos siguien llevando,\n",
    "            #a menos que el cargo que llevaban fuera uno de los elegidos\n",
    "            nuevo_modelo.y[i].setlb(val = 1)\n",
    "            nuevo_modelo.y[i].setub(val = 1)\n",
    "    return nuevo_modelo"
   ]
  },
  {
   "cell_type": "markdown",
   "metadata": {},
   "source": [
    "**creation** recibe una instacia del modelo con las variables fijas y un solver, y resuelve el modelo."
   ]
  },
  {
   "cell_type": "code",
   "execution_count": 197,
   "metadata": {},
   "outputs": [],
   "source": [
    "def creation(modelo, solver):\n",
    "    solver.solve(modelo)\n",
    "    return modelo"
   ]
  },
  {
   "cell_type": "code",
   "execution_count": 198,
   "metadata": {},
   "outputs": [],
   "source": [
    "def random_removal_2(q, modelo):\n",
    "    x = modelo.x.extract_values()\n",
    "    x_ruta = [i for i in x if x[i] == 1 if (i[0]<=n_cargos*2 and i[1]<=n_cargos*2)]\n",
    "    y = modelo.y.extract_values()\n",
    "    y_spot = [i for i in y if y[i] == 1]\n",
    "    modelo = definir_modelo()\n",
    "    cargos_list = random.sample([i for i in range(1, n_cargos+1)],q)\n",
    "    cargos_list += [i+n_cargos for i in cargos_list]\n",
    "    print(f\"cargos reasignados: {cargos_list}\")\n",
    "    for i in x_ruta:\n",
    "        if not(i[0] in cargos_list) and not(i[1] in cargos_list):\n",
    "                modelo.x[i].setlb(val = 1)\n",
    "                modelo.x[i].setub(val = 1)\n",
    "        \n",
    "    for i in y_spot:\n",
    "        if not(i in cargos_list):\n",
    "            modelo.y[i].setlb(val = 1)\n",
    "            modelo.y[i].setub(val = 1)\n",
    "            \n",
    "                \n",
    "    return modelo"
   ]
  },
  {
   "cell_type": "markdown",
   "metadata": {},
   "source": [
    "En esta celda se corren las heurísticas"
   ]
  },
  {
   "cell_type": "code",
   "execution_count": 208,
   "metadata": {
    "scrolled": true
   },
   "outputs": [
    {
     "name": "stdout",
     "output_type": "stream",
     "text": [
      "cargos reasignados: [1, 4, 16, 19]\n",
      "valor objetivo: 7597785.0\n",
      "iteración: 0\n",
      "---tiempo iteración: 0.9990017414093018 segundos ---\n",
      "---tiempo LNS: 0.9990017414093018 segundos ---\n",
      "cargos reasignados: [1, 7, 16, 22]\n",
      "valor objetivo: 7370940.0\n",
      "iteración: 1\n",
      "---tiempo iteración: 0.9288723468780518 segundos ---\n",
      "---tiempo LNS: 1.9278740882873535 segundos ---\n",
      "cargos reasignados: [15, 4, 30, 19]\n",
      "valor objetivo: 7170810.0\n",
      "iteración: 2\n",
      "---tiempo iteración: 0.9290053844451904 segundos ---\n",
      "---tiempo LNS: 2.856879472732544 segundos ---\n",
      "cargos reasignados: [4, 10, 19, 25]\n",
      "valor objetivo: 6860981.0\n",
      "iteración: 3\n",
      "---tiempo iteración: 0.9706814289093018 segundos ---\n",
      "---tiempo LNS: 3.8275609016418457 segundos ---\n",
      "cargos reasignados: [1, 8, 16, 23]\n",
      "valor objetivo: 6002560.0\n",
      "iteración: 4\n",
      "---tiempo iteración: 0.8779916763305664 segundos ---\n",
      "---tiempo LNS: 4.706550121307373 segundos ---\n",
      "cargos reasignados: [7, 10, 22, 25]\n",
      "valor objetivo: 5969270.0\n",
      "iteración: 5\n",
      "---tiempo iteración: 0.9211137294769287 segundos ---\n",
      "---tiempo LNS: 5.627663850784302 segundos ---\n",
      "cargos reasignados: [13, 6, 28, 21]\n",
      "valor objetivo: 5279018.0\n",
      "iteración: 6\n",
      "---tiempo iteración: 0.9363079071044922 segundos ---\n",
      "---tiempo LNS: 6.563971757888794 segundos ---\n",
      "cargos reasignados: [9, 13, 24, 28]\n",
      "valor objetivo: 5041304.0\n",
      "iteración: 7\n",
      "---tiempo iteración: 0.8531544208526611 segundos ---\n",
      "---tiempo LNS: 7.417126178741455 segundos ---\n",
      "cargos reasignados: [1, 15, 16, 30]\n",
      "valor objetivo: 5041304.0\n",
      "iteración: 8\n",
      "---tiempo iteración: 0.9530842304229736 segundos ---\n",
      "---tiempo LNS: 8.370210409164429 segundos ---\n",
      "cargos reasignados: [13, 5, 28, 20]\n",
      "valor objetivo: 4632014.0\n",
      "iteración: 9\n",
      "---tiempo iteración: 0.89786696434021 segundos ---\n",
      "---tiempo LNS: 9.269070625305176 segundos ---\n",
      "cargos reasignados: [9, 5, 24, 20]\n",
      "valor objetivo: 4556553.0\n",
      "iteración: 10\n",
      "---tiempo iteración: 0.9034171104431152 segundos ---\n",
      "---tiempo LNS: 10.172487735748291 segundos ---\n",
      "cargos reasignados: [14, 15, 29, 30]\n",
      "valor objetivo: 3890840.0\n",
      "iteración: 11\n",
      "---tiempo iteración: 0.940138578414917 segundos ---\n",
      "---tiempo LNS: 11.11362624168396 segundos ---\n",
      "cargos reasignados: [4, 3, 19, 18]\n",
      "valor objetivo: 3579338.0\n",
      "iteración: 12\n",
      "---tiempo iteración: 0.9262804985046387 segundos ---\n",
      "---tiempo LNS: 12.039906740188599 segundos ---\n",
      "cargos reasignados: [7, 15, 22, 30]\n",
      "valor objetivo: 3573318.0\n",
      "iteración: 13\n",
      "---tiempo iteración: 0.8670496940612793 segundos ---\n",
      "---tiempo LNS: 12.906956434249878 segundos ---\n",
      "cargos reasignados: [13, 2, 28, 17]\n",
      "valor objetivo: 3165859.0\n",
      "iteración: 14\n",
      "---tiempo iteración: 0.905846118927002 segundos ---\n",
      "---tiempo LNS: 13.81280255317688 segundos ---\n",
      "cargos reasignados: [4, 5, 19, 20]\n",
      "valor objetivo: 3165859.0\n",
      "iteración: 15\n",
      "---tiempo iteración: 0.8649697303771973 segundos ---\n",
      "---tiempo LNS: 14.677772283554077 segundos ---\n",
      "cargos reasignados: [13, 1, 28, 16]\n",
      "valor objetivo: 3165859.0\n",
      "iteración: 16\n",
      "---tiempo iteración: 0.860112190246582 segundos ---\n",
      "---tiempo LNS: 15.538889408111572 segundos ---\n",
      "cargos reasignados: [10, 2, 25, 17]\n",
      "valor objetivo: 3125910.0\n",
      "iteración: 17\n",
      "---tiempo iteración: 5.884516716003418 segundos ---\n",
      "---tiempo LNS: 21.42340612411499 segundos ---\n",
      "cargos reasignados: [12, 11, 27, 26]\n",
      "valor objetivo: 2681404.0\n",
      "iteración: 18\n",
      "---tiempo iteración: 0.9325060844421387 segundos ---\n",
      "---tiempo LNS: 22.35591220855713 segundos ---\n",
      "cargos reasignados: [9, 8, 24, 23]\n",
      "valor objetivo: 2681404.0\n",
      "iteración: 19\n",
      "---tiempo iteración: 0.868034839630127 segundos ---\n",
      "---tiempo LNS: 23.223947048187256 segundos ---\n",
      "cargos reasignados: [5, 12, 20, 27]\n",
      "valor objetivo: 2658155.0\n",
      "iteración: 20\n",
      "---tiempo iteración: 0.9983110427856445 segundos ---\n",
      "---tiempo LNS: 24.223249673843384 segundos ---\n",
      "cargos reasignados: [8, 1, 23, 16]\n",
      "valor objetivo: 2658155.0\n",
      "iteración: 21\n",
      "---tiempo iteración: 0.8409633636474609 segundos ---\n",
      "---tiempo LNS: 25.064213037490845 segundos ---\n",
      "cargos reasignados: [1, 7, 16, 22]\n",
      "valor objetivo: 2608371.0\n",
      "iteración: 22\n",
      "---tiempo iteración: 0.860621452331543 segundos ---\n",
      "---tiempo LNS: 25.924834489822388 segundos ---\n",
      "cargos reasignados: [11, 13, 26, 28]\n",
      "valor objetivo: 2608371.0\n",
      "iteración: 23\n",
      "---tiempo iteración: 0.8805172443389893 segundos ---\n",
      "---tiempo LNS: 26.805351734161377 segundos ---\n",
      "cargos reasignados: [3, 15, 18, 30]\n",
      "valor objetivo: 2608371.0\n",
      "iteración: 24\n",
      "---tiempo iteración: 0.9177391529083252 segundos ---\n",
      "---tiempo LNS: 27.723090887069702 segundos ---\n",
      "cargos reasignados: [9, 1, 24, 16]\n",
      "valor objetivo: 2608371.0\n",
      "iteración: 25\n",
      "---tiempo iteración: 0.8787930011749268 segundos ---\n",
      "---tiempo LNS: 28.60188388824463 segundos ---\n",
      "cargos reasignados: [13, 4, 28, 19]\n",
      "valor objetivo: 2608371.0\n",
      "iteración: 26\n",
      "---tiempo iteración: 0.955573320388794 segundos ---\n",
      "---tiempo LNS: 29.557457208633423 segundos ---\n",
      "cargos reasignados: [10, 11, 25, 26]\n",
      "valor objetivo: 2608371.0\n",
      "iteración: 27\n",
      "---tiempo iteración: 0.8877694606781006 segundos ---\n",
      "---tiempo LNS: 30.445226669311523 segundos ---\n",
      "cargos reasignados: [14, 6, 29, 21]\n",
      "valor objetivo: 2608371.0\n",
      "iteración: 28\n",
      "---tiempo iteración: 0.9278199672698975 segundos ---\n",
      "---tiempo LNS: 31.37304663658142 segundos ---\n",
      "cargos reasignados: [8, 5, 23, 20]\n",
      "valor objetivo: 2608371.0\n",
      "iteración: 29\n",
      "---tiempo iteración: 0.915910005569458 segundos ---\n",
      "---tiempo LNS: 32.28895664215088 segundos ---\n"
     ]
    }
   ],
   "source": [
    "import random\n",
    "import time\n",
    "import matplotlib.pyplot as plt\n",
    "import numpy as np\n",
    "x_axis = []\n",
    "y_axis = []\n",
    "count=0\n",
    "modelo = definir_modelo()\n",
    "q = 2\n",
    "iteraciones = 30\n",
    "for i in range(n_cargos):\n",
    "    modelo.y[i+1].setlb(val = 1)\n",
    "    modelo.y[i+1].setub(val = 1)\n",
    "solver = SolverFactory('gurobi')\n",
    "solver.solve(modelo)\n",
    "start_time = time.time()\n",
    "while(count<iteraciones):\n",
    "    iter_time = time.time()\n",
    "    modelo = random_removal_2(q, modelo)\n",
    "    modelo = creation(modelo,solver)\n",
    "    y_axis.append(modelo.obj())\n",
    "    x_axis.append(count)\n",
    "    print(f\"valor objetivo: {modelo.obj()}\")\n",
    "    print(f\"iteración: {count}\")\n",
    "    print(\"---tiempo iteración: %s segundos ---\" % (time.time() - iter_time))\n",
    "    print(\"---tiempo LNS: %s segundos ---\" % (time.time() - start_time))\n",
    "    count += 1"
   ]
  },
  {
   "cell_type": "code",
   "execution_count": 209,
   "metadata": {},
   "outputs": [
    {
     "data": {
      "image/png": "[encoded data removed]",
      "text/plain": [
       "<Figure size 432x288 with 1 Axes>"
      ]
     },
     "metadata": {
      "needs_background": "light"
     },
     "output_type": "display_data"
    }
   ],
   "source": [
    "# plot\n",
    "\n",
    "\n",
    "fig, ax = plt.subplots()\n",
    "plt.axhline(y=2279204, color='r', linestyle='-')\n",
    "ax.plot(x_axis, y_axis, linewidth=2.0, label = \"LNS\")\n",
    "\n",
    "\n",
    "\n",
    "plt.show()"
   ]
  },
  {
   "cell_type": "code",
   "execution_count": 210,
   "metadata": {},
   "outputs": [
    {
     "name": "stdout",
     "output_type": "stream",
     "text": [
      "recorrido de barcos\n",
      "(1, 16, 2)\n",
      "(16, 7, 2)\n",
      "(2, 17, 1)\n",
      "(17, 4, 1)\n",
      "(3, 18, 3)\n",
      "(18, 5, 3)\n",
      "(4, 8, 1)\n",
      "(19, 15, 1)\n",
      "(5, 20, 3)\n",
      "(20, 12, 3)\n",
      "(7, 22, 2)\n",
      "(22, 29, 2)\n",
      "(8, 19, 1)\n",
      "(23, 13, 1)\n",
      "(9, 24, 4)\n",
      "(24, 38, 4)\n",
      "(10, 25, 2)\n",
      "(25, 36, 2)\n",
      "(12, 27, 3)\n",
      "(27, 37, 3)\n",
      "(13, 28, 1)\n",
      "(28, 35, 1)\n",
      "(14, 1, 2)\n",
      "(29, 10, 2)\n",
      "(15, 30, 1)\n",
      "(30, 23, 1)\n",
      "(31, 2, 1)\n",
      "(32, 14, 2)\n",
      "(33, 3, 3)\n",
      "(34, 9, 4)\n",
      "\n",
      "\n",
      "cargos asignados a spot\n",
      "6\n",
      "11\n"
     ]
    }
   ],
   "source": [
    "print(\"recorrido de barcos\")\n",
    "for i in modelo.x:\n",
    "    if modelo.x[i].value == 1:\n",
    "        print(i)\n",
    "print(\"\\n\")\n",
    "print(\"cargos asignados a spot\")\n",
    "for i in modelo.y:\n",
    "    if modelo.y[i].value == 1:\n",
    "        print(i)"
   ]
  },
  {
   "cell_type": "code",
   "execution_count": null,
   "metadata": {},
   "outputs": [],
   "source": []
  },
  {
   "cell_type": "code",
   "execution_count": null,
   "metadata": {},
   "outputs": [],
   "source": []
  }
 ],
 "metadata": {
  "kernelspec": {
   "display_name": "Python 3",
   "language": "python",
   "name": "python3"
  },
  "language_info": {
   "codemirror_mode": {
    "name": "ipython",
    "version": 3
   },
   "file_extension": ".py",
   "mimetype": "text/x-python",
   "name": "python",
   "nbconvert_exporter": "python",
   "pygments_lexer": "ipython3",
   "version": "3.8.6"
  }
 },
 "nbformat": 4,
 "nbformat_minor": 4
}
