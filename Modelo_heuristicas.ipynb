{
 "cells": [
  {
   "cell_type": "code",
   "execution_count": 1,
   "metadata": {},
   "outputs": [],
   "source": [
    "import pandas as pd\n",
    "from gurobipy import *\n",
    "from pyomo.environ import *"
   ]
  },
  {
   "cell_type": "code",
   "execution_count": 2,
   "metadata": {},
   "outputs": [],
   "source": [
    "xls = pd.ExcelFile('Proyecto_1_TransporteMaritimo_Dataset1.xlsx', engine='openpyxl')\n",
    "nombres= xls.sheet_names\n",
    "df1 = pd.read_excel(xls, nombres[0])\n",
    "df2 = pd.read_excel(xls, nombres[1])\n",
    "df3= pd.read_excel(xls, nombres[2])\n",
    "df4= pd.read_excel(xls, nombres[3])\n",
    "df5= pd.read_excel(xls, nombres[4])"
   ]
  },
  {
   "cell_type": "markdown",
   "metadata": {},
   "source": [
    "Se transforman los datos de los dataframes a diccionarios para el procesamiento de datos"
   ]
  },
  {
   "cell_type": "code",
   "execution_count": 3,
   "metadata": {},
   "outputs": [],
   "source": [
    "barcos_sheet = df1.to_dict(\"index\")\n",
    "compatibilidad_sheet = df2.to_dict()\n",
    "cargos_sheet = df3.to_dict(\"index\")\n",
    "costos_transporte_sheet = df4.to_dict(\"index\")\n",
    "costos_transporte_dict = {(costos_transporte_sheet[i]['ID_Barco'],costos_transporte_sheet[i]['Puerto_Origen'],costos_transporte_sheet[i]['Puerto_Destino']) : {'Tiempo_Viaje_hrs':costos_transporte_sheet[i]['Tiempo_Viaje_hrs'], 'Costo_Viaje_libras':costos_transporte_sheet[i]['Costo_Viaje_libras']} for i in costos_transporte_sheet.keys()}\n",
    "costos_tiempo_sheet = df5.to_dict(\"index\")\n",
    "costos_tiempo_dict = {(costos_tiempo_sheet[i]['ID_Barco'],costos_tiempo_sheet[i]['ID_Cargo']) : {'Tiempo_Origen_hrs':costos_tiempo_sheet[i]['Tiempo_Origen_hrs'], 'Costos_Origen_hrs':costos_tiempo_sheet[i]['Costos_Origen_hrs'], 'Tiempo_Destino_hrs':costos_tiempo_sheet[i]['Tiempo_Destino_hrs'], 'Costos_Destino_hrs':costos_tiempo_sheet[i]['Costos_Destino_hrs']} for i in costos_tiempo_sheet.keys()}"
   ]
  },
  {
   "cell_type": "code",
   "execution_count": 4,
   "metadata": {},
   "outputs": [
    {
     "data": {
      "text/plain": [
       "{'ID_Barco': {0: 1, 1: 2, 2: 3, 3: 4},\n",
       " 'ID_Cargo_Compatible': {0: 1, 1: 1, 2: 1, 3: 1},\n",
       " 'Unnamed: 2': {0: 2, 1: 3, 2: 3, 3: 5},\n",
       " 'Unnamed: 3': {0: 3, 1: 4, 2: 5, 3: 7},\n",
       " 'Unnamed: 4': {0: 4, 1: 5, 2: 7, 3: 9},\n",
       " 'Unnamed: 5': {0: 5, 1: 7, 2: 9, 3: 10},\n",
       " 'Unnamed: 6': {0: 6, 1: 9, 2: 10, 3: 12},\n",
       " 'Unnamed: 7': {0: 7, 1: 10, 2: 12, 3: 14},\n",
       " 'Unnamed: 8': {0: 8.0, 1: 11.0, 2: nan, 3: nan},\n",
       " 'Unnamed: 9': {0: 10.0, 1: 12.0, 2: nan, 3: nan},\n",
       " 'Unnamed: 10': {0: 11.0, 1: 14.0, 2: nan, 3: nan},\n",
       " 'Unnamed: 11': {0: 12.0, 1: 15.0, 2: nan, 3: nan},\n",
       " 'Unnamed: 12': {0: 13.0, 1: nan, 2: nan, 3: nan},\n",
       " 'Unnamed: 13': {0: 15.0, 1: nan, 2: nan, 3: nan}}"
      ]
     },
     "execution_count": 4,
     "metadata": {},
     "output_type": "execute_result"
    }
   ],
   "source": [
    "compatibilidad_sheet"
   ]
  },
  {
   "cell_type": "code",
   "execution_count": 5,
   "metadata": {},
   "outputs": [
    {
     "data": {
      "text/plain": [
       "15"
      ]
     },
     "execution_count": 5,
     "metadata": {},
     "output_type": "execute_result"
    }
   ],
   "source": [
    "n_cargos = len([cargos_sheet[i]['ID_Cargo'] for i in cargos_sheet.keys() if cargos_sheet[i]['ID_Cargo']>=0])\n",
    "n_cargos"
   ]
  },
  {
   "cell_type": "markdown",
   "metadata": {},
   "source": [
    " La manera en que funcionan los nodos es: los primeros $n$ ($n =$ número de cargos) son los nodos de carga, los siguientes $n$ son los nodos de descarga, los siguientes $v$ ($v =$ número de barcos) son los nodos de origen, y los último v son los nodos de destino."
   ]
  },
  {
   "cell_type": "code",
   "execution_count": 6,
   "metadata": {},
   "outputs": [
    {
     "name": "stdout",
     "output_type": "stream",
     "text": [
      "[1, 2, 3, 4]\n"
     ]
    }
   ],
   "source": [
    "V = [1+i for i in barcos_sheet.keys()] ## conjunto barcos\n",
    "n_barcos = len(V)\n",
    "print(V)"
   ]
  },
  {
   "cell_type": "code",
   "execution_count": 7,
   "metadata": {},
   "outputs": [
    {
     "data": {
      "text/plain": [
       "{1: 16500, 2: 5800, 3: 3570, 4: 3570}"
      ]
     },
     "execution_count": 7,
     "metadata": {},
     "output_type": "execute_result"
    }
   ],
   "source": [
    "Kv= {} # conjunto capacidades de barcos\n",
    "for i in barcos_sheet.keys():\n",
    "    Kv[barcos_sheet[i]['ID_Barco']] =  barcos_sheet[i]['Capacidad']\n",
    "Kv"
   ]
  },
  {
   "cell_type": "code",
   "execution_count": 8,
   "metadata": {},
   "outputs": [
    {
     "name": "stdout",
     "output_type": "stream",
     "text": [
      "[1, 2, 3, 4, 5, 6, 7, 8, 9, 10, 11, 12, 13, 14, 15]\n",
      "[16, 17, 18, 19, 20, 21, 22, 23, 24, 25, 26, 27, 28, 29, 30]\n"
     ]
    }
   ],
   "source": [
    "# N^P\n",
    "nodos_carga= [cargos_sheet[i]['ID_Cargo'] for i in cargos_sheet.keys() if cargos_sheet[i]['ID_Cargo']>=0]\n",
    "print(nodos_carga)\n",
    "\n",
    "#N^D\n",
    "nodos_descarga= [i+len(nodos_carga) for i in range(1,len(nodos_carga)+1)] ##conjunto nodos de descarga\n",
    "print(nodos_descarga)"
   ]
  },
  {
   "cell_type": "code",
   "execution_count": 9,
   "metadata": {},
   "outputs": [
    {
     "name": "stdout",
     "output_type": "stream",
     "text": [
      "{1: 31, 2: 32, 3: 33, 4: 34}\n",
      "{1: 35, 2: 36, 3: 37, 4: 38}\n",
      "{1: {'ID_Cargo': 1, 'ID_Puerto': 25, 'Tamano': 2368, 'Costo_SPOT': 354894, 'LT': 383, 'RT': 455}, 16: {'ID_Cargo': 1, 'ID_Puerto': 13, 'Tamano': 2368, 'Costo_SPOT': 354894, 'LT': 383, 'RT': 777}, 2: {'ID_Cargo': 2, 'ID_Puerto': 9, 'Tamano': 6919, 'Costo_SPOT': 536901, 'LT': 149, 'RT': 221}, 17: {'ID_Cargo': 2, 'ID_Puerto': 6, 'Tamano': 6919, 'Costo_SPOT': 536901, 'LT': 149, 'RT': 588}, 3: {'ID_Cargo': 3, 'ID_Puerto': 7, 'Tamano': 3395, 'Costo_SPOT': 474427, 'LT': 5, 'RT': 77}, 18: {'ID_Cargo': 3, 'ID_Puerto': 4, 'Tamano': 3395, 'Costo_SPOT': 474427, 'LT': 5, 'RT': 489}, 4: {'ID_Cargo': 4, 'ID_Puerto': 6, 'Tamano': 5688, 'Costo_SPOT': 458905, 'LT': 244, 'RT': 316}, 19: {'ID_Cargo': 4, 'ID_Puerto': 1, 'Tamano': 5688, 'Costo_SPOT': 458905, 'LT': 244, 'RT': 624}, 5: {'ID_Cargo': 5, 'ID_Puerto': 38, 'Tamano': 3419, 'Costo_SPOT': 644852, 'LT': 338, 'RT': 410}, 20: {'ID_Cargo': 5, 'ID_Puerto': 33, 'Tamano': 3419, 'Costo_SPOT': 644852, 'LT': 338, 'RT': 871}, 6: {'ID_Cargo': 6, 'ID_Puerto': 10, 'Tamano': 7277, 'Costo_SPOT': 733327, 'LT': 127, 'RT': 199}, 21: {'ID_Cargo': 6, 'ID_Puerto': 38, 'Tamano': 7277, 'Costo_SPOT': 733327, 'LT': 127, 'RT': 657}, 7: {'ID_Cargo': 7, 'ID_Puerto': 26, 'Tamano': 2733, 'Costo_SPOT': 276767, 'LT': 621, 'RT': 693}, 22: {'ID_Cargo': 7, 'ID_Puerto': 6, 'Tamano': 2733, 'Costo_SPOT': 276767, 'LT': 621, 'RT': 982}, 8: {'ID_Cargo': 8, 'ID_Puerto': 14, 'Tamano': 6074, 'Costo_SPOT': 1037825, 'LT': 238, 'RT': 310}, 23: {'ID_Cargo': 8, 'ID_Puerto': 35, 'Tamano': 6074, 'Costo_SPOT': 1037825, 'LT': 238, 'RT': 967}, 9: {'ID_Cargo': 9, 'ID_Puerto': 5, 'Tamano': 2714, 'Costo_SPOT': 326529, 'LT': 39, 'RT': 111}, 24: {'ID_Cargo': 9, 'ID_Puerto': 31, 'Tamano': 2714, 'Costo_SPOT': 326529, 'LT': 39, 'RT': 501}, 10: {'ID_Cargo': 10, 'ID_Puerto': 9, 'Tamano': 1497, 'Costo_SPOT': 420165, 'LT': 698, 'RT': 770}, 25: {'ID_Cargo': 10, 'ID_Puerto': 18, 'Tamano': 1497, 'Costo_SPOT': 420165, 'LT': 698, 'RT': 1198}, 11: {'ID_Cargo': 11, 'ID_Puerto': 7, 'Tamano': 4813, 'Costo_SPOT': 461936, 'LT': 94, 'RT': 166}, 26: {'ID_Cargo': 11, 'ID_Puerto': 5, 'Tamano': 4813, 'Costo_SPOT': 461936, 'LT': 94, 'RT': 497}, 12: {'ID_Cargo': 12, 'ID_Puerto': 25, 'Tamano': 2370, 'Costo_SPOT': 547778, 'LT': 572, 'RT': 644}, 27: {'ID_Cargo': 12, 'ID_Puerto': 18, 'Tamano': 2370, 'Costo_SPOT': 547778, 'LT': 572, 'RT': 1093}, 13: {'ID_Cargo': 13, 'ID_Puerto': 39, 'Tamano': 7064, 'Costo_SPOT': 893561, 'LT': 842, 'RT': 914}, 28: {'ID_Cargo': 13, 'ID_Puerto': 17, 'Tamano': 7064, 'Costo_SPOT': 893561, 'LT': 842, 'RT': 1388}, 14: {'ID_Cargo': 14, 'ID_Puerto': 38, 'Tamano': 2308, 'Costo_SPOT': 844864, 'LT': 100, 'RT': 172}, 29: {'ID_Cargo': 14, 'ID_Puerto': 9, 'Tamano': 2308, 'Costo_SPOT': 844864, 'LT': 100, 'RT': 800}, 15: {'ID_Cargo': 15, 'ID_Puerto': 17, 'Tamano': 4730, 'Costo_SPOT': 306945, 'LT': 325, 'RT': 397}, 30: {'ID_Cargo': 15, 'ID_Puerto': 15, 'Tamano': 4730, 'Costo_SPOT': 306945, 'LT': 325, 'RT': 746}, 31: {'Costo_SPOT': 0, 'ID_Cargo': 0, 'ID_Puerto': 3, 'LT': 69, 'RT': 69, 'Tamano': 0}, 35: {'Costo_SPOT': 0, 'ID_Cargo': 0, 'ID_Puerto': 0, 'LT': 100000, 'RT': 100000, 'Tamano': 0}, 32: {'Costo_SPOT': 0, 'ID_Cargo': 0, 'ID_Puerto': 21, 'LT': 0, 'RT': 0, 'Tamano': 0}, 36: {'Costo_SPOT': 0, 'ID_Cargo': 0, 'ID_Puerto': 0, 'LT': 100000, 'RT': 100000, 'Tamano': 0}, 33: {'Costo_SPOT': 0, 'ID_Cargo': 0, 'ID_Puerto': 17, 'LT': 0, 'RT': 0, 'Tamano': 0}, 37: {'Costo_SPOT': 0, 'ID_Cargo': 0, 'ID_Puerto': 0, 'LT': 100000, 'RT': 100000, 'Tamano': 0}, 34: {'Costo_SPOT': 0, 'ID_Cargo': 0, 'ID_Puerto': 20, 'LT': 0, 'RT': 0, 'Tamano': 0}, 38: {'Costo_SPOT': 0, 'ID_Cargo': 0, 'ID_Puerto': 0, 'LT': 100000, 'RT': 100000, 'Tamano': 0}}\n"
     ]
    }
   ],
   "source": [
    "nodos = {}\n",
    "for i in range(n_cargos):\n",
    "    nodos[cargos_sheet[i]['ID_Cargo']] = {'ID_Cargo': cargos_sheet[i]['ID_Cargo'],\n",
    "                                          'ID_Puerto': cargos_sheet[i]['ID_Puerto_Origen'],\n",
    "                                          'Tamano': cargos_sheet[i]['Tamano'],\n",
    "                                          'Costo_SPOT': cargos_sheet[i]['Costo_SPOT'],\n",
    "                                          'LT': cargos_sheet[i]['LT_Carga'],\n",
    "                                          'RT': cargos_sheet[i]['RT_Carga']}\n",
    "    \n",
    "    nodos[cargos_sheet[i]['ID_Cargo']+n_cargos] = {'ID_Cargo': cargos_sheet[i]['ID_Cargo'],\n",
    "                                          'ID_Puerto': cargos_sheet[i]['ID_Puerto_Destino'],\n",
    "                                          'Tamano': cargos_sheet[i]['Tamano'],\n",
    "                                          'Costo_SPOT': cargos_sheet[i]['Costo_SPOT'],\n",
    "                                          'LT': cargos_sheet[i]['LT_Descarga'],\n",
    "                                          'RT': cargos_sheet[i]['RT_Descarga']}\n",
    "o = {}\n",
    "d = {}\n",
    "for v in V:\n",
    "    o[v] = n_cargos*2+v\n",
    "    nodos[n_cargos*2+v] = {'Costo_SPOT': 0,\n",
    "                           'ID_Cargo': 0,\n",
    "                           'ID_Puerto': barcos_sheet[v-1]['ID_Puerto '],\n",
    "                           'LT': barcos_sheet[v-1]['Tiempo_Inicio'],\n",
    "                           'RT': barcos_sheet[v-1]['Tiempo_Inicio'],\n",
    "                           'Tamano': 0}\n",
    "    d[v] = n_cargos*2+n_barcos+v\n",
    "    nodos[n_cargos*2+n_barcos+v] = {'Costo_SPOT': 0,\n",
    "                                    'ID_Cargo': 0,\n",
    "                                    'ID_Puerto': 0,\n",
    "                                    'LT': 100000,\n",
    "                                    'RT': 100000,\n",
    "                                    'Tamano': 0}\n",
    "print(o) # nodos de origen\n",
    "print(d) # nodos de destino\n",
    "print(nodos) # todos los nodos con su información"
   ]
  },
  {
   "cell_type": "code",
   "execution_count": 10,
   "metadata": {},
   "outputs": [
    {
     "data": {
      "text/plain": [
       "{1: [1,\n",
       "  16,\n",
       "  2,\n",
       "  17,\n",
       "  3,\n",
       "  18,\n",
       "  4,\n",
       "  19,\n",
       "  5,\n",
       "  20,\n",
       "  6,\n",
       "  21,\n",
       "  7,\n",
       "  22,\n",
       "  8,\n",
       "  23,\n",
       "  10,\n",
       "  25,\n",
       "  11,\n",
       "  26,\n",
       "  12,\n",
       "  27,\n",
       "  13,\n",
       "  28,\n",
       "  15,\n",
       "  30,\n",
       "  31,\n",
       "  35],\n",
       " 2: [1,\n",
       "  16,\n",
       "  3,\n",
       "  18,\n",
       "  4,\n",
       "  19,\n",
       "  5,\n",
       "  20,\n",
       "  7,\n",
       "  22,\n",
       "  9,\n",
       "  24,\n",
       "  10,\n",
       "  25,\n",
       "  11,\n",
       "  26,\n",
       "  12,\n",
       "  27,\n",
       "  14,\n",
       "  29,\n",
       "  15,\n",
       "  30,\n",
       "  32,\n",
       "  36],\n",
       " 3: [1, 16, 3, 18, 5, 20, 7, 22, 9, 24, 10, 25, 12, 27, 33, 37],\n",
       " 4: [1, 16, 5, 20, 7, 22, 9, 24, 10, 25, 12, 27, 14, 29, 34, 38]}"
      ]
     },
     "execution_count": 10,
     "metadata": {},
     "output_type": "execute_result"
    }
   ],
   "source": [
    "compatibilidad = {}\n",
    "for i in V:\n",
    "    compatibilidad[i] = [int(j) for j in list(df2.loc[i-1])[1:] if j>0]\n",
    "compatibilidad\n",
    "\n",
    "Nv = {}\n",
    "for i in V:\n",
    "    Nv[i] = []\n",
    "    for j in nodos.keys():\n",
    "        if nodos[j][\"ID_Cargo\"] in compatibilidad[i] or (j == i+n_cargos*2 or j==i+n_cargos*2+len(V)): \n",
    "            Nv[i].append(j)\n",
    "Nv"
   ]
  },
  {
   "cell_type": "code",
   "execution_count": 11,
   "metadata": {},
   "outputs": [
    {
     "name": "stdout",
     "output_type": "stream",
     "text": [
      "[(1, 1), (1, 16), (1, 2), (1, 17), (1, 3), (1, 18), (1, 4), (1, 19), (1, 5), (1, 20), (1, 6), (1, 21), (1, 7), (1, 22), (1, 8), (1, 23), (1, 10), (1, 25), (1, 11), (1, 26), (1, 12), (1, 27), (1, 13), (1, 28), (1, 15), (1, 30), (1, 31), (1, 35), (16, 1), (16, 16), (16, 2), (16, 17), (16, 3), (16, 18), (16, 4), (16, 19), (16, 5), (16, 20), (16, 6), (16, 21), (16, 7), (16, 22), (16, 8), (16, 23), (16, 10), (16, 25), (16, 11), (16, 26), (16, 12), (16, 27), (16, 13), (16, 28), (16, 15), (16, 30), (16, 31), (16, 35), (2, 1), (2, 16), (2, 2), (2, 17), (2, 3), (2, 18), (2, 4), (2, 19), (2, 5), (2, 20), (2, 6), (2, 21), (2, 7), (2, 22), (2, 8), (2, 23), (2, 10), (2, 25), (2, 11), (2, 26), (2, 12), (2, 27), (2, 13), (2, 28), (2, 15), (2, 30), (2, 31), (2, 35), (17, 1), (17, 16), (17, 2), (17, 17), (17, 3), (17, 18), (17, 4), (17, 19), (17, 5), (17, 20), (17, 6), (17, 21), (17, 7), (17, 22), (17, 8), (17, 23), (17, 10), (17, 25), (17, 11), (17, 26), (17, 12), (17, 27), (17, 13), (17, 28), (17, 15), (17, 30), (17, 31), (17, 35), (3, 1), (3, 16), (3, 2), (3, 17), (3, 3), (3, 18), (3, 4), (3, 19), (3, 5), (3, 20), (3, 6), (3, 21), (3, 7), (3, 22), (3, 8), (3, 23), (3, 10), (3, 25), (3, 11), (3, 26), (3, 12), (3, 27), (3, 13), (3, 28), (3, 15), (3, 30), (3, 31), (3, 35), (18, 1), (18, 16), (18, 2), (18, 17), (18, 3), (18, 18), (18, 4), (18, 19), (18, 5), (18, 20), (18, 6), (18, 21), (18, 7), (18, 22), (18, 8), (18, 23), (18, 10), (18, 25), (18, 11), (18, 26), (18, 12), (18, 27), (18, 13), (18, 28), (18, 15), (18, 30), (18, 31), (18, 35), (4, 1), (4, 16), (4, 2), (4, 17), (4, 3), (4, 18), (4, 4), (4, 19), (4, 5), (4, 20), (4, 6), (4, 21), (4, 7), (4, 22), (4, 8), (4, 23), (4, 10), (4, 25), (4, 11), (4, 26), (4, 12), (4, 27), (4, 13), (4, 28), (4, 15), (4, 30), (4, 31), (4, 35), (19, 1), (19, 16), (19, 2), (19, 17), (19, 3), (19, 18), (19, 4), (19, 19), (19, 5), (19, 20), (19, 6), (19, 21), (19, 7), (19, 22), (19, 8), (19, 23), (19, 10), (19, 25), (19, 11), (19, 26), (19, 12), (19, 27), (19, 13), (19, 28), (19, 15), (19, 30), (19, 31), (19, 35), (5, 1), (5, 16), (5, 2), (5, 17), (5, 3), (5, 18), (5, 4), (5, 19), (5, 5), (5, 20), (5, 6), (5, 21), (5, 7), (5, 22), (5, 8), (5, 23), (5, 10), (5, 25), (5, 11), (5, 26), (5, 12), (5, 27), (5, 13), (5, 28), (5, 15), (5, 30), (5, 31), (5, 35), (20, 1), (20, 16), (20, 2), (20, 17), (20, 3), (20, 18), (20, 4), (20, 19), (20, 5), (20, 20), (20, 6), (20, 21), (20, 7), (20, 22), (20, 8), (20, 23), (20, 10), (20, 25), (20, 11), (20, 26), (20, 12), (20, 27), (20, 13), (20, 28), (20, 15), (20, 30), (20, 31), (20, 35), (6, 1), (6, 16), (6, 2), (6, 17), (6, 3), (6, 18), (6, 4), (6, 19), (6, 5), (6, 20), (6, 6), (6, 21), (6, 7), (6, 22), (6, 8), (6, 23), (6, 10), (6, 25), (6, 11), (6, 26), (6, 12), (6, 27), (6, 13), (6, 28), (6, 15), (6, 30), (6, 31), (6, 35), (21, 1), (21, 16), (21, 2), (21, 17), (21, 3), (21, 18), (21, 4), (21, 19), (21, 5), (21, 20), (21, 6), (21, 21), (21, 7), (21, 22), (21, 8), (21, 23), (21, 10), (21, 25), (21, 11), (21, 26), (21, 12), (21, 27), (21, 13), (21, 28), (21, 15), (21, 30), (21, 31), (21, 35), (7, 1), (7, 16), (7, 2), (7, 17), (7, 3), (7, 18), (7, 4), (7, 19), (7, 5), (7, 20), (7, 6), (7, 21), (7, 7), (7, 22), (7, 8), (7, 23), (7, 10), (7, 25), (7, 11), (7, 26), (7, 12), (7, 27), (7, 13), (7, 28), (7, 15), (7, 30), (7, 31), (7, 35), (22, 1), (22, 16), (22, 2), (22, 17), (22, 3), (22, 18), (22, 4), (22, 19), (22, 5), (22, 20), (22, 6), (22, 21), (22, 7), (22, 22), (22, 8), (22, 23), (22, 10), (22, 25), (22, 11), (22, 26), (22, 12), (22, 27), (22, 13), (22, 28), (22, 15), (22, 30), (22, 31), (22, 35), (8, 1), (8, 16), (8, 2), (8, 17), (8, 3), (8, 18), (8, 4), (8, 19), (8, 5), (8, 20), (8, 6), (8, 21), (8, 7), (8, 22), (8, 8), (8, 23), (8, 10), (8, 25), (8, 11), (8, 26), (8, 12), (8, 27), (8, 13), (8, 28), (8, 15), (8, 30), (8, 31), (8, 35), (23, 1), (23, 16), (23, 2), (23, 17), (23, 3), (23, 18), (23, 4), (23, 19), (23, 5), (23, 20), (23, 6), (23, 21), (23, 7), (23, 22), (23, 8), (23, 23), (23, 10), (23, 25), (23, 11), (23, 26), (23, 12), (23, 27), (23, 13), (23, 28), (23, 15), (23, 30), (23, 31), (23, 35), (10, 1), (10, 16), (10, 2), (10, 17), (10, 3), (10, 18), (10, 4), (10, 19), (10, 5), (10, 20), (10, 6), (10, 21), (10, 7), (10, 22), (10, 8), (10, 23), (10, 10), (10, 25), (10, 11), (10, 26), (10, 12), (10, 27), (10, 13), (10, 28), (10, 15), (10, 30), (10, 31), (10, 35), (25, 1), (25, 16), (25, 2), (25, 17), (25, 3), (25, 18), (25, 4), (25, 19), (25, 5), (25, 20), (25, 6), (25, 21), (25, 7), (25, 22), (25, 8), (25, 23), (25, 10), (25, 25), (25, 11), (25, 26), (25, 12), (25, 27), (25, 13), (25, 28), (25, 15), (25, 30), (25, 31), (25, 35), (11, 1), (11, 16), (11, 2), (11, 17), (11, 3), (11, 18), (11, 4), (11, 19), (11, 5), (11, 20), (11, 6), (11, 21), (11, 7), (11, 22), (11, 8), (11, 23), (11, 10), (11, 25), (11, 11), (11, 26), (11, 12), (11, 27), (11, 13), (11, 28), (11, 15), (11, 30), (11, 31), (11, 35), (26, 1), (26, 16), (26, 2), (26, 17), (26, 3), (26, 18), (26, 4), (26, 19), (26, 5), (26, 20), (26, 6), (26, 21), (26, 7), (26, 22), (26, 8), (26, 23), (26, 10), (26, 25), (26, 11), (26, 26), (26, 12), (26, 27), (26, 13), (26, 28), (26, 15), (26, 30), (26, 31), (26, 35), (12, 1), (12, 16), (12, 2), (12, 17), (12, 3), (12, 18), (12, 4), (12, 19), (12, 5), (12, 20), (12, 6), (12, 21), (12, 7), (12, 22), (12, 8), (12, 23), (12, 10), (12, 25), (12, 11), (12, 26), (12, 12), (12, 27), (12, 13), (12, 28), (12, 15), (12, 30), (12, 31), (12, 35), (27, 1), (27, 16), (27, 2), (27, 17), (27, 3), (27, 18), (27, 4), (27, 19), (27, 5), (27, 20), (27, 6), (27, 21), (27, 7), (27, 22), (27, 8), (27, 23), (27, 10), (27, 25), (27, 11), (27, 26), (27, 12), (27, 27), (27, 13), (27, 28), (27, 15), (27, 30), (27, 31), (27, 35), (13, 1), (13, 16), (13, 2), (13, 17), (13, 3), (13, 18), (13, 4), (13, 19), (13, 5), (13, 20), (13, 6), (13, 21), (13, 7), (13, 22), (13, 8), (13, 23), (13, 10), (13, 25), (13, 11), (13, 26), (13, 12), (13, 27), (13, 13), (13, 28), (13, 15), (13, 30), (13, 31), (13, 35), (28, 1), (28, 16), (28, 2), (28, 17), (28, 3), (28, 18), (28, 4), (28, 19), (28, 5), (28, 20), (28, 6), (28, 21), (28, 7), (28, 22), (28, 8), (28, 23), (28, 10), (28, 25), (28, 11), (28, 26), (28, 12), (28, 27), (28, 13), (28, 28), (28, 15), (28, 30), (28, 31), (28, 35), (15, 1), (15, 16), (15, 2), (15, 17), (15, 3), (15, 18), (15, 4), (15, 19), (15, 5), (15, 20), (15, 6), (15, 21), (15, 7), (15, 22), (15, 8), (15, 23), (15, 10), (15, 25), (15, 11), (15, 26), (15, 12), (15, 27), (15, 13), (15, 28), (15, 15), (15, 30), (15, 31), (15, 35), (30, 1), (30, 16), (30, 2), (30, 17), (30, 3), (30, 18), (30, 4), (30, 19), (30, 5), (30, 20), (30, 6), (30, 21), (30, 7), (30, 22), (30, 8), (30, 23), (30, 10), (30, 25), (30, 11), (30, 26), (30, 12), (30, 27), (30, 13), (30, 28), (30, 15), (30, 30), (30, 31), (30, 35), (31, 1), (31, 16), (31, 2), (31, 17), (31, 3), (31, 18), (31, 4), (31, 19), (31, 5), (31, 20), (31, 6), (31, 21), (31, 7), (31, 22), (31, 8), (31, 23), (31, 10), (31, 25), (31, 11), (31, 26), (31, 12), (31, 27), (31, 13), (31, 28), (31, 15), (31, 30), (31, 31), (31, 35), (35, 1), (35, 16), (35, 2), (35, 17), (35, 3), (35, 18), (35, 4), (35, 19), (35, 5), (35, 20), (35, 6), (35, 21), (35, 7), (35, 22), (35, 8), (35, 23), (35, 10), (35, 25), (35, 11), (35, 26), (35, 12), (35, 27), (35, 13), (35, 28), (35, 15), (35, 30), (35, 31), (35, 35)]\n"
     ]
    }
   ],
   "source": [
    "\"\"\"import itertools\n",
    "Av = {}\n",
    "for v in V:\n",
    "    Av[v] = list(itertools.permutations(Nv[v],2))\n",
    "\"\"\"\n",
    "Av={}\n",
    "indices = []\n",
    "for v in V:\n",
    "    Av[v] = [] \n",
    "    for i in Nv[v]:\n",
    "        for j in Nv[v]:\n",
    "                Av[v].append((i,j))\n",
    "                indices.append((i,j,v))\n",
    "indices = tuplelist(indices)\n",
    "print(Av[1])"
   ]
  },
  {
   "cell_type": "code",
   "execution_count": 12,
   "metadata": {},
   "outputs": [
    {
     "name": "stdout",
     "output_type": "stream",
     "text": [
      "{1: [1, 2, 3, 4, 5, 6, 7, 8, 10, 11, 12, 13, 15], 2: [1, 3, 4, 5, 7, 9, 10, 11, 12, 14, 15], 3: [1, 3, 5, 7, 9, 10, 12], 4: [1, 5, 7, 9, 10, 12, 14]}\n",
      "{1: [16, 17, 18, 19, 20, 21, 22, 23, 25, 26, 27, 28, 30], 2: [16, 18, 19, 20, 22, 24, 25, 26, 27, 29, 30], 3: [16, 18, 20, 22, 24, 25, 27], 4: [16, 20, 22, 24, 25, 27, 29]}\n"
     ]
    }
   ],
   "source": [
    "NP_v = {}\n",
    "for v in V:\n",
    "    NP_v[v] = [i for i in nodos_carga if i in Nv[v]]\n",
    "\n",
    "ND_v = {}\n",
    "for v in V:\n",
    "    ND_v[v] = [i for i in nodos_descarga if i in Nv[v]]\n",
    "\n",
    "print(NP_v)\n",
    "print(ND_v)"
   ]
  },
  {
   "cell_type": "code",
   "execution_count": 13,
   "metadata": {},
   "outputs": [
    {
     "name": "stdout",
     "output_type": "stream",
     "text": [
      "{1: 383, 16: 383, 2: 149, 17: 149, 3: 5, 18: 5, 4: 244, 19: 244, 5: 338, 20: 338, 6: 127, 21: 127, 7: 621, 22: 621, 8: 238, 23: 238, 9: 39, 24: 39, 10: 698, 25: 698, 11: 94, 26: 94, 12: 572, 27: 572, 13: 842, 28: 842, 14: 100, 29: 100, 15: 325, 30: 325, 31: 69, 35: 100000, 32: 0, 36: 100000, 33: 0, 37: 100000, 34: 0, 38: 100000}\n",
      "{1: 455, 16: 777, 2: 221, 17: 588, 3: 77, 18: 489, 4: 316, 19: 624, 5: 410, 20: 871, 6: 199, 21: 657, 7: 693, 22: 982, 8: 310, 23: 967, 9: 111, 24: 501, 10: 770, 25: 1198, 11: 166, 26: 497, 12: 644, 27: 1093, 13: 914, 28: 1388, 14: 172, 29: 800, 15: 397, 30: 746, 31: 69, 35: 100000, 32: 0, 36: 100000, 33: 0, 37: 100000, 34: 0, 38: 100000}\n"
     ]
    }
   ],
   "source": [
    "LT_i = {i:nodos[i][\"LT\"] for i in nodos.keys()} #lower bounds ventana de tiempo por nodo\n",
    "RT_i = {i:nodos[i][\"RT\"] for i in nodos.keys()} #upper bounds ventana de tiempo por nodo\n",
    "\n",
    "print(LT_i)\n",
    "print(RT_i)"
   ]
  },
  {
   "cell_type": "code",
   "execution_count": 14,
   "metadata": {},
   "outputs": [],
   "source": [
    "T_ijv={} # tiempo de entre i y j (tiempo de viaje + tiempo de operación en i)\n",
    "for i in nodos.keys():\n",
    "    T_ijv[i] = {} \n",
    "    for j in nodos.keys():\n",
    "        T_ijv[i][j] = {} \n",
    "        for v in V:\n",
    "            cargo_i= nodos[i][\"ID_Cargo\"]\n",
    "            cargo_j = nodos[j][\"ID_Cargo\"]\n",
    "            if i>n_cargos*2+len(V) or j>n_cargos*2+len(V):\n",
    "                T_ijv[i][j][v] = 0\n",
    "            else: \n",
    "                puerto_origen = nodos[i][\"ID_Puerto\"]\n",
    "                puerto_destino = nodos[j][\"ID_Puerto\"]\n",
    "                T_ijv[i][j][v] = costos_transporte_dict[v,puerto_origen,puerto_destino]['Tiempo_Viaje_hrs']\n",
    "                if 0<i<=n_cargos and (i,j) in Av[v]: \n",
    "                    T_ijv[i][j][v] += costos_tiempo_dict[v,cargo_i]['Tiempo_Origen_hrs']\n",
    "                if n_cargos*2>=i>n_cargos and (i,j) in Av[v]:\n",
    "                    T_ijv[i][j][v] += costos_tiempo_dict[v,cargo_i]['Tiempo_Destino_hrs']\n",
    "                \n",
    "                # se les asigna tiempo de operación igual a 0 a los (i,j) que no pertenecen a Av\n",
    "                # los (i,j) que no pertenecen a Av aún tienen el tiempo entre el puerto de i y j"
   ]
  },
  {
   "cell_type": "code",
   "execution_count": 15,
   "metadata": {},
   "outputs": [],
   "source": [
    "C_ijv={} # costo de entre i y j (costo de viaje + costo de operación en i)\n",
    "for i in nodos.keys():\n",
    "    C_ijv[i] = {} \n",
    "    for j in nodos.keys():\n",
    "        C_ijv[i][j] = {} \n",
    "        for v in V:\n",
    "            cargo_i= nodos[i][\"ID_Cargo\"]\n",
    "            cargo_j = nodos[j][\"ID_Cargo\"]\n",
    "            if i>n_cargos*2+len(V) or j>n_cargos*2+len(V):\n",
    "                C_ijv[i][j][v] = 0\n",
    "            else: \n",
    "                puerto_origen = nodos[i][\"ID_Puerto\"]\n",
    "                puerto_destino = nodos[j][\"ID_Puerto\"]\n",
    "                C_ijv[i][j][v] = costos_transporte_dict[v,puerto_origen,puerto_destino]['Costo_Viaje_libras']\n",
    "                if i==11 and j==2 and i==1:\n",
    "                    print(C_ijv[i][j][v])\n",
    "                if 0<i<=n_cargos and (i,j) in Av[v]:\n",
    "                    C_ijv[i][j][v] += costos_tiempo_dict[v,cargo_i]['Costos_Origen_hrs']\n",
    "\n",
    "                if n_cargos*2>=i>n_cargos and (i,j) in Av[v]:\n",
    "                    C_ijv[i][j][v] += costos_tiempo_dict[v,cargo_i]['Costos_Destino_hrs']"
   ]
  },
  {
   "cell_type": "code",
   "execution_count": 16,
   "metadata": {},
   "outputs": [
    {
     "name": "stdout",
     "output_type": "stream",
     "text": [
      "Qj:  {1: 2368, 16: 2368, 2: 6919, 17: 6919, 3: 3395, 18: 3395, 4: 5688, 19: 5688, 5: 3419, 20: 3419, 6: 7277, 21: 7277, 7: 2733, 22: 2733, 8: 6074, 23: 6074, 9: 2714, 24: 2714, 10: 1497, 25: 1497, 11: 4813, 26: 4813, 12: 2370, 27: 2370, 13: 7064, 28: 7064, 14: 2308, 29: 2308, 15: 4730, 30: 4730, 31: 0, 35: 0, 32: 0, 36: 0, 33: 0, 37: 0, 34: 0, 38: 0}\n",
      "\n",
      "\n",
      "Cs {1: 354894, 2: 536901, 3: 474427, 4: 458905, 5: 644852, 6: 733327, 7: 276767, 8: 1037825, 9: 326529, 10: 420165, 11: 461936, 12: 547778, 13: 893561, 14: 844864, 15: 306945}\n"
     ]
    }
   ],
   "source": [
    "Qj={i:nodos[i][\"Tamano\"] for i in nodos.keys()}\n",
    "print(\"Qj: \",Qj)\n",
    "\n",
    "print(\"\\n\")\n",
    "\n",
    "Cs = {cargos_sheet[i]['ID_Cargo']:cargos_sheet[i]['Costo_SPOT'] for i in cargos_sheet.keys()}\n",
    "print(\"Cs\", Cs)"
   ]
  },
  {
   "cell_type": "code",
   "execution_count": 17,
   "metadata": {},
   "outputs": [],
   "source": [
    "nodos_index = [i for i in nodos.keys()]"
   ]
  },
  {
   "cell_type": "code",
   "execution_count": 18,
   "metadata": {},
   "outputs": [
    {
     "data": {
      "text/plain": [
       "True"
      ]
     },
     "execution_count": 18,
     "metadata": {},
     "output_type": "execute_result"
    }
   ],
   "source": [
    "1<2"
   ]
  },
  {
   "cell_type": "code",
   "execution_count": null,
   "metadata": {},
   "outputs": [],
   "source": []
  },
  {
   "cell_type": "code",
   "execution_count": 19,
   "metadata": {},
   "outputs": [
    {
     "data": {
      "text/plain": [
       "'\\n\\ndef const_7_ub(model, i, v):\\n    if i in NP_v[v]:\\n        return model.l[i,v]<=Kv[v]\\n    return Constraint.Skip\\n\\ndef const_7_lb(model, i, v):\\n    if i in NP_v[v]:\\n        return 0<=model.l[i,v]\\n    return Constraint.Skip\\n    \\ndef const_11_ub(model, i, v):\\n    if i in Nv[v]:\\n        return model.t[i,v]<=RT_i[i]\\n    return Constraint.Skip\\n\\ndef const_11_lb(model, i, v):\\n    if i in Nv[v]:\\n        return LT_i[i]<=model.t[i,v]\\n    return Constraint.Skip\\n\\n'"
      ]
     },
     "execution_count": 19,
     "metadata": {},
     "output_type": "execute_result"
    }
   ],
   "source": [
    "def obj_rule(model):\n",
    "    return sum(C_ijv[i][j][v]*model.x[i,j,v]  for v in V for (i,j) in Av[v])+sum(Cs[i]*model.y[i] for i in nodos_carga)\n",
    "\n",
    "def const_1(model, i):\n",
    "    #return sum(model.x[i,j,v]  for v in V for j in Nv[v]) + model.y[i] == 1\n",
    "    return sum(model.x[i,j,v]  for v in V for j in Nv[v] if i in Nv[v]) + model.y[i] == 1\n",
    "\n",
    "def const_2(model, v):\n",
    "    #return sum(model.x[o[v],j,v] for j in Nv[v]) == 1\n",
    "    return sum(model.x[o[v],j,v] for j in Nv[v] if o[v]!=j) == 1\n",
    "\n",
    "def const_3(model, i, v):\n",
    "    if i in Nv[v]:\n",
    "        if i!=o[v] and i!=d[v]:\n",
    "            #return sum(model.x[i,j,v] for j in Nv[v])-sum(model.x[j,i,v] for j in Nv[v] if j!=i)==0\n",
    "            return sum(model.x[i,j,v] for j in Nv[v])-sum(model.x[j,i,v] for j in Nv[v])==0\n",
    "    return Constraint.Skip\n",
    "\n",
    "def const_4(model, v):\n",
    "    #return sum(model.x[j,d[v],v] for j in Nv[v]) == 1\n",
    "    return sum(model.x[j,d[v],v] for j in Nv[v] if d[v]!=j) == 1\n",
    "\n",
    "def const_5(model, i, j, v):\n",
    "    if j in NP_v[v]:\n",
    "        if (i,j) in Av[v]:\n",
    "            return model.l[i,v]+Qj[j]-model.l[j,v]<=Kv[v]*(1-model.x[i,j,v])\n",
    "    return Constraint.Skip\n",
    "\n",
    "def const_6(model, i, j, v):\n",
    "    if j in NP_v[v]:\n",
    "        if (i,n_cargos+j) in Av[v]:\n",
    "            return model.l[i,v]-Qj[j]-model.l[n_cargos+j,v]<=Kv[v]*(1-model.x[i,n_cargos+j,v])\n",
    "    return Constraint.Skip\n",
    "\n",
    "def const_7(model, i, v):\n",
    "    if i in NP_v[v]:\n",
    "        return (0, model.l[i,v], Kv[v])\n",
    "    return Constraint.Skip\n",
    "\n",
    "def const_8(model, i, j, v):\n",
    "    if (i,j) in Av[v]:\n",
    "        return model.t[i,v]+T_ijv[i][j][v]-model.t[j,v]<=(RT_i[i]+T_ijv[i][j][v])*(1-model.x[i,j,v])\n",
    "    return Constraint.Skip\n",
    "\n",
    "def const_9(model, i, v):\n",
    "    if i in NP_v[v]:\n",
    "        #return sum(model.x[i,j,v] for j in Nv[v])-sum(model.x[n_cargos+i,j,v] for j in Nv[v] if j!=i+n_cargos)==0\n",
    "        return sum(model.x[i,j,v] for j in Nv[v])-sum(model.x[n_cargos+i,j,v] for j in Nv[v])==0\n",
    "    return Constraint.Skip\n",
    "\n",
    "def const_10(model, i, v):\n",
    "    if i in NP_v[v]:\n",
    "        return model.t[i,v]+T_ijv[i][n_cargos+i][v]-model.t[n_cargos+i,v]<=0\n",
    "    return Constraint.Skip\n",
    "    \n",
    "def const_11(model, i, v):\n",
    "    if i in Nv[v]:\n",
    "        return (LT_i[i], model.t[i,v], RT_i[i])\n",
    "    return Constraint.Skip\n",
    "\"\"\"\n",
    "\n",
    "def const_7_ub(model, i, v):\n",
    "    if i in NP_v[v]:\n",
    "        return model.l[i,v]<=Kv[v]\n",
    "    return Constraint.Skip\n",
    "\n",
    "def const_7_lb(model, i, v):\n",
    "    if i in NP_v[v]:\n",
    "        return 0<=model.l[i,v]\n",
    "    return Constraint.Skip\n",
    "    \n",
    "def const_11_ub(model, i, v):\n",
    "    if i in Nv[v]:\n",
    "        return model.t[i,v]<=RT_i[i]\n",
    "    return Constraint.Skip\n",
    "\n",
    "def const_11_lb(model, i, v):\n",
    "    if i in Nv[v]:\n",
    "        return LT_i[i]<=model.t[i,v]\n",
    "    return Constraint.Skip\n",
    "\n",
    "\"\"\""
   ]
  },
  {
   "cell_type": "code",
   "execution_count": 40,
   "metadata": {},
   "outputs": [],
   "source": [
    "def definir_modelo():\n",
    "    #crear modelo\n",
    "    model_1 = ConcreteModel()\n",
    "    #definir variables \n",
    "    model_1.x = Var(nodos_index, nodos_index, V, within=Binary)\n",
    "    model_1.y = Var(nodos_carga, within=Binary)\n",
    "    model_1.t = Var(nodos_index,V)\n",
    "    model_1.l = Var(nodos_index,V, within=NonNegativeReals)\n",
    "    #definir VO\n",
    "    model_1.obj = Objective(rule=obj_rule)\n",
    "    #definir restricciones\n",
    "    model_1.const_1 = Constraint(nodos_carga, rule=const_1)\n",
    "    model_1.const_2 = Constraint(V, rule=const_2)\n",
    "    model_1.const_3 = Constraint(nodos_index, V, rule=const_3)\n",
    "    model_1.const_4 = Constraint(V, rule=const_4)\n",
    "    model_1.const_5 = Constraint(nodos_index, nodos_index, V, rule=const_5)\n",
    "    model_1.const_6 = Constraint(nodos_index, nodos_index, V, rule=const_6)\n",
    "    model_1.const_7 = Constraint(nodos_index, V, rule=const_7)\n",
    "    model_1.const_8 = Constraint(nodos_index, nodos_index, V, rule=const_8)\n",
    "    model_1.const_9 = Constraint(nodos_index, V, rule=const_9)\n",
    "    model_1.const_10 = Constraint(nodos_index, V, rule=const_10)\n",
    "    model_1.const_11 = Constraint(nodos_index, V, rule=const_11)\n",
    "    return model_1"
   ]
  },
  {
   "cell_type": "code",
   "execution_count": null,
   "metadata": {},
   "outputs": [],
   "source": [
    "def random_removal(q, modelo):\n",
    "    nuevo_modelo = definir_modelo()\n",
    "    cargos_list = [i for i in range(1, n_cargos+1)]\n",
    "    count = 0\n",
    "    while(count<q):\n",
    "        cargo = random.choice(cargos_list)\n",
    "        cargos_list.remove(cargo)   \n",
    "        q+=1\n",
    "    return nuevo_modelo\n",
    "\n",
    "    "
   ]
  },
  {
   "cell_type": "code",
   "execution_count": 43,
   "metadata": {},
   "outputs": [
    {
     "data": {
      "text/plain": [
       "8319676.0"
      ]
     },
     "execution_count": 43,
     "metadata": {},
     "output_type": "execute_result"
    }
   ],
   "source": [
    "import random\n",
    "count=0\n",
    "modelo = definir_modelo()\n",
    "q = 2\n",
    "for i in range(n_cargos):\n",
    "    modelo.y[i+1].setlb(val = 1)\n",
    "    modelo.y[i+1].setub(val = 1)\n",
    "solver = SolverFactory('gurobi')\n",
    "while(count<1):\n",
    "    count += 1"
   ]
  },
  {
   "cell_type": "code",
   "execution_count": 45,
   "metadata": {},
   "outputs": [
    {
     "name": "stdout",
     "output_type": "stream",
     "text": [
      "y : Size=15, Index=y_index\n",
      "    Key : Lower : Value : Upper : Fixed : Stale : Domain\n",
      "      1 :     1 :   1.0 :     1 : False : False : Binary\n",
      "      2 :     1 :   1.0 :     1 : False : False : Binary\n",
      "      3 :     1 :   1.0 :     1 : False : False : Binary\n",
      "      4 :     1 :   1.0 :     1 : False : False : Binary\n",
      "      5 :     1 :   1.0 :     1 : False : False : Binary\n",
      "      6 :     1 :   1.0 :     1 : False : False : Binary\n",
      "      7 :     1 :   1.0 :     1 : False : False : Binary\n",
      "      8 :     1 :   1.0 :     1 : False : False : Binary\n",
      "      9 :     1 :   1.0 :     1 : False : False : Binary\n",
      "     10 :     1 :   1.0 :     1 : False : False : Binary\n",
      "     11 :     1 :   1.0 :     1 : False : False : Binary\n",
      "     12 :     1 :   1.0 :     1 : False : False : Binary\n",
      "     13 :     1 :   1.0 :     1 : False : False : Binary\n",
      "     14 :     1 :   1.0 :     1 : False : False : Binary\n",
      "     15 :     1 :   1.0 :     1 : False : False : Binary\n"
     ]
    }
   ],
   "source": [
    "modelo.y.pprint()"
   ]
  }
 ],
 "metadata": {
  "kernelspec": {
   "display_name": "Python 3",
   "language": "python",
   "name": "python3"
  },
  "language_info": {
   "codemirror_mode": {
    "name": "ipython",
    "version": 3
   },
   "file_extension": ".py",
   "mimetype": "text/x-python",
   "name": "python",
   "nbconvert_exporter": "python",
   "pygments_lexer": "ipython3",
   "version": "3.8.6"
  }
 },
 "nbformat": 4,
 "nbformat_minor": 4
}
