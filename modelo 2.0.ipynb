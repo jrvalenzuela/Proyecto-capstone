{
 "cells": [
  {
   "cell_type": "code",
   "execution_count": 55,
   "metadata": {},
   "outputs": [],
   "source": [
    "import collections"
   ]
  },
  {
   "cell_type": "code",
   "execution_count": 121,
   "metadata": {},
   "outputs": [],
   "source": [
    "n_cargos = 0\n",
    "n_barcos = 0\n",
    "n_puertos = 0\n",
    "Barco = collections.namedtuple('Barco', ['puerto_origen', 'tiempo_salida', 'capacidad'])\n",
    "barcos_dict = {}\n",
    "compatibilidad = {}\n",
    "Cargo = collections.namedtuple('Cargo', ['puerto_origen', 'puerto_destino', 'tamaño', 'SPOT', 'LT_carga', 'RT_carga', 'LT_descarga', 'RT_descarga'])\n",
    "cargos_dict = {}\n",
    "\n",
    "Viaje = collections.namedtuple('Viaje', ['tiempo_viaje', 'costo_viaje'])\n",
    "viajes_dict = {}\n",
    "Costos = collections.namedtuple('Costo', ['tiempo_origen', 'costo_origen', 'tiempo_destino', 'costo_destino'])\n",
    "costos_dict = {}"
   ]
  },
  {
   "cell_type": "code",
   "execution_count": 125,
   "metadata": {},
   "outputs": [],
   "source": [
    "with open(\"SHORTSEA_FUN_C8_V3_HE_1.txt\", \"r\") as file:\n",
    "    counter = 0\n",
    "    while(True):\n",
    "        line = file.readline()\n",
    "        if line[0] == \"#\":\n",
    "            counter +=1\n",
    "        if counter == 6:\n",
    "            n_cargos = int(line[21])\n",
    "        if counter == 13:\n",
    "            n_puertos = int(file.readline())\n",
    "        if counter == 14:\n",
    "            n_barcos = int(file.readline())\n",
    "        if counter == 15:\n",
    "            for i in range(n_barcos):\n",
    "                index, home_port, starting_time, capacity = file.readline().strip().split(',')\n",
    "                barcos_dict[int(index)] = Barco(int(home_port), int(starting_time), int(capacity))\n",
    "        if counter == 17:\n",
    "            for i in range(n_barcos):\n",
    "                aux = file.readline().strip().split(',')\n",
    "                index = aux[0]\n",
    "                cargos_compatibles = [int(i) for i in aux[1:]]\n",
    "                compatibilidad[int(index)] = cargos_compatibles\n",
    "        if counter == 18:\n",
    "            for i in range(n_cargos):\n",
    "                index, puerto_origen, puerto_destino, tamano, SPOT, LT_carga, RT_carga, LT_descarga, RT_descarga= file.readline().strip().split(',')\n",
    "                cargos_dict[int(index)] = Cargo(int(puerto_origen), int(puerto_destino), int(tamano), int(SPOT), int(LT_carga), int(RT_carga), int(LT_descarga), int(RT_descarga))\n",
    "        if counter == 19:\n",
    "            for i in range(n_puertos*n_puertos*n_barcos):\n",
    "                index, puerto_origen, puerto_destino, tiempo_viaje, costo_viaje = file.readline().strip().split(',')\n",
    "                viajes_dict[int(puerto_origen), int(puerto_destino),int(index)] = Viaje(int(tiempo_viaje), int(costo_viaje))\n",
    "        if counter == 20:\n",
    "            for i in range(n_barcos*n_cargos):\n",
    "                vessel, cargo, tiempo_origen, costo_origen, tiempo_destino, costo_destino = file.readline().strip().split(',')\n",
    "                costos_dict[int(vessel),int(cargo)] = Costos(int(tiempo_origen), int(costo_origen), int(tiempo_destino), int(costo_destino))\n",
    "            break\n",
    "        \n"
   ]
  },
  {
   "cell_type": "code",
   "execution_count": 127,
   "metadata": {},
   "outputs": [
    {
     "name": "stdout",
     "output_type": "stream",
     "text": [
      "8\n",
      "3\n",
      "39\n",
      "Barco(puerto_origen=8, tiempo_salida=0, capacidad=100)\n",
      "{1: [1, 2, 3, 4, 5, 7, 8], 2: [1, 2, 3, 4, 5, 6, 7, 8], 3: [1, 2, 3, 4, 5, 6, 7, 8]}\n",
      "Cargo(puerto_origen=17, puerto_destino=37, tamaño=100, SPOT=866063, LT_carga=328, RT_carga=400, LT_descarga=328, RT_descarga=962)\n",
      "Viaje(tiempo_viaje=8, costo_viaje=4694)\n",
      "Costo(tiempo_origen=31, costo_origen=23768, tiempo_destino=34, costo_destino=29040)\n"
     ]
    }
   ],
   "source": [
    "print(n_cargos)\n",
    "print(n_barcos)\n",
    "print(n_puertos)\n",
    "print(barcos_dict[1])\n",
    "print(compatibilidad)\n",
    "print(cargos_dict[1])\n",
    "print(viajes_dict[10, 11, 3])\n",
    "print(costos_dict[1,1])"
   ]
  },
  {
   "cell_type": "code",
   "execution_count": 129,
   "metadata": {},
   "outputs": [
    {
     "data": {
      "text/plain": [
       "{1: 100, 2: 100, 3: 100}"
      ]
     },
     "execution_count": 129,
     "metadata": {},
     "output_type": "execute_result"
    }
   ],
   "source": [
    "K= {} # conjunto capacidades de barcos\n",
    "for i in barcos_dict.keys():\n",
    "    K[i]= barcos_dict[i].capacidad\n",
    "K"
   ]
  },
  {
   "cell_type": "code",
   "execution_count": 132,
   "metadata": {},
   "outputs": [
    {
     "data": {
      "text/plain": [
       "[9, 10, 11, 12, 13, 14, 15, 16]"
      ]
     },
     "execution_count": 132,
     "metadata": {},
     "output_type": "execute_result"
    }
   ],
   "source": [
    "# nodos de carga y descarga\n",
    "NP = [i for i in cargos_dict.keys()]\n",
    "ND = [i+n_cargos for i in cargos_dict.keys()]"
   ]
  },
  {
   "cell_type": "code",
   "execution_count": null,
   "metadata": {},
   "outputs": [],
   "source": [
    "o = []\n",
    "d = []\n",
    "for i in barcos_dict.keys():\n",
    "    "
   ]
  }
 ],
 "metadata": {
  "kernelspec": {
   "display_name": "Python 3",
   "language": "python",
   "name": "python3"
  },
  "language_info": {
   "codemirror_mode": {
    "name": "ipython",
    "version": 3
   },
   "file_extension": ".py",
   "mimetype": "text/x-python",
   "name": "python",
   "nbconvert_exporter": "python",
   "pygments_lexer": "ipython3",
   "version": "3.8.6"
  }
 },
 "nbformat": 4,
 "nbformat_minor": 4
}
