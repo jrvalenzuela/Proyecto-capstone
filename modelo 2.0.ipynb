{
 "cells": [
  {
   "cell_type": "code",
   "execution_count": 123,
   "metadata": {},
   "outputs": [],
   "source": [
    "import collections\n",
    "from gurobipy import *"
   ]
  },
  {
   "cell_type": "code",
   "execution_count": 124,
   "metadata": {},
   "outputs": [],
   "source": [
    "n_cargos = 0\n",
    "n_barcos = 0\n",
    "n_puertos = 0\n",
    "Barco = collections.namedtuple('Barco', ['puerto_origen', 'tiempo_salida', 'capacidad'])\n",
    "barcos_dict = {}\n",
    "compatibilidad = {}\n",
    "Cargo = collections.namedtuple('Cargo', ['puerto_origen', 'puerto_destino', 'tamaño', 'SPOT', 'LT_carga', 'RT_carga', 'LT_descarga', 'RT_descarga'])\n",
    "cargos_dict = {}\n",
    "\n",
    "Viaje = collections.namedtuple('Viaje', ['tiempo_viaje', 'costo_viaje'])\n",
    "viajes_dict = {}\n",
    "Costos = collections.namedtuple('Costo', ['tiempo_origen', 'costo_origen', 'tiempo_destino', 'costo_destino'])\n",
    "costos_dict = {}"
   ]
  },
  {
   "cell_type": "code",
   "execution_count": 125,
   "metadata": {},
   "outputs": [],
   "source": [
    "with open(\"SHORTSEA_FUN_C8_V3_HE_1.txt\", \"r\") as file:\n",
    "    counter = 0\n",
    "    while(True):\n",
    "        line = file.readline()\n",
    "        if line[0] == \"#\":\n",
    "            counter +=1\n",
    "        if counter == 6:\n",
    "            n_cargos = int(line[21])\n",
    "        if counter == 13:\n",
    "            n_puertos = int(file.readline())\n",
    "        if counter == 14:\n",
    "            n_barcos = int(file.readline())\n",
    "        if counter == 15:\n",
    "            for i in range(n_barcos):\n",
    "                index, home_port, starting_time, capacity = file.readline().strip().split(',')\n",
    "                barcos_dict[int(index)] = Barco(int(home_port), int(starting_time), int(capacity))\n",
    "        if counter == 17:\n",
    "            for i in range(n_barcos):\n",
    "                aux = file.readline().strip().split(',')\n",
    "                index = aux[0]\n",
    "                cargos_compatibles = [int(i) for i in aux[1:]]\n",
    "                compatibilidad[int(index)] = cargos_compatibles\n",
    "        if counter == 18:\n",
    "            for i in range(n_cargos):\n",
    "                index, puerto_origen, puerto_destino, tamano, SPOT, LT_carga, RT_carga, LT_descarga, RT_descarga= file.readline().strip().split(',')\n",
    "                cargos_dict[int(index)] = Cargo(int(puerto_origen), int(puerto_destino), int(tamano), int(SPOT), int(LT_carga), int(RT_carga), int(LT_descarga), int(RT_descarga))\n",
    "        if counter == 19:\n",
    "            for i in range(n_puertos*n_puertos*n_barcos):\n",
    "                index, puerto_origen, puerto_destino, tiempo_viaje, costo_viaje = file.readline().strip().split(',')\n",
    "                viajes_dict[int(puerto_origen), int(puerto_destino),int(index)] = Viaje(int(tiempo_viaje), int(costo_viaje))\n",
    "        if counter == 20:\n",
    "            for i in range(n_barcos*n_cargos):\n",
    "                vessel, cargo, tiempo_origen, costo_origen, tiempo_destino, costo_destino = file.readline().strip().split(',')\n",
    "                costos_dict[int(vessel),int(cargo)] = Costos(int(tiempo_origen), int(costo_origen), int(tiempo_destino), int(costo_destino))\n",
    "            break\n",
    "        \n"
   ]
  },
  {
   "cell_type": "code",
   "execution_count": 126,
   "metadata": {},
   "outputs": [
    {
     "name": "stdout",
     "output_type": "stream",
     "text": [
      "8\n",
      "3\n",
      "39\n",
      "Barco(puerto_origen=8, tiempo_salida=0, capacidad=100)\n",
      "{1: [1, 2, 3, 4, 5, 7, 8], 2: [1, 2, 3, 4, 5, 6, 7, 8], 3: [1, 2, 3, 4, 5, 6, 7, 8]}\n",
      "Cargo(puerto_origen=17, puerto_destino=37, tamaño=100, SPOT=866063, LT_carga=328, RT_carga=400, LT_descarga=328, RT_descarga=962)\n",
      "Viaje(tiempo_viaje=8, costo_viaje=4694)\n",
      "31\n"
     ]
    }
   ],
   "source": [
    "print(n_cargos)\n",
    "print(n_barcos)\n",
    "print(n_puertos)\n",
    "print(barcos_dict[1])\n",
    "print(compatibilidad)\n",
    "print(cargos_dict[1])\n",
    "print(viajes_dict[10, 11, 3])\n",
    "print(costos_dict[1,1].tiempo_origen)"
   ]
  },
  {
   "cell_type": "code",
   "execution_count": 127,
   "metadata": {},
   "outputs": [
    {
     "data": {
      "text/plain": [
       "{1: 100, 2: 100, 3: 100}"
      ]
     },
     "execution_count": 127,
     "metadata": {},
     "output_type": "execute_result"
    }
   ],
   "source": [
    "K= {} # conjunto capacidades de barcos\n",
    "for i in barcos_dict.keys():\n",
    "    K[i]= barcos_dict[i].capacidad\n",
    "K"
   ]
  },
  {
   "cell_type": "code",
   "execution_count": 128,
   "metadata": {},
   "outputs": [],
   "source": [
    "# nodos de carga y descarga\n",
    "NP = [i for i in cargos_dict.keys()]\n",
    "ND = [i+n_cargos for i in cargos_dict.keys()]"
   ]
  },
  {
   "cell_type": "code",
   "execution_count": 129,
   "metadata": {},
   "outputs": [],
   "source": [
    "nodos = {}\n",
    "for i in cargos_dict.keys():\n",
    "    nodos[i] = {'cargo': i, 'puerto': cargos_dict[i].puerto_origen , 'tamaño':cargos_dict[i].tamaño, 'SPOT':cargos_dict[i].SPOT, 'LT':cargos_dict[i].LT_carga, 'RT':cargos_dict[i].RT_carga}\n",
    "    nodos[i+n_cargos] = {'cargo': i,'puerto': cargos_dict[i].puerto_destino , 'tamaño':cargos_dict[i].tamaño, 'SPOT':cargos_dict[i].SPOT, 'LT':cargos_dict[i].LT_descarga, 'RT':cargos_dict[i].RT_descarga}"
   ]
  },
  {
   "cell_type": "code",
   "execution_count": 130,
   "metadata": {},
   "outputs": [],
   "source": [
    "o = {}\n",
    "d = {}\n",
    "for i in barcos_dict.keys():\n",
    "    o[i] = i+n_cargos*2\n",
    "    d[i] = i+n_barcos+n_cargos*2\n",
    "    nodos[i+n_cargos*2] = {'cargo': 0, 'puerto': barcos_dict[i].puerto_origen , 'tamaño':0, 'SPOT':0, 'LT':barcos_dict[i].tiempo_salida, 'RT':barcos_dict[i].tiempo_salida}\n",
    "    nodos[i+n_barcos+n_cargos*2] = {'cargo': 0,'puerto': 0 , 'tamaño':0, 'SPOT':0, 'LT':1253, 'RT':1253}"
   ]
  },
  {
   "cell_type": "code",
   "execution_count": 131,
   "metadata": {},
   "outputs": [
    {
     "data": {
      "text/plain": [
       "{1: {'cargo': 1,\n",
       "  'puerto': 17,\n",
       "  'tamaño': 100,\n",
       "  'SPOT': 866063,\n",
       "  'LT': 328,\n",
       "  'RT': 400},\n",
       " 9: {'cargo': 1,\n",
       "  'puerto': 37,\n",
       "  'tamaño': 100,\n",
       "  'SPOT': 866063,\n",
       "  'LT': 328,\n",
       "  'RT': 962},\n",
       " 2: {'cargo': 2,\n",
       "  'puerto': 33,\n",
       "  'tamaño': 100,\n",
       "  'SPOT': 383620,\n",
       "  'LT': 513,\n",
       "  'RT': 585},\n",
       " 10: {'cargo': 2,\n",
       "  'puerto': 36,\n",
       "  'tamaño': 100,\n",
       "  'SPOT': 383620,\n",
       "  'LT': 513,\n",
       "  'RT': 960},\n",
       " 3: {'cargo': 3,\n",
       "  'puerto': 17,\n",
       "  'tamaño': 100,\n",
       "  'SPOT': 428848,\n",
       "  'LT': 142,\n",
       "  'RT': 214},\n",
       " 11: {'cargo': 3,\n",
       "  'puerto': 27,\n",
       "  'tamaño': 100,\n",
       "  'SPOT': 428848,\n",
       "  'LT': 142,\n",
       "  'RT': 547},\n",
       " 4: {'cargo': 4,\n",
       "  'puerto': 6,\n",
       "  'tamaño': 100,\n",
       "  'SPOT': 349124,\n",
       "  'LT': 118,\n",
       "  'RT': 190},\n",
       " 12: {'cargo': 4,\n",
       "  'puerto': 1,\n",
       "  'tamaño': 100,\n",
       "  'SPOT': 349124,\n",
       "  'LT': 118,\n",
       "  'RT': 557},\n",
       " 5: {'cargo': 5,\n",
       "  'puerto': 38,\n",
       "  'tamaño': 100,\n",
       "  'SPOT': 511606,\n",
       "  'LT': 726,\n",
       "  'RT': 798},\n",
       " 13: {'cargo': 5,\n",
       "  'puerto': 33,\n",
       "  'tamaño': 100,\n",
       "  'SPOT': 511606,\n",
       "  'LT': 726,\n",
       "  'RT': 1253},\n",
       " 6: {'cargo': 6,\n",
       "  'puerto': 10,\n",
       "  'tamaño': 100,\n",
       "  'SPOT': 529259,\n",
       "  'LT': 0,\n",
       "  'RT': 72},\n",
       " 14: {'cargo': 6,\n",
       "  'puerto': 38,\n",
       "  'tamaño': 100,\n",
       "  'SPOT': 529259,\n",
       "  'LT': 0,\n",
       "  'RT': 499},\n",
       " 7: {'cargo': 7,\n",
       "  'puerto': 26,\n",
       "  'tamaño': 100,\n",
       "  'SPOT': 261382,\n",
       "  'LT': 21,\n",
       "  'RT': 93},\n",
       " 15: {'cargo': 7,\n",
       "  'puerto': 6,\n",
       "  'tamaño': 100,\n",
       "  'SPOT': 261382,\n",
       "  'LT': 21,\n",
       "  'RT': 448},\n",
       " 8: {'cargo': 8,\n",
       "  'puerto': 14,\n",
       "  'tamaño': 100,\n",
       "  'SPOT': 624544,\n",
       "  'LT': 63,\n",
       "  'RT': 135},\n",
       " 16: {'cargo': 8,\n",
       "  'puerto': 35,\n",
       "  'tamaño': 100,\n",
       "  'SPOT': 624544,\n",
       "  'LT': 63,\n",
       "  'RT': 641},\n",
       " 17: {'cargo': 0, 'puerto': 8, 'tamaño': 0, 'SPOT': 0, 'LT': 0, 'RT': 0},\n",
       " 20: {'cargo': 0, 'puerto': 0, 'tamaño': 0, 'SPOT': 0, 'LT': 1253, 'RT': 1253},\n",
       " 18: {'cargo': 0, 'puerto': 13, 'tamaño': 0, 'SPOT': 0, 'LT': 0, 'RT': 0},\n",
       " 21: {'cargo': 0, 'puerto': 0, 'tamaño': 0, 'SPOT': 0, 'LT': 1253, 'RT': 1253},\n",
       " 19: {'cargo': 0, 'puerto': 31, 'tamaño': 0, 'SPOT': 0, 'LT': 0, 'RT': 0},\n",
       " 22: {'cargo': 0, 'puerto': 0, 'tamaño': 0, 'SPOT': 0, 'LT': 1253, 'RT': 1253}}"
      ]
     },
     "execution_count": 131,
     "metadata": {},
     "output_type": "execute_result"
    }
   ],
   "source": [
    "nodos"
   ]
  },
  {
   "cell_type": "code",
   "execution_count": null,
   "metadata": {},
   "outputs": [],
   "source": []
  },
  {
   "cell_type": "code",
   "execution_count": 132,
   "metadata": {},
   "outputs": [
    {
     "data": {
      "text/plain": [
       "{1: [1, 2, 3, 4, 5, 7, 8, 9, 10, 11, 12, 13, 15, 16, 17, 20],\n",
       " 2: [1, 2, 3, 4, 5, 6, 7, 8, 9, 10, 11, 12, 13, 14, 15, 16, 18, 21],\n",
       " 3: [1, 2, 3, 4, 5, 6, 7, 8, 9, 10, 11, 12, 13, 14, 15, 16, 19, 22]}"
      ]
     },
     "execution_count": 132,
     "metadata": {},
     "output_type": "execute_result"
    }
   ],
   "source": [
    "N = {}\n",
    "for i in barcos_dict.keys():\n",
    "    N[i] = []\n",
    "    for j in compatibilidad[i]:\n",
    "        N[i].append(j)\n",
    "        N[i].append(j+n_cargos)\n",
    "    N[i].append(o[i])\n",
    "    N[i].append(d[i])\n",
    "    N[i].sort()\n",
    "N"
   ]
  },
  {
   "cell_type": "code",
   "execution_count": 133,
   "metadata": {},
   "outputs": [
    {
     "name": "stdout",
     "output_type": "stream",
     "text": [
      "[(1, 1), (1, 2), (1, 3), (1, 4), (1, 5), (1, 7), (1, 8), (1, 9), (1, 10), (1, 11), (1, 12), (1, 13), (1, 15), (1, 16), (1, 17), (1, 20), (2, 1), (2, 2), (2, 3), (2, 4), (2, 5), (2, 7), (2, 8), (2, 9), (2, 10), (2, 11), (2, 12), (2, 13), (2, 15), (2, 16), (2, 17), (2, 20), (3, 1), (3, 2), (3, 3), (3, 4), (3, 5), (3, 7), (3, 8), (3, 9), (3, 10), (3, 11), (3, 12), (3, 13), (3, 15), (3, 16), (3, 17), (3, 20), (4, 1), (4, 2), (4, 3), (4, 4), (4, 5), (4, 7), (4, 8), (4, 9), (4, 10), (4, 11), (4, 12), (4, 13), (4, 15), (4, 16), (4, 17), (4, 20), (5, 1), (5, 2), (5, 3), (5, 4), (5, 5), (5, 7), (5, 8), (5, 9), (5, 10), (5, 11), (5, 12), (5, 13), (5, 15), (5, 16), (5, 17), (5, 20), (7, 1), (7, 2), (7, 3), (7, 4), (7, 5), (7, 7), (7, 8), (7, 9), (7, 10), (7, 11), (7, 12), (7, 13), (7, 15), (7, 16), (7, 17), (7, 20), (8, 1), (8, 2), (8, 3), (8, 4), (8, 5), (8, 7), (8, 8), (8, 9), (8, 10), (8, 11), (8, 12), (8, 13), (8, 15), (8, 16), (8, 17), (8, 20), (9, 1), (9, 2), (9, 3), (9, 4), (9, 5), (9, 7), (9, 8), (9, 9), (9, 10), (9, 11), (9, 12), (9, 13), (9, 15), (9, 16), (9, 17), (9, 20), (10, 1), (10, 2), (10, 3), (10, 4), (10, 5), (10, 7), (10, 8), (10, 9), (10, 10), (10, 11), (10, 12), (10, 13), (10, 15), (10, 16), (10, 17), (10, 20), (11, 1), (11, 2), (11, 3), (11, 4), (11, 5), (11, 7), (11, 8), (11, 9), (11, 10), (11, 11), (11, 12), (11, 13), (11, 15), (11, 16), (11, 17), (11, 20), (12, 1), (12, 2), (12, 3), (12, 4), (12, 5), (12, 7), (12, 8), (12, 9), (12, 10), (12, 11), (12, 12), (12, 13), (12, 15), (12, 16), (12, 17), (12, 20), (13, 1), (13, 2), (13, 3), (13, 4), (13, 5), (13, 7), (13, 8), (13, 9), (13, 10), (13, 11), (13, 12), (13, 13), (13, 15), (13, 16), (13, 17), (13, 20), (15, 1), (15, 2), (15, 3), (15, 4), (15, 5), (15, 7), (15, 8), (15, 9), (15, 10), (15, 11), (15, 12), (15, 13), (15, 15), (15, 16), (15, 17), (15, 20), (16, 1), (16, 2), (16, 3), (16, 4), (16, 5), (16, 7), (16, 8), (16, 9), (16, 10), (16, 11), (16, 12), (16, 13), (16, 15), (16, 16), (16, 17), (16, 20), (17, 1), (17, 2), (17, 3), (17, 4), (17, 5), (17, 7), (17, 8), (17, 9), (17, 10), (17, 11), (17, 12), (17, 13), (17, 15), (17, 16), (17, 17), (17, 20), (20, 1), (20, 2), (20, 3), (20, 4), (20, 5), (20, 7), (20, 8), (20, 9), (20, 10), (20, 11), (20, 12), (20, 13), (20, 15), (20, 16), (20, 17), (20, 20)]\n"
     ]
    }
   ],
   "source": [
    "Av={}\n",
    "V=list(barcos_dict.keys())\n",
    "indices = []\n",
    "for v in V:\n",
    "    Av[v] = [] \n",
    "    for i in N[v]:\n",
    "        for j in N[v]:\n",
    "                Av[v].append((i,j))\n",
    "                indices.append((i,j,v))\n",
    "indices = tuplelist(indices)\n",
    "print(Av[1])"
   ]
  },
  {
   "cell_type": "code",
   "execution_count": 134,
   "metadata": {},
   "outputs": [
    {
     "name": "stdout",
     "output_type": "stream",
     "text": [
      "{1: [1, 2, 3, 4, 5, 7, 8], 2: [1, 2, 3, 4, 5, 6, 7, 8], 3: [1, 2, 3, 4, 5, 6, 7, 8]}\n",
      "{1: [9, 10, 11, 12, 13, 15, 16], 2: [9, 10, 11, 12, 13, 14, 15, 16], 3: [9, 10, 11, 12, 13, 14, 15, 16]}\n"
     ]
    }
   ],
   "source": [
    "NP_v = {}\n",
    "for v in V:\n",
    "    NP_v[v] = [i for i in NP if i in N[v]]\n",
    "\n",
    "ND_v = {}\n",
    "for v in V:\n",
    "    ND_v[v] = [i for i in ND if i in N[v]]\n",
    "\n",
    "print(NP_v)\n",
    "print(ND_v)"
   ]
  },
  {
   "cell_type": "code",
   "execution_count": 135,
   "metadata": {},
   "outputs": [
    {
     "name": "stdout",
     "output_type": "stream",
     "text": [
      "{1: 328, 9: 328, 2: 513, 10: 513, 3: 142, 11: 142, 4: 118, 12: 118, 5: 726, 13: 726, 6: 0, 14: 0, 7: 21, 15: 21, 8: 63, 16: 63, 17: 0, 20: 1253, 18: 0, 21: 1253, 19: 0, 22: 1253}\n",
      "{1: 400, 9: 962, 2: 585, 10: 960, 3: 214, 11: 547, 4: 190, 12: 557, 5: 798, 13: 1253, 6: 72, 14: 499, 7: 93, 15: 448, 8: 135, 16: 641, 17: 0, 20: 1253, 18: 0, 21: 1253, 19: 0, 22: 1253}\n"
     ]
    }
   ],
   "source": [
    "LT_i = {i:nodos[i][\"LT\"] for i in nodos.keys()} #lower bounds ventana de tiempo por nodo\n",
    "RT_i = {i:nodos[i][\"RT\"] for i in nodos.keys()} #upper bounds ventana de tiempo por nodo\n",
    "\n",
    "print(LT_i)\n",
    "print(RT_i)"
   ]
  },
  {
   "cell_type": "code",
   "execution_count": 136,
   "metadata": {},
   "outputs": [],
   "source": [
    "T_ijv={} # tiempo de entre i y j (tiempo de viaje + tiempo de operación en i)\n",
    "for i in nodos.keys():\n",
    "    for j in nodos.keys():\n",
    "        for v in V:\n",
    "            cargo_i= nodos[i]['cargo']\n",
    "            if i>n_cargos*2+n_barcos or j>n_cargos*2+n_barcos:\n",
    "                T_ijv[i,j,v] = 0\n",
    "            else: \n",
    "                puerto_origen = nodos[i]['puerto']\n",
    "                puerto_destino = nodos[j]['puerto']\n",
    "                T_ijv[i,j,v] = viajes_dict[i,j,v].tiempo_viaje\n",
    "                if 0<i<=n_cargos and (i,j) in Av[v]: \n",
    "                    T_ijv[i,j,v] += costos_dict[v,cargo_i].tiempo_origen\n",
    "                if n_cargos*2>=i>n_cargos and (i,j) in Av[v]:\n",
    "                    T_ijv[i,j,v] += costos_dict[v,cargo_i].tiempo_destino\n",
    "                \n",
    "                # se les asigna tiempo de operación igual a 0 a los (i,j) que no pertenecen a Av\n",
    "                # los (i,j) que no pertenecen a Av aún tienen el tiempo entre el puerto de i y j\n"
   ]
  },
  {
   "cell_type": "code",
   "execution_count": 137,
   "metadata": {},
   "outputs": [],
   "source": [
    "C_ijv={} # tiempo de entre i y j (tiempo de viaje + tiempo de operación en i)\n",
    "for i in nodos.keys():\n",
    "    for j in nodos.keys():\n",
    "        for v in V:\n",
    "            cargo_i= nodos[i]['cargo']\n",
    "            if i>n_cargos*2+n_barcos or j>n_cargos*2+n_barcos:\n",
    "                C_ijv[i,j,v] = 0\n",
    "            else: \n",
    "                puerto_origen = nodos[i]['puerto']\n",
    "                puerto_destino = nodos[j]['puerto']\n",
    "                C_ijv[i,j,v] = viajes_dict[i,j,v].costo_viaje\n",
    "                if 0<i<=n_cargos and (i,j) in Av[v]: \n",
    "                    C_ijv[i,j,v] += costos_dict[v,cargo_i].costo_origen\n",
    "                if n_cargos*2>=i>n_cargos and (i,j) in Av[v]:\n",
    "                    C_ijv[i,j,v] += costos_dict[v,cargo_i].costo_destino"
   ]
  },
  {
   "cell_type": "code",
   "execution_count": 138,
   "metadata": {},
   "outputs": [
    {
     "name": "stdout",
     "output_type": "stream",
     "text": [
      "Qj:  {1: 100, 9: 100, 2: 100, 10: 100, 3: 100, 11: 100, 4: 100, 12: 100, 5: 100, 13: 100, 6: 100, 14: 100, 7: 100, 15: 100, 8: 100, 16: 100, 17: 0, 20: 0, 18: 0, 21: 0, 19: 0, 22: 0}\n",
      "\n",
      "\n",
      "Cs {1: 866063, 9: 866063, 2: 383620, 10: 383620, 3: 428848, 11: 428848, 4: 349124, 12: 349124, 5: 511606, 13: 511606, 6: 529259, 14: 529259, 7: 261382, 15: 261382, 8: 624544, 16: 624544, 17: 0, 20: 0, 18: 0, 21: 0, 19: 0, 22: 0}\n"
     ]
    }
   ],
   "source": [
    "Qj={i:nodos[i][\"tamaño\"] for i in nodos.keys()}\n",
    "print(\"Qj: \",Qj)\n",
    "\n",
    "print(\"\\n\")\n",
    "\n",
    "Cs = {i:nodos[i][\"SPOT\"] for i in nodos.keys()}\n",
    "print(\"Cs\", Cs)"
   ]
  },
  {
   "cell_type": "code",
   "execution_count": 139,
   "metadata": {},
   "outputs": [],
   "source": [
    "aux = []\n",
    "for i in V:\n",
    "    for j in N[i]:\n",
    "        aux.append((j,i))\n",
    "aux = tuplelist(aux)"
   ]
  },
  {
   "cell_type": "code",
   "execution_count": 144,
   "metadata": {},
   "outputs": [
    {
     "data": {
      "text/plain": [
       "[1, 9, 2, 10, 3, 11, 4, 12, 5, 13, 6, 14, 7, 15, 8, 16, 17, 20, 18, 21, 19, 22]"
      ]
     },
     "execution_count": 144,
     "metadata": {},
     "output_type": "execute_result"
    }
   ],
   "source": [
    "nodos_index = list(nodos.keys())\n",
    "nodos_index"
   ]
  },
  {
   "cell_type": "code",
   "execution_count": 150,
   "metadata": {},
   "outputs": [],
   "source": [
    "\n",
    "# Model\n",
    "m = Model(\"Transporte Maritimo\")\n",
    "\n",
    "# variables\n",
    "\n",
    "x = m.addVars(nodos_index, nodos_index, V, vtype=GRB.BINARY, name=\"x\")\n",
    "y = m.addVars(NP,vtype=GRB.BINARY,name=\"y\")\n",
    "t = m.addVars(aux,vtype=GRB.INTEGER, name=\"t\")\n",
    "l = m.addVars(aux,vtype=GRB.INTEGER,name=\"l\")"
   ]
  },
  {
   "cell_type": "code",
   "execution_count": 151,
   "metadata": {},
   "outputs": [],
   "source": [
    "# Objective function\n",
    "m.setObjective(sum(sum(C_ijv[i,j,v]*x[i,j,v] for (i,j) in Av[v]) for v in V)+sum(Cs[i]*y[i] for i in NP), GRB.MINIMIZE)"
   ]
  },
  {
   "cell_type": "code",
   "execution_count": 152,
   "metadata": {},
   "outputs": [],
   "source": [
    "c1 = m.addConstrs(((sum(sum(x[i,j,v]  for v in V) for j in N[v])  + y[i]== 1) for i in NP), name = \"Const_1\")"
   ]
  },
  {
   "cell_type": "code",
   "execution_count": 153,
   "metadata": {},
   "outputs": [],
   "source": [
    "c2 = m.addConstrs(((sum(x[o[v],j,v] for j in N[v]) == 1) for v in V), name = \"Const_2\")"
   ]
  },
  {
   "cell_type": "code",
   "execution_count": 154,
   "metadata": {},
   "outputs": [],
   "source": [
    "c3 = m.addConstrs((((sum(x[i,j,v] for j in N[v])-sum(x[j,i,v] for j in N[v]))==0) for v in V for i in N[v] if i!=o[v] or i!=o[v]), name = \"Const_3\")"
   ]
  },
  {
   "cell_type": "code",
   "execution_count": 155,
   "metadata": {},
   "outputs": [],
   "source": [
    "c4 = m.addConstrs(((sum(x[j,d[v],v] for j in N[v]) == 1) for v in V), name = \"Const_4\")"
   ]
  },
  {
   "cell_type": "code",
   "execution_count": 156,
   "metadata": {},
   "outputs": [
    {
     "data": {
      "text/plain": [
       "{(1, 1, 1): <gurobi.Constr *Awaiting Model Update*>,\n",
       " (1, 1, 2): <gurobi.Constr *Awaiting Model Update*>,\n",
       " (1, 1, 3): <gurobi.Constr *Awaiting Model Update*>,\n",
       " (1, 1, 4): <gurobi.Constr *Awaiting Model Update*>,\n",
       " (1, 1, 5): <gurobi.Constr *Awaiting Model Update*>,\n",
       " (1, 1, 7): <gurobi.Constr *Awaiting Model Update*>,\n",
       " (1, 1, 8): <gurobi.Constr *Awaiting Model Update*>,\n",
       " (1, 1, 9): <gurobi.Constr *Awaiting Model Update*>,\n",
       " (1, 1, 10): <gurobi.Constr *Awaiting Model Update*>,\n",
       " (1, 1, 11): <gurobi.Constr *Awaiting Model Update*>,\n",
       " (1, 1, 12): <gurobi.Constr *Awaiting Model Update*>,\n",
       " (1, 1, 13): <gurobi.Constr *Awaiting Model Update*>,\n",
       " (1, 1, 15): <gurobi.Constr *Awaiting Model Update*>,\n",
       " (1, 1, 16): <gurobi.Constr *Awaiting Model Update*>,\n",
       " (1, 1, 17): <gurobi.Constr *Awaiting Model Update*>,\n",
       " (1, 1, 20): <gurobi.Constr *Awaiting Model Update*>,\n",
       " (1, 2, 1): <gurobi.Constr *Awaiting Model Update*>,\n",
       " (1, 2, 2): <gurobi.Constr *Awaiting Model Update*>,\n",
       " (1, 2, 3): <gurobi.Constr *Awaiting Model Update*>,\n",
       " (1, 2, 4): <gurobi.Constr *Awaiting Model Update*>,\n",
       " (1, 2, 5): <gurobi.Constr *Awaiting Model Update*>,\n",
       " (1, 2, 7): <gurobi.Constr *Awaiting Model Update*>,\n",
       " (1, 2, 8): <gurobi.Constr *Awaiting Model Update*>,\n",
       " (1, 2, 9): <gurobi.Constr *Awaiting Model Update*>,\n",
       " (1, 2, 10): <gurobi.Constr *Awaiting Model Update*>,\n",
       " (1, 2, 11): <gurobi.Constr *Awaiting Model Update*>,\n",
       " (1, 2, 12): <gurobi.Constr *Awaiting Model Update*>,\n",
       " (1, 2, 13): <gurobi.Constr *Awaiting Model Update*>,\n",
       " (1, 2, 15): <gurobi.Constr *Awaiting Model Update*>,\n",
       " (1, 2, 16): <gurobi.Constr *Awaiting Model Update*>,\n",
       " (1, 2, 17): <gurobi.Constr *Awaiting Model Update*>,\n",
       " (1, 2, 20): <gurobi.Constr *Awaiting Model Update*>,\n",
       " (1, 3, 1): <gurobi.Constr *Awaiting Model Update*>,\n",
       " (1, 3, 2): <gurobi.Constr *Awaiting Model Update*>,\n",
       " (1, 3, 3): <gurobi.Constr *Awaiting Model Update*>,\n",
       " (1, 3, 4): <gurobi.Constr *Awaiting Model Update*>,\n",
       " (1, 3, 5): <gurobi.Constr *Awaiting Model Update*>,\n",
       " (1, 3, 7): <gurobi.Constr *Awaiting Model Update*>,\n",
       " (1, 3, 8): <gurobi.Constr *Awaiting Model Update*>,\n",
       " (1, 3, 9): <gurobi.Constr *Awaiting Model Update*>,\n",
       " (1, 3, 10): <gurobi.Constr *Awaiting Model Update*>,\n",
       " (1, 3, 11): <gurobi.Constr *Awaiting Model Update*>,\n",
       " (1, 3, 12): <gurobi.Constr *Awaiting Model Update*>,\n",
       " (1, 3, 13): <gurobi.Constr *Awaiting Model Update*>,\n",
       " (1, 3, 15): <gurobi.Constr *Awaiting Model Update*>,\n",
       " (1, 3, 16): <gurobi.Constr *Awaiting Model Update*>,\n",
       " (1, 3, 17): <gurobi.Constr *Awaiting Model Update*>,\n",
       " (1, 3, 20): <gurobi.Constr *Awaiting Model Update*>,\n",
       " (1, 4, 1): <gurobi.Constr *Awaiting Model Update*>,\n",
       " (1, 4, 2): <gurobi.Constr *Awaiting Model Update*>,\n",
       " (1, 4, 3): <gurobi.Constr *Awaiting Model Update*>,\n",
       " (1, 4, 4): <gurobi.Constr *Awaiting Model Update*>,\n",
       " (1, 4, 5): <gurobi.Constr *Awaiting Model Update*>,\n",
       " (1, 4, 7): <gurobi.Constr *Awaiting Model Update*>,\n",
       " (1, 4, 8): <gurobi.Constr *Awaiting Model Update*>,\n",
       " (1, 4, 9): <gurobi.Constr *Awaiting Model Update*>,\n",
       " (1, 4, 10): <gurobi.Constr *Awaiting Model Update*>,\n",
       " (1, 4, 11): <gurobi.Constr *Awaiting Model Update*>,\n",
       " (1, 4, 12): <gurobi.Constr *Awaiting Model Update*>,\n",
       " (1, 4, 13): <gurobi.Constr *Awaiting Model Update*>,\n",
       " (1, 4, 15): <gurobi.Constr *Awaiting Model Update*>,\n",
       " (1, 4, 16): <gurobi.Constr *Awaiting Model Update*>,\n",
       " (1, 4, 17): <gurobi.Constr *Awaiting Model Update*>,\n",
       " (1, 4, 20): <gurobi.Constr *Awaiting Model Update*>,\n",
       " (1, 5, 1): <gurobi.Constr *Awaiting Model Update*>,\n",
       " (1, 5, 2): <gurobi.Constr *Awaiting Model Update*>,\n",
       " (1, 5, 3): <gurobi.Constr *Awaiting Model Update*>,\n",
       " (1, 5, 4): <gurobi.Constr *Awaiting Model Update*>,\n",
       " (1, 5, 5): <gurobi.Constr *Awaiting Model Update*>,\n",
       " (1, 5, 7): <gurobi.Constr *Awaiting Model Update*>,\n",
       " (1, 5, 8): <gurobi.Constr *Awaiting Model Update*>,\n",
       " (1, 5, 9): <gurobi.Constr *Awaiting Model Update*>,\n",
       " (1, 5, 10): <gurobi.Constr *Awaiting Model Update*>,\n",
       " (1, 5, 11): <gurobi.Constr *Awaiting Model Update*>,\n",
       " (1, 5, 12): <gurobi.Constr *Awaiting Model Update*>,\n",
       " (1, 5, 13): <gurobi.Constr *Awaiting Model Update*>,\n",
       " (1, 5, 15): <gurobi.Constr *Awaiting Model Update*>,\n",
       " (1, 5, 16): <gurobi.Constr *Awaiting Model Update*>,\n",
       " (1, 5, 17): <gurobi.Constr *Awaiting Model Update*>,\n",
       " (1, 5, 20): <gurobi.Constr *Awaiting Model Update*>,\n",
       " (1, 7, 1): <gurobi.Constr *Awaiting Model Update*>,\n",
       " (1, 7, 2): <gurobi.Constr *Awaiting Model Update*>,\n",
       " (1, 7, 3): <gurobi.Constr *Awaiting Model Update*>,\n",
       " (1, 7, 4): <gurobi.Constr *Awaiting Model Update*>,\n",
       " (1, 7, 5): <gurobi.Constr *Awaiting Model Update*>,\n",
       " (1, 7, 7): <gurobi.Constr *Awaiting Model Update*>,\n",
       " (1, 7, 8): <gurobi.Constr *Awaiting Model Update*>,\n",
       " (1, 7, 9): <gurobi.Constr *Awaiting Model Update*>,\n",
       " (1, 7, 10): <gurobi.Constr *Awaiting Model Update*>,\n",
       " (1, 7, 11): <gurobi.Constr *Awaiting Model Update*>,\n",
       " (1, 7, 12): <gurobi.Constr *Awaiting Model Update*>,\n",
       " (1, 7, 13): <gurobi.Constr *Awaiting Model Update*>,\n",
       " (1, 7, 15): <gurobi.Constr *Awaiting Model Update*>,\n",
       " (1, 7, 16): <gurobi.Constr *Awaiting Model Update*>,\n",
       " (1, 7, 17): <gurobi.Constr *Awaiting Model Update*>,\n",
       " (1, 7, 20): <gurobi.Constr *Awaiting Model Update*>,\n",
       " (1, 8, 1): <gurobi.Constr *Awaiting Model Update*>,\n",
       " (1, 8, 2): <gurobi.Constr *Awaiting Model Update*>,\n",
       " (1, 8, 3): <gurobi.Constr *Awaiting Model Update*>,\n",
       " (1, 8, 4): <gurobi.Constr *Awaiting Model Update*>,\n",
       " (1, 8, 5): <gurobi.Constr *Awaiting Model Update*>,\n",
       " (1, 8, 7): <gurobi.Constr *Awaiting Model Update*>,\n",
       " (1, 8, 8): <gurobi.Constr *Awaiting Model Update*>,\n",
       " (1, 8, 9): <gurobi.Constr *Awaiting Model Update*>,\n",
       " (1, 8, 10): <gurobi.Constr *Awaiting Model Update*>,\n",
       " (1, 8, 11): <gurobi.Constr *Awaiting Model Update*>,\n",
       " (1, 8, 12): <gurobi.Constr *Awaiting Model Update*>,\n",
       " (1, 8, 13): <gurobi.Constr *Awaiting Model Update*>,\n",
       " (1, 8, 15): <gurobi.Constr *Awaiting Model Update*>,\n",
       " (1, 8, 16): <gurobi.Constr *Awaiting Model Update*>,\n",
       " (1, 8, 17): <gurobi.Constr *Awaiting Model Update*>,\n",
       " (1, 8, 20): <gurobi.Constr *Awaiting Model Update*>,\n",
       " (2, 1, 1): <gurobi.Constr *Awaiting Model Update*>,\n",
       " (2, 1, 2): <gurobi.Constr *Awaiting Model Update*>,\n",
       " (2, 1, 3): <gurobi.Constr *Awaiting Model Update*>,\n",
       " (2, 1, 4): <gurobi.Constr *Awaiting Model Update*>,\n",
       " (2, 1, 5): <gurobi.Constr *Awaiting Model Update*>,\n",
       " (2, 1, 6): <gurobi.Constr *Awaiting Model Update*>,\n",
       " (2, 1, 7): <gurobi.Constr *Awaiting Model Update*>,\n",
       " (2, 1, 8): <gurobi.Constr *Awaiting Model Update*>,\n",
       " (2, 1, 9): <gurobi.Constr *Awaiting Model Update*>,\n",
       " (2, 1, 10): <gurobi.Constr *Awaiting Model Update*>,\n",
       " (2, 1, 11): <gurobi.Constr *Awaiting Model Update*>,\n",
       " (2, 1, 12): <gurobi.Constr *Awaiting Model Update*>,\n",
       " (2, 1, 13): <gurobi.Constr *Awaiting Model Update*>,\n",
       " (2, 1, 14): <gurobi.Constr *Awaiting Model Update*>,\n",
       " (2, 1, 15): <gurobi.Constr *Awaiting Model Update*>,\n",
       " (2, 1, 16): <gurobi.Constr *Awaiting Model Update*>,\n",
       " (2, 1, 18): <gurobi.Constr *Awaiting Model Update*>,\n",
       " (2, 1, 21): <gurobi.Constr *Awaiting Model Update*>,\n",
       " (2, 2, 1): <gurobi.Constr *Awaiting Model Update*>,\n",
       " (2, 2, 2): <gurobi.Constr *Awaiting Model Update*>,\n",
       " (2, 2, 3): <gurobi.Constr *Awaiting Model Update*>,\n",
       " (2, 2, 4): <gurobi.Constr *Awaiting Model Update*>,\n",
       " (2, 2, 5): <gurobi.Constr *Awaiting Model Update*>,\n",
       " (2, 2, 6): <gurobi.Constr *Awaiting Model Update*>,\n",
       " (2, 2, 7): <gurobi.Constr *Awaiting Model Update*>,\n",
       " (2, 2, 8): <gurobi.Constr *Awaiting Model Update*>,\n",
       " (2, 2, 9): <gurobi.Constr *Awaiting Model Update*>,\n",
       " (2, 2, 10): <gurobi.Constr *Awaiting Model Update*>,\n",
       " (2, 2, 11): <gurobi.Constr *Awaiting Model Update*>,\n",
       " (2, 2, 12): <gurobi.Constr *Awaiting Model Update*>,\n",
       " (2, 2, 13): <gurobi.Constr *Awaiting Model Update*>,\n",
       " (2, 2, 14): <gurobi.Constr *Awaiting Model Update*>,\n",
       " (2, 2, 15): <gurobi.Constr *Awaiting Model Update*>,\n",
       " (2, 2, 16): <gurobi.Constr *Awaiting Model Update*>,\n",
       " (2, 2, 18): <gurobi.Constr *Awaiting Model Update*>,\n",
       " (2, 2, 21): <gurobi.Constr *Awaiting Model Update*>,\n",
       " (2, 3, 1): <gurobi.Constr *Awaiting Model Update*>,\n",
       " (2, 3, 2): <gurobi.Constr *Awaiting Model Update*>,\n",
       " (2, 3, 3): <gurobi.Constr *Awaiting Model Update*>,\n",
       " (2, 3, 4): <gurobi.Constr *Awaiting Model Update*>,\n",
       " (2, 3, 5): <gurobi.Constr *Awaiting Model Update*>,\n",
       " (2, 3, 6): <gurobi.Constr *Awaiting Model Update*>,\n",
       " (2, 3, 7): <gurobi.Constr *Awaiting Model Update*>,\n",
       " (2, 3, 8): <gurobi.Constr *Awaiting Model Update*>,\n",
       " (2, 3, 9): <gurobi.Constr *Awaiting Model Update*>,\n",
       " (2, 3, 10): <gurobi.Constr *Awaiting Model Update*>,\n",
       " (2, 3, 11): <gurobi.Constr *Awaiting Model Update*>,\n",
       " (2, 3, 12): <gurobi.Constr *Awaiting Model Update*>,\n",
       " (2, 3, 13): <gurobi.Constr *Awaiting Model Update*>,\n",
       " (2, 3, 14): <gurobi.Constr *Awaiting Model Update*>,\n",
       " (2, 3, 15): <gurobi.Constr *Awaiting Model Update*>,\n",
       " (2, 3, 16): <gurobi.Constr *Awaiting Model Update*>,\n",
       " (2, 3, 18): <gurobi.Constr *Awaiting Model Update*>,\n",
       " (2, 3, 21): <gurobi.Constr *Awaiting Model Update*>,\n",
       " (2, 4, 1): <gurobi.Constr *Awaiting Model Update*>,\n",
       " (2, 4, 2): <gurobi.Constr *Awaiting Model Update*>,\n",
       " (2, 4, 3): <gurobi.Constr *Awaiting Model Update*>,\n",
       " (2, 4, 4): <gurobi.Constr *Awaiting Model Update*>,\n",
       " (2, 4, 5): <gurobi.Constr *Awaiting Model Update*>,\n",
       " (2, 4, 6): <gurobi.Constr *Awaiting Model Update*>,\n",
       " (2, 4, 7): <gurobi.Constr *Awaiting Model Update*>,\n",
       " (2, 4, 8): <gurobi.Constr *Awaiting Model Update*>,\n",
       " (2, 4, 9): <gurobi.Constr *Awaiting Model Update*>,\n",
       " (2, 4, 10): <gurobi.Constr *Awaiting Model Update*>,\n",
       " (2, 4, 11): <gurobi.Constr *Awaiting Model Update*>,\n",
       " (2, 4, 12): <gurobi.Constr *Awaiting Model Update*>,\n",
       " (2, 4, 13): <gurobi.Constr *Awaiting Model Update*>,\n",
       " (2, 4, 14): <gurobi.Constr *Awaiting Model Update*>,\n",
       " (2, 4, 15): <gurobi.Constr *Awaiting Model Update*>,\n",
       " (2, 4, 16): <gurobi.Constr *Awaiting Model Update*>,\n",
       " (2, 4, 18): <gurobi.Constr *Awaiting Model Update*>,\n",
       " (2, 4, 21): <gurobi.Constr *Awaiting Model Update*>,\n",
       " (2, 5, 1): <gurobi.Constr *Awaiting Model Update*>,\n",
       " (2, 5, 2): <gurobi.Constr *Awaiting Model Update*>,\n",
       " (2, 5, 3): <gurobi.Constr *Awaiting Model Update*>,\n",
       " (2, 5, 4): <gurobi.Constr *Awaiting Model Update*>,\n",
       " (2, 5, 5): <gurobi.Constr *Awaiting Model Update*>,\n",
       " (2, 5, 6): <gurobi.Constr *Awaiting Model Update*>,\n",
       " (2, 5, 7): <gurobi.Constr *Awaiting Model Update*>,\n",
       " (2, 5, 8): <gurobi.Constr *Awaiting Model Update*>,\n",
       " (2, 5, 9): <gurobi.Constr *Awaiting Model Update*>,\n",
       " (2, 5, 10): <gurobi.Constr *Awaiting Model Update*>,\n",
       " (2, 5, 11): <gurobi.Constr *Awaiting Model Update*>,\n",
       " (2, 5, 12): <gurobi.Constr *Awaiting Model Update*>,\n",
       " (2, 5, 13): <gurobi.Constr *Awaiting Model Update*>,\n",
       " (2, 5, 14): <gurobi.Constr *Awaiting Model Update*>,\n",
       " (2, 5, 15): <gurobi.Constr *Awaiting Model Update*>,\n",
       " (2, 5, 16): <gurobi.Constr *Awaiting Model Update*>,\n",
       " (2, 5, 18): <gurobi.Constr *Awaiting Model Update*>,\n",
       " (2, 5, 21): <gurobi.Constr *Awaiting Model Update*>,\n",
       " (2, 6, 1): <gurobi.Constr *Awaiting Model Update*>,\n",
       " (2, 6, 2): <gurobi.Constr *Awaiting Model Update*>,\n",
       " (2, 6, 3): <gurobi.Constr *Awaiting Model Update*>,\n",
       " (2, 6, 4): <gurobi.Constr *Awaiting Model Update*>,\n",
       " (2, 6, 5): <gurobi.Constr *Awaiting Model Update*>,\n",
       " (2, 6, 6): <gurobi.Constr *Awaiting Model Update*>,\n",
       " (2, 6, 7): <gurobi.Constr *Awaiting Model Update*>,\n",
       " (2, 6, 8): <gurobi.Constr *Awaiting Model Update*>,\n",
       " (2, 6, 9): <gurobi.Constr *Awaiting Model Update*>,\n",
       " (2, 6, 10): <gurobi.Constr *Awaiting Model Update*>,\n",
       " (2, 6, 11): <gurobi.Constr *Awaiting Model Update*>,\n",
       " (2, 6, 12): <gurobi.Constr *Awaiting Model Update*>,\n",
       " (2, 6, 13): <gurobi.Constr *Awaiting Model Update*>,\n",
       " (2, 6, 14): <gurobi.Constr *Awaiting Model Update*>,\n",
       " (2, 6, 15): <gurobi.Constr *Awaiting Model Update*>,\n",
       " (2, 6, 16): <gurobi.Constr *Awaiting Model Update*>,\n",
       " (2, 6, 18): <gurobi.Constr *Awaiting Model Update*>,\n",
       " (2, 6, 21): <gurobi.Constr *Awaiting Model Update*>,\n",
       " (2, 7, 1): <gurobi.Constr *Awaiting Model Update*>,\n",
       " (2, 7, 2): <gurobi.Constr *Awaiting Model Update*>,\n",
       " (2, 7, 3): <gurobi.Constr *Awaiting Model Update*>,\n",
       " (2, 7, 4): <gurobi.Constr *Awaiting Model Update*>,\n",
       " (2, 7, 5): <gurobi.Constr *Awaiting Model Update*>,\n",
       " (2, 7, 6): <gurobi.Constr *Awaiting Model Update*>,\n",
       " (2, 7, 7): <gurobi.Constr *Awaiting Model Update*>,\n",
       " (2, 7, 8): <gurobi.Constr *Awaiting Model Update*>,\n",
       " (2, 7, 9): <gurobi.Constr *Awaiting Model Update*>,\n",
       " (2, 7, 10): <gurobi.Constr *Awaiting Model Update*>,\n",
       " (2, 7, 11): <gurobi.Constr *Awaiting Model Update*>,\n",
       " (2, 7, 12): <gurobi.Constr *Awaiting Model Update*>,\n",
       " (2, 7, 13): <gurobi.Constr *Awaiting Model Update*>,\n",
       " (2, 7, 14): <gurobi.Constr *Awaiting Model Update*>,\n",
       " (2, 7, 15): <gurobi.Constr *Awaiting Model Update*>,\n",
       " (2, 7, 16): <gurobi.Constr *Awaiting Model Update*>,\n",
       " (2, 7, 18): <gurobi.Constr *Awaiting Model Update*>,\n",
       " (2, 7, 21): <gurobi.Constr *Awaiting Model Update*>,\n",
       " (2, 8, 1): <gurobi.Constr *Awaiting Model Update*>,\n",
       " (2, 8, 2): <gurobi.Constr *Awaiting Model Update*>,\n",
       " (2, 8, 3): <gurobi.Constr *Awaiting Model Update*>,\n",
       " (2, 8, 4): <gurobi.Constr *Awaiting Model Update*>,\n",
       " (2, 8, 5): <gurobi.Constr *Awaiting Model Update*>,\n",
       " (2, 8, 6): <gurobi.Constr *Awaiting Model Update*>,\n",
       " (2, 8, 7): <gurobi.Constr *Awaiting Model Update*>,\n",
       " (2, 8, 8): <gurobi.Constr *Awaiting Model Update*>,\n",
       " (2, 8, 9): <gurobi.Constr *Awaiting Model Update*>,\n",
       " (2, 8, 10): <gurobi.Constr *Awaiting Model Update*>,\n",
       " (2, 8, 11): <gurobi.Constr *Awaiting Model Update*>,\n",
       " (2, 8, 12): <gurobi.Constr *Awaiting Model Update*>,\n",
       " (2, 8, 13): <gurobi.Constr *Awaiting Model Update*>,\n",
       " (2, 8, 14): <gurobi.Constr *Awaiting Model Update*>,\n",
       " (2, 8, 15): <gurobi.Constr *Awaiting Model Update*>,\n",
       " (2, 8, 16): <gurobi.Constr *Awaiting Model Update*>,\n",
       " (2, 8, 18): <gurobi.Constr *Awaiting Model Update*>,\n",
       " (2, 8, 21): <gurobi.Constr *Awaiting Model Update*>,\n",
       " (3, 1, 1): <gurobi.Constr *Awaiting Model Update*>,\n",
       " (3, 1, 2): <gurobi.Constr *Awaiting Model Update*>,\n",
       " (3, 1, 3): <gurobi.Constr *Awaiting Model Update*>,\n",
       " (3, 1, 4): <gurobi.Constr *Awaiting Model Update*>,\n",
       " (3, 1, 5): <gurobi.Constr *Awaiting Model Update*>,\n",
       " (3, 1, 6): <gurobi.Constr *Awaiting Model Update*>,\n",
       " (3, 1, 7): <gurobi.Constr *Awaiting Model Update*>,\n",
       " (3, 1, 8): <gurobi.Constr *Awaiting Model Update*>,\n",
       " (3, 1, 9): <gurobi.Constr *Awaiting Model Update*>,\n",
       " (3, 1, 10): <gurobi.Constr *Awaiting Model Update*>,\n",
       " (3, 1, 11): <gurobi.Constr *Awaiting Model Update*>,\n",
       " (3, 1, 12): <gurobi.Constr *Awaiting Model Update*>,\n",
       " (3, 1, 13): <gurobi.Constr *Awaiting Model Update*>,\n",
       " (3, 1, 14): <gurobi.Constr *Awaiting Model Update*>,\n",
       " (3, 1, 15): <gurobi.Constr *Awaiting Model Update*>,\n",
       " (3, 1, 16): <gurobi.Constr *Awaiting Model Update*>,\n",
       " (3, 1, 19): <gurobi.Constr *Awaiting Model Update*>,\n",
       " (3, 1, 22): <gurobi.Constr *Awaiting Model Update*>,\n",
       " (3, 2, 1): <gurobi.Constr *Awaiting Model Update*>,\n",
       " (3, 2, 2): <gurobi.Constr *Awaiting Model Update*>,\n",
       " (3, 2, 3): <gurobi.Constr *Awaiting Model Update*>,\n",
       " (3, 2, 4): <gurobi.Constr *Awaiting Model Update*>,\n",
       " (3, 2, 5): <gurobi.Constr *Awaiting Model Update*>,\n",
       " (3, 2, 6): <gurobi.Constr *Awaiting Model Update*>,\n",
       " (3, 2, 7): <gurobi.Constr *Awaiting Model Update*>,\n",
       " (3, 2, 8): <gurobi.Constr *Awaiting Model Update*>,\n",
       " (3, 2, 9): <gurobi.Constr *Awaiting Model Update*>,\n",
       " (3, 2, 10): <gurobi.Constr *Awaiting Model Update*>,\n",
       " (3, 2, 11): <gurobi.Constr *Awaiting Model Update*>,\n",
       " (3, 2, 12): <gurobi.Constr *Awaiting Model Update*>,\n",
       " (3, 2, 13): <gurobi.Constr *Awaiting Model Update*>,\n",
       " (3, 2, 14): <gurobi.Constr *Awaiting Model Update*>,\n",
       " (3, 2, 15): <gurobi.Constr *Awaiting Model Update*>,\n",
       " (3, 2, 16): <gurobi.Constr *Awaiting Model Update*>,\n",
       " (3, 2, 19): <gurobi.Constr *Awaiting Model Update*>,\n",
       " (3, 2, 22): <gurobi.Constr *Awaiting Model Update*>,\n",
       " (3, 3, 1): <gurobi.Constr *Awaiting Model Update*>,\n",
       " (3, 3, 2): <gurobi.Constr *Awaiting Model Update*>,\n",
       " (3, 3, 3): <gurobi.Constr *Awaiting Model Update*>,\n",
       " (3, 3, 4): <gurobi.Constr *Awaiting Model Update*>,\n",
       " (3, 3, 5): <gurobi.Constr *Awaiting Model Update*>,\n",
       " (3, 3, 6): <gurobi.Constr *Awaiting Model Update*>,\n",
       " (3, 3, 7): <gurobi.Constr *Awaiting Model Update*>,\n",
       " (3, 3, 8): <gurobi.Constr *Awaiting Model Update*>,\n",
       " (3, 3, 9): <gurobi.Constr *Awaiting Model Update*>,\n",
       " (3, 3, 10): <gurobi.Constr *Awaiting Model Update*>,\n",
       " (3, 3, 11): <gurobi.Constr *Awaiting Model Update*>,\n",
       " (3, 3, 12): <gurobi.Constr *Awaiting Model Update*>,\n",
       " (3, 3, 13): <gurobi.Constr *Awaiting Model Update*>,\n",
       " (3, 3, 14): <gurobi.Constr *Awaiting Model Update*>,\n",
       " (3, 3, 15): <gurobi.Constr *Awaiting Model Update*>,\n",
       " (3, 3, 16): <gurobi.Constr *Awaiting Model Update*>,\n",
       " (3, 3, 19): <gurobi.Constr *Awaiting Model Update*>,\n",
       " (3, 3, 22): <gurobi.Constr *Awaiting Model Update*>,\n",
       " (3, 4, 1): <gurobi.Constr *Awaiting Model Update*>,\n",
       " (3, 4, 2): <gurobi.Constr *Awaiting Model Update*>,\n",
       " (3, 4, 3): <gurobi.Constr *Awaiting Model Update*>,\n",
       " (3, 4, 4): <gurobi.Constr *Awaiting Model Update*>,\n",
       " (3, 4, 5): <gurobi.Constr *Awaiting Model Update*>,\n",
       " (3, 4, 6): <gurobi.Constr *Awaiting Model Update*>,\n",
       " (3, 4, 7): <gurobi.Constr *Awaiting Model Update*>,\n",
       " (3, 4, 8): <gurobi.Constr *Awaiting Model Update*>,\n",
       " (3, 4, 9): <gurobi.Constr *Awaiting Model Update*>,\n",
       " (3, 4, 10): <gurobi.Constr *Awaiting Model Update*>,\n",
       " (3, 4, 11): <gurobi.Constr *Awaiting Model Update*>,\n",
       " (3, 4, 12): <gurobi.Constr *Awaiting Model Update*>,\n",
       " (3, 4, 13): <gurobi.Constr *Awaiting Model Update*>,\n",
       " (3, 4, 14): <gurobi.Constr *Awaiting Model Update*>,\n",
       " (3, 4, 15): <gurobi.Constr *Awaiting Model Update*>,\n",
       " (3, 4, 16): <gurobi.Constr *Awaiting Model Update*>,\n",
       " (3, 4, 19): <gurobi.Constr *Awaiting Model Update*>,\n",
       " (3, 4, 22): <gurobi.Constr *Awaiting Model Update*>,\n",
       " (3, 5, 1): <gurobi.Constr *Awaiting Model Update*>,\n",
       " (3, 5, 2): <gurobi.Constr *Awaiting Model Update*>,\n",
       " (3, 5, 3): <gurobi.Constr *Awaiting Model Update*>,\n",
       " (3, 5, 4): <gurobi.Constr *Awaiting Model Update*>,\n",
       " (3, 5, 5): <gurobi.Constr *Awaiting Model Update*>,\n",
       " (3, 5, 6): <gurobi.Constr *Awaiting Model Update*>,\n",
       " (3, 5, 7): <gurobi.Constr *Awaiting Model Update*>,\n",
       " (3, 5, 8): <gurobi.Constr *Awaiting Model Update*>,\n",
       " (3, 5, 9): <gurobi.Constr *Awaiting Model Update*>,\n",
       " (3, 5, 10): <gurobi.Constr *Awaiting Model Update*>,\n",
       " (3, 5, 11): <gurobi.Constr *Awaiting Model Update*>,\n",
       " (3, 5, 12): <gurobi.Constr *Awaiting Model Update*>,\n",
       " (3, 5, 13): <gurobi.Constr *Awaiting Model Update*>,\n",
       " (3, 5, 14): <gurobi.Constr *Awaiting Model Update*>,\n",
       " (3, 5, 15): <gurobi.Constr *Awaiting Model Update*>,\n",
       " (3, 5, 16): <gurobi.Constr *Awaiting Model Update*>,\n",
       " (3, 5, 19): <gurobi.Constr *Awaiting Model Update*>,\n",
       " (3, 5, 22): <gurobi.Constr *Awaiting Model Update*>,\n",
       " (3, 6, 1): <gurobi.Constr *Awaiting Model Update*>,\n",
       " (3, 6, 2): <gurobi.Constr *Awaiting Model Update*>,\n",
       " (3, 6, 3): <gurobi.Constr *Awaiting Model Update*>,\n",
       " (3, 6, 4): <gurobi.Constr *Awaiting Model Update*>,\n",
       " (3, 6, 5): <gurobi.Constr *Awaiting Model Update*>,\n",
       " (3, 6, 6): <gurobi.Constr *Awaiting Model Update*>,\n",
       " (3, 6, 7): <gurobi.Constr *Awaiting Model Update*>,\n",
       " (3, 6, 8): <gurobi.Constr *Awaiting Model Update*>,\n",
       " (3, 6, 9): <gurobi.Constr *Awaiting Model Update*>,\n",
       " (3, 6, 10): <gurobi.Constr *Awaiting Model Update*>,\n",
       " (3, 6, 11): <gurobi.Constr *Awaiting Model Update*>,\n",
       " (3, 6, 12): <gurobi.Constr *Awaiting Model Update*>,\n",
       " (3, 6, 13): <gurobi.Constr *Awaiting Model Update*>,\n",
       " (3, 6, 14): <gurobi.Constr *Awaiting Model Update*>,\n",
       " (3, 6, 15): <gurobi.Constr *Awaiting Model Update*>,\n",
       " (3, 6, 16): <gurobi.Constr *Awaiting Model Update*>,\n",
       " (3, 6, 19): <gurobi.Constr *Awaiting Model Update*>,\n",
       " (3, 6, 22): <gurobi.Constr *Awaiting Model Update*>,\n",
       " (3, 7, 1): <gurobi.Constr *Awaiting Model Update*>,\n",
       " (3, 7, 2): <gurobi.Constr *Awaiting Model Update*>,\n",
       " (3, 7, 3): <gurobi.Constr *Awaiting Model Update*>,\n",
       " (3, 7, 4): <gurobi.Constr *Awaiting Model Update*>,\n",
       " (3, 7, 5): <gurobi.Constr *Awaiting Model Update*>,\n",
       " (3, 7, 6): <gurobi.Constr *Awaiting Model Update*>,\n",
       " (3, 7, 7): <gurobi.Constr *Awaiting Model Update*>,\n",
       " (3, 7, 8): <gurobi.Constr *Awaiting Model Update*>,\n",
       " (3, 7, 9): <gurobi.Constr *Awaiting Model Update*>,\n",
       " (3, 7, 10): <gurobi.Constr *Awaiting Model Update*>,\n",
       " (3, 7, 11): <gurobi.Constr *Awaiting Model Update*>,\n",
       " (3, 7, 12): <gurobi.Constr *Awaiting Model Update*>,\n",
       " (3, 7, 13): <gurobi.Constr *Awaiting Model Update*>,\n",
       " (3, 7, 14): <gurobi.Constr *Awaiting Model Update*>,\n",
       " (3, 7, 15): <gurobi.Constr *Awaiting Model Update*>,\n",
       " (3, 7, 16): <gurobi.Constr *Awaiting Model Update*>,\n",
       " (3, 7, 19): <gurobi.Constr *Awaiting Model Update*>,\n",
       " (3, 7, 22): <gurobi.Constr *Awaiting Model Update*>,\n",
       " (3, 8, 1): <gurobi.Constr *Awaiting Model Update*>,\n",
       " (3, 8, 2): <gurobi.Constr *Awaiting Model Update*>,\n",
       " (3, 8, 3): <gurobi.Constr *Awaiting Model Update*>,\n",
       " (3, 8, 4): <gurobi.Constr *Awaiting Model Update*>,\n",
       " (3, 8, 5): <gurobi.Constr *Awaiting Model Update*>,\n",
       " (3, 8, 6): <gurobi.Constr *Awaiting Model Update*>,\n",
       " (3, 8, 7): <gurobi.Constr *Awaiting Model Update*>,\n",
       " (3, 8, 8): <gurobi.Constr *Awaiting Model Update*>,\n",
       " (3, 8, 9): <gurobi.Constr *Awaiting Model Update*>,\n",
       " (3, 8, 10): <gurobi.Constr *Awaiting Model Update*>,\n",
       " (3, 8, 11): <gurobi.Constr *Awaiting Model Update*>,\n",
       " (3, 8, 12): <gurobi.Constr *Awaiting Model Update*>,\n",
       " (3, 8, 13): <gurobi.Constr *Awaiting Model Update*>,\n",
       " (3, 8, 14): <gurobi.Constr *Awaiting Model Update*>,\n",
       " (3, 8, 15): <gurobi.Constr *Awaiting Model Update*>,\n",
       " (3, 8, 16): <gurobi.Constr *Awaiting Model Update*>,\n",
       " (3, 8, 19): <gurobi.Constr *Awaiting Model Update*>,\n",
       " (3, 8, 22): <gurobi.Constr *Awaiting Model Update*>}"
      ]
     },
     "execution_count": 156,
     "metadata": {},
     "output_type": "execute_result"
    }
   ],
   "source": [
    "m.addConstrs(((l[i,v]+Qj[j]-l[j,v]<=K[v]*(1-x[i,j,v])) for v in V  for j in NP_v[v] for i in N[v] if ((i,j) in Av[v])), name = \"Const_5\")"
   ]
  },
  {
   "cell_type": "code",
   "execution_count": 157,
   "metadata": {},
   "outputs": [],
   "source": [
    "c6 = m.addConstrs(((l[i,v]-Qj[j]-l[n_cargos+j,v]<=K[v]*(1-x[i,n_cargos+j,v]))  for v in V for j in NP_v[v] for i in N[v] if ((i,j+n_cargos) in Av[v])), name = \"Const_6\")"
   ]
  },
  {
   "cell_type": "code",
   "execution_count": 158,
   "metadata": {},
   "outputs": [
    {
     "data": {
      "text/plain": [
       "{(1, 1): <gurobi.Constr *Awaiting Model Update*>,\n",
       " (1, 2): <gurobi.Constr *Awaiting Model Update*>,\n",
       " (1, 3): <gurobi.Constr *Awaiting Model Update*>,\n",
       " (1, 4): <gurobi.Constr *Awaiting Model Update*>,\n",
       " (1, 5): <gurobi.Constr *Awaiting Model Update*>,\n",
       " (1, 7): <gurobi.Constr *Awaiting Model Update*>,\n",
       " (1, 8): <gurobi.Constr *Awaiting Model Update*>,\n",
       " (2, 1): <gurobi.Constr *Awaiting Model Update*>,\n",
       " (2, 2): <gurobi.Constr *Awaiting Model Update*>,\n",
       " (2, 3): <gurobi.Constr *Awaiting Model Update*>,\n",
       " (2, 4): <gurobi.Constr *Awaiting Model Update*>,\n",
       " (2, 5): <gurobi.Constr *Awaiting Model Update*>,\n",
       " (2, 6): <gurobi.Constr *Awaiting Model Update*>,\n",
       " (2, 7): <gurobi.Constr *Awaiting Model Update*>,\n",
       " (2, 8): <gurobi.Constr *Awaiting Model Update*>,\n",
       " (3, 1): <gurobi.Constr *Awaiting Model Update*>,\n",
       " (3, 2): <gurobi.Constr *Awaiting Model Update*>,\n",
       " (3, 3): <gurobi.Constr *Awaiting Model Update*>,\n",
       " (3, 4): <gurobi.Constr *Awaiting Model Update*>,\n",
       " (3, 5): <gurobi.Constr *Awaiting Model Update*>,\n",
       " (3, 6): <gurobi.Constr *Awaiting Model Update*>,\n",
       " (3, 7): <gurobi.Constr *Awaiting Model Update*>,\n",
       " (3, 8): <gurobi.Constr *Awaiting Model Update*>}"
      ]
     },
     "execution_count": 158,
     "metadata": {},
     "output_type": "execute_result"
    }
   ],
   "source": [
    "m.addConstrs(((l[i,v]<=K[v]) for v in V for i in NP_v[v]), name = \"Const_7_ub\")"
   ]
  },
  {
   "cell_type": "code",
   "execution_count": 159,
   "metadata": {},
   "outputs": [
    {
     "data": {
      "text/plain": [
       "{(1, 1): <gurobi.Constr *Awaiting Model Update*>,\n",
       " (1, 2): <gurobi.Constr *Awaiting Model Update*>,\n",
       " (1, 3): <gurobi.Constr *Awaiting Model Update*>,\n",
       " (1, 4): <gurobi.Constr *Awaiting Model Update*>,\n",
       " (1, 5): <gurobi.Constr *Awaiting Model Update*>,\n",
       " (1, 7): <gurobi.Constr *Awaiting Model Update*>,\n",
       " (1, 8): <gurobi.Constr *Awaiting Model Update*>,\n",
       " (2, 1): <gurobi.Constr *Awaiting Model Update*>,\n",
       " (2, 2): <gurobi.Constr *Awaiting Model Update*>,\n",
       " (2, 3): <gurobi.Constr *Awaiting Model Update*>,\n",
       " (2, 4): <gurobi.Constr *Awaiting Model Update*>,\n",
       " (2, 5): <gurobi.Constr *Awaiting Model Update*>,\n",
       " (2, 6): <gurobi.Constr *Awaiting Model Update*>,\n",
       " (2, 7): <gurobi.Constr *Awaiting Model Update*>,\n",
       " (2, 8): <gurobi.Constr *Awaiting Model Update*>,\n",
       " (3, 1): <gurobi.Constr *Awaiting Model Update*>,\n",
       " (3, 2): <gurobi.Constr *Awaiting Model Update*>,\n",
       " (3, 3): <gurobi.Constr *Awaiting Model Update*>,\n",
       " (3, 4): <gurobi.Constr *Awaiting Model Update*>,\n",
       " (3, 5): <gurobi.Constr *Awaiting Model Update*>,\n",
       " (3, 6): <gurobi.Constr *Awaiting Model Update*>,\n",
       " (3, 7): <gurobi.Constr *Awaiting Model Update*>,\n",
       " (3, 8): <gurobi.Constr *Awaiting Model Update*>}"
      ]
     },
     "execution_count": 159,
     "metadata": {},
     "output_type": "execute_result"
    }
   ],
   "source": [
    "m.addConstrs(((l[i,v]>=0) for v in V for i in NP_v[v]), name = \"Const_7_lb\")"
   ]
  },
  {
   "cell_type": "code",
   "execution_count": 160,
   "metadata": {},
   "outputs": [],
   "source": [
    "c8 = m.addConstrs(((t[i,v]+T_ijv[i,j,v]-t[j,v]<=(RT_i[i]+T_ijv[i,j,v])*(1-x[i,j,v])) for v in V for (i,j) in Av[v]), name = \"Const_8\")"
   ]
  },
  {
   "cell_type": "code",
   "execution_count": 161,
   "metadata": {},
   "outputs": [],
   "source": [
    "c9 = m.addConstrs(((sum(x[i,j,v] for j in N[v])-sum(x[n_cargos+i,j,v] for j in N[v])==0) for v in V for i in NP_v[v]), name = \"Const_9\")"
   ]
  },
  {
   "cell_type": "code",
   "execution_count": 162,
   "metadata": {},
   "outputs": [],
   "source": [
    "c10 = m.addConstrs(((t[i,v]+T_ijv[i,n_cargos+i,v]-t[n_cargos+i,v]<=0) for v in V for i in NP_v[v] ), name = \"Const_10\")"
   ]
  },
  {
   "cell_type": "code",
   "execution_count": 163,
   "metadata": {},
   "outputs": [],
   "source": [
    "c11ub = m.addConstrs(((t[i,v]<=RT_i[i]) for v in V for i in N[v]), name = \"Const_11_ub\")"
   ]
  },
  {
   "cell_type": "code",
   "execution_count": 164,
   "metadata": {},
   "outputs": [],
   "source": [
    "c11lb = m.addConstrs(((LT_i[i]<=t[i,v]) for v in V for i in N[v]), name = \"Const_11_lb\")"
   ]
  },
  {
   "cell_type": "code",
   "execution_count": 165,
   "metadata": {},
   "outputs": [
    {
     "name": "stdout",
     "output_type": "stream",
     "text": [
      "Gurobi Optimizer version 9.0.3 build v9.0.3rc0 (win64)\n",
      "Optimize a model with 1963 rows, 1564 columns and 8056 nonzeros\n",
      "Model fingerprint: 0x131d671c\n",
      "Variable types: 0 continuous, 1564 integer (1460 binary)\n",
      "Coefficient statistics:\n",
      "  Matrix range     [1e+00, 1e+03]\n",
      "  Objective range  [1e+04, 9e+05]\n",
      "  Bounds range     [1e+00, 1e+00]\n",
      "  RHS range        [1e+00, 1e+03]\n",
      "Found heuristic solution: objective 0.0000000\n",
      "\n",
      "Explored 0 nodes (0 simplex iterations) in 0.02 seconds\n",
      "Thread count was 1 (of 8 available processors)\n",
      "\n",
      "Solution count 1: 0 \n",
      "\n",
      "Optimal solution found (tolerance 1.00e-04)\n",
      "Best objective 0.000000000000e+00, best bound 0.000000000000e+00, gap 0.0000%\n",
      "\n",
      " Valor óptimo:   0.0000 \n",
      "\n"
     ]
    }
   ],
   "source": [
    "# Solve\n",
    "m.optimize()\n",
    "\n",
    "valorobjetivo = m.objval\n",
    "\n",
    "\"\"\"for v in m.getVars():\n",
    "    print('%s %g' % (v.varName, v.x))\"\"\"\n",
    "\n",
    "print('\\n Valor óptimo: %8.4f \\n' % valorobjetivo)\n",
    "\n",
    "m.write(\"Transporte_final.sol\")\n",
    "m.write(\"model.lp\")"
   ]
  }
 ],
 "metadata": {
  "kernelspec": {
   "display_name": "Python 3",
   "language": "python",
   "name": "python3"
  },
  "language_info": {
   "codemirror_mode": {
    "name": "ipython",
    "version": 3
   },
   "file_extension": ".py",
   "mimetype": "text/x-python",
   "name": "python",
   "nbconvert_exporter": "python",
   "pygments_lexer": "ipython3",
   "version": "3.8.6"
  }
 },
 "nbformat": 4,
 "nbformat_minor": 4
}
